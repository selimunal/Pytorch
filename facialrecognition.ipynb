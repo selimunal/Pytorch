{
 "cells": [
  {
   "attachments": {},
   "cell_type": "markdown",
   "metadata": {},
   "source": [
    "### Loading the data"
   ]
  },
  {
   "cell_type": "code",
   "execution_count": 1,
   "metadata": {},
   "outputs": [],
   "source": [
    "import torch\n",
    "import torch.nn as nn\n",
    "import torch.nn.functional as F\n",
    "import torchvision\n",
    "import torchvision.transforms as transforms\n",
    "\n",
    "import numpy as np\n",
    "import matplotlib.pyplot as plt\n",
    "\n",
    "from sklearn.utils import shuffle\n",
    "from datetime import datetime\n",
    "from glob import glob\n",
    "from collections import Counter"
   ]
  },
  {
   "cell_type": "code",
   "execution_count": 2,
   "metadata": {},
   "outputs": [
    {
     "name": "stdout",
     "output_type": "stream",
     "text": [
      "2.12.0\n"
     ]
    }
   ],
   "source": [
    "#useful for image utility\n",
    "import tensorflow as tf\n",
    "print(tf.__version__)\n",
    "#from keras.preprocessing import image\n",
    "# you dont need this here this has been changed"
   ]
  },
  {
   "cell_type": "code",
   "execution_count": 3,
   "metadata": {},
   "outputs": [
    {
     "name": "stdout",
     "output_type": "stream",
     "text": [
      " Volume in drive C has no label.\n",
      " Volume Serial Number is 0606-FA3E\n",
      "\n",
      " Directory of c:\\Users\\slm\\Desktop\\LINUX\\pytorch\n",
      "\n",
      "05/04/2023  15:54    <DIR>          .\n",
      "05/04/2023  15:54    <DIR>          ..\n",
      "05/04/2023  15:54    <DIR>          .ipynb_checkpoints\n",
      "07/03/2023  19:35           162,488 88GAN.ipynb\n",
      "05/04/2023  15:54    <DIR>          facialrecog\n",
      "17/05/2023  14:02            95,444 facialrecognition.ipynb\n",
      "05/04/2023  15:54    <DIR>          gan_images\n",
      "05/04/2023  15:54    <DIR>          MNIST\n",
      "05/04/2023  15:54    <DIR>          Storck_trading_DRL\n",
      "25/03/2023  21:27           271,671 uncertainityestimation.ipynb\n",
      "               3 File(s)        529,603 bytes\n",
      "               7 Dir(s)  360,202,866,688 bytes free\n"
     ]
    }
   ],
   "source": [
    "ls"
   ]
  },
  {
   "cell_type": "code",
   "execution_count": 4,
   "metadata": {},
   "outputs": [
    {
     "name": "stdout",
     "output_type": "stream",
     "text": [
      "c:\\Users\\slm\\Desktop\\LINUX\\pytorch\\facialrecog\n"
     ]
    }
   ],
   "source": [
    "cd facialrecog"
   ]
  },
  {
   "cell_type": "code",
   "execution_count": 5,
   "metadata": {},
   "outputs": [
    {
     "name": "stdout",
     "output_type": "stream",
     "text": [
      " Volume in drive C has no label.\n",
      " Volume Serial Number is 0606-FA3E\n",
      "\n",
      " Directory of c:\\Users\\slm\\Desktop\\LINUX\\pytorch\\facialrecog\n",
      "\n",
      "05/04/2023  15:54    <DIR>          .\n",
      "05/04/2023  15:54    <DIR>          ..\n",
      "28/03/2023  21:13        12,333,304 archive.zip\n",
      "05/04/2023  15:54    <DIR>          data\n",
      "05/10/2019  11:12             1,382 Readme.txt\n",
      "05/10/2019  11:12            35,413 subject01.centerlight\n",
      "05/10/2019  11:12            36,294 subject01.glasses\n",
      "05/10/2019  11:12            36,692 subject01.happy\n",
      "05/10/2019  11:12            42,921 subject01.leftlight\n",
      "05/10/2019  11:12            34,100 subject01.noglasses\n",
      "05/10/2019  11:12            36,129 subject01.normal\n",
      "05/10/2019  11:12            71,627 subject01.rightlight\n",
      "05/10/2019  11:12            36,370 subject01.sad\n",
      "05/10/2019  11:12            36,307 subject01.sleepy\n",
      "05/10/2019  11:12            36,647 subject01.surprised\n",
      "05/10/2019  11:12            36,381 subject01.wink\n",
      "05/10/2019  11:12            31,137 subject02.centerlight\n",
      "05/10/2019  11:12            45,239 subject02.glasses\n",
      "05/10/2019  11:12            43,765 subject02.happy\n",
      "05/10/2019  11:12            38,159 subject02.leftlight\n",
      "05/10/2019  11:12            43,681 subject02.noglasses\n",
      "05/10/2019  11:12            43,681 subject02.normal\n",
      "05/10/2019  11:12            62,924 subject02.rightlight\n",
      "05/10/2019  11:12            43,439 subject02.sad\n",
      "05/10/2019  11:12            43,518 subject02.sleepy\n",
      "05/10/2019  11:12            45,447 subject02.surprised\n",
      "05/10/2019  11:12            43,080 subject02.wink\n",
      "05/10/2019  11:12            26,833 subject03.centerlight\n",
      "05/10/2019  11:12            27,292 subject03.glasses\n",
      "05/10/2019  11:12            28,032 subject03.happy\n",
      "05/10/2019  11:12            34,932 subject03.leftlight\n",
      "05/10/2019  11:12            27,895 subject03.noglasses\n",
      "05/10/2019  11:12            27,895 subject03.normal\n",
      "05/10/2019  11:12            58,502 subject03.rightlight\n",
      "05/10/2019  11:12            28,266 subject03.sad\n",
      "05/10/2019  11:12            27,462 subject03.sleepy\n",
      "05/10/2019  11:12            28,244 subject03.surprised\n",
      "05/10/2019  11:12            27,580 subject03.wink\n",
      "05/10/2019  11:12            28,280 subject04.centerlight\n",
      "05/10/2019  11:12            38,740 subject04.glasses\n",
      "05/10/2019  11:12            37,556 subject04.happy\n",
      "05/10/2019  11:12            41,187 subject04.leftlight\n",
      "05/10/2019  11:12            37,351 subject04.noglasses\n",
      "05/10/2019  11:12            37,126 subject04.normal\n",
      "05/10/2019  11:12            67,257 subject04.rightlight\n",
      "05/10/2019  11:12            37,126 subject04.sad\n",
      "05/10/2019  11:12            37,972 subject04.sleepy\n",
      "05/10/2019  11:12            37,972 subject04.surprised\n",
      "05/10/2019  11:12            37,002 subject04.wink\n",
      "05/10/2019  11:12            30,465 subject05.centerlight\n",
      "05/10/2019  11:12            35,701 subject05.glasses\n",
      "05/10/2019  11:12            36,056 subject05.happy\n",
      "05/10/2019  11:12            40,304 subject05.leftlight\n",
      "05/10/2019  11:12            35,649 subject05.noglasses\n",
      "05/10/2019  11:12            35,427 subject05.normal\n",
      "05/10/2019  11:12            69,306 subject05.rightlight\n",
      "05/10/2019  11:12            35,278 subject05.sad\n",
      "05/10/2019  11:12            35,436 subject05.sleepy\n",
      "05/10/2019  11:12            35,876 subject05.surprised\n",
      "05/10/2019  11:12            36,228 subject05.wink\n",
      "05/10/2019  11:12            35,518 subject06.centerlight\n",
      "05/10/2019  11:12            48,094 subject06.glasses\n",
      "05/10/2019  11:12            52,278 subject06.happy\n",
      "05/10/2019  11:12            47,221 subject06.leftlight\n",
      "05/10/2019  11:12            51,868 subject06.noglasses\n",
      "05/10/2019  11:12            51,868 subject06.normal\n",
      "05/10/2019  11:12            38,635 subject06.rightlight\n",
      "05/10/2019  11:12            50,709 subject06.sad\n",
      "05/10/2019  11:12            49,320 subject06.sleepy\n",
      "05/10/2019  11:12            48,586 subject06.surprised\n",
      "05/10/2019  11:12            49,320 subject06.wink\n",
      "05/10/2019  11:12            28,749 subject07.centerlight\n",
      "05/10/2019  11:12            28,747 subject07.glasses\n",
      "05/10/2019  11:12            28,422 subject07.happy\n",
      "05/10/2019  11:12            37,623 subject07.leftlight\n",
      "05/10/2019  11:12            27,884 subject07.noglasses\n",
      "05/10/2019  11:12            27,884 subject07.normal\n",
      "05/10/2019  11:12            47,107 subject07.rightlight\n",
      "05/10/2019  11:12            27,440 subject07.sad\n",
      "05/10/2019  11:12            27,757 subject07.sleepy\n",
      "05/10/2019  11:12            26,983 subject07.surprised\n",
      "05/10/2019  11:12            26,607 subject07.wink\n",
      "05/10/2019  11:12            29,392 subject08.centerlight\n",
      "05/10/2019  11:12            29,835 subject08.glasses\n",
      "05/10/2019  11:12            39,401 subject08.happy\n",
      "05/10/2019  11:12            44,443 subject08.leftlight\n",
      "05/10/2019  11:12            38,150 subject08.noglasses\n",
      "05/10/2019  11:12            29,835 subject08.normal\n",
      "05/10/2019  11:12            67,325 subject08.rightlight\n",
      "05/10/2019  11:12            40,292 subject08.sad\n",
      "05/10/2019  11:12            37,758 subject08.sleepy\n",
      "05/10/2019  11:12            38,835 subject08.surprised\n",
      "05/10/2019  11:12            40,136 subject08.wink\n",
      "05/10/2019  11:12            28,340 subject09.centerlight\n",
      "05/10/2019  11:12            36,716 subject09.glasses\n",
      "05/10/2019  11:12            37,499 subject09.happy\n",
      "05/10/2019  11:12            39,374 subject09.leftlight\n",
      "05/10/2019  11:12            37,712 subject09.noglasses\n",
      "05/10/2019  11:12            37,712 subject09.normal\n",
      "05/10/2019  11:12            48,495 subject09.rightlight\n",
      "05/10/2019  11:12            35,689 subject09.sad\n",
      "05/10/2019  11:12            36,891 subject09.sleepy\n",
      "05/10/2019  11:12            37,827 subject09.surprised\n",
      "05/10/2019  11:12            36,756 subject09.wink\n",
      "05/10/2019  11:12            31,038 subject10.centerlight\n",
      "05/10/2019  11:12            31,487 subject10.glasses\n",
      "05/10/2019  11:12            32,165 subject10.happy\n",
      "05/10/2019  11:12            43,370 subject10.leftlight\n",
      "05/10/2019  11:12            32,242 subject10.noglasses\n",
      "05/10/2019  11:12            31,899 subject10.normal\n",
      "05/10/2019  11:12            40,129 subject10.rightlight\n",
      "05/10/2019  11:12            31,799 subject10.sad\n",
      "05/10/2019  11:12            31,591 subject10.sleepy\n",
      "05/10/2019  11:12            34,570 subject10.surprised\n",
      "05/10/2019  11:12            31,368 subject10.wink\n",
      "05/10/2019  11:12            38,427 subject11.centerlight\n",
      "05/10/2019  11:12            36,143 subject11.glasses\n",
      "05/10/2019  11:12            35,759 subject11.happy\n",
      "05/10/2019  11:12            45,192 subject11.leftlight\n",
      "05/10/2019  11:12            36,029 subject11.noglasses\n",
      "05/10/2019  11:12            35,950 subject11.normal\n",
      "05/10/2019  11:12            47,796 subject11.rightlight\n",
      "05/10/2019  11:12            36,206 subject11.sad\n",
      "05/10/2019  11:12            36,077 subject11.sleepy\n",
      "05/10/2019  11:12            36,186 subject11.surprised\n",
      "05/10/2019  11:12            36,002 subject11.wink\n",
      "05/10/2019  11:12            37,084 subject12.centerlight\n",
      "05/10/2019  11:12            44,786 subject12.glasses\n",
      "05/10/2019  11:12            48,200 subject12.happy\n",
      "05/10/2019  11:12            41,336 subject12.leftlight\n",
      "05/10/2019  11:12            43,523 subject12.noglasses\n",
      "05/10/2019  11:12            43,523 subject12.normal\n",
      "05/10/2019  11:12            45,098 subject12.rightlight\n",
      "05/10/2019  11:12            49,958 subject12.sad\n",
      "05/10/2019  11:12            52,698 subject12.sleepy\n",
      "05/10/2019  11:12            49,628 subject12.surprised\n",
      "05/10/2019  11:12            50,088 subject12.wink\n",
      "05/10/2019  11:12            21,035 subject13.centerlight\n",
      "05/10/2019  11:12            24,749 subject13.glasses\n",
      "05/10/2019  11:12            24,833 subject13.happy\n",
      "05/10/2019  11:12            34,368 subject13.leftlight\n",
      "05/10/2019  11:12            23,762 subject13.noglasses\n",
      "05/10/2019  11:12            24,514 subject13.normal\n",
      "05/10/2019  11:12            47,721 subject13.rightlight\n",
      "05/10/2019  11:12            24,767 subject13.sad\n",
      "05/10/2019  11:12            24,308 subject13.sleepy\n",
      "05/10/2019  11:12            25,000 subject13.surprised\n",
      "05/10/2019  11:12            24,091 subject13.wink\n",
      "05/10/2019  11:12            26,116 subject14.centerlight\n",
      "05/10/2019  11:12            30,658 subject14.glasses\n",
      "05/10/2019  11:12            27,726 subject14.happy\n",
      "05/10/2019  11:12            45,027 subject14.leftlight\n",
      "05/10/2019  11:12            30,820 subject14.noglasses\n",
      "05/10/2019  11:12            30,820 subject14.normal\n",
      "05/10/2019  11:12            39,978 subject14.rightlight\n",
      "05/10/2019  11:12            29,975 subject14.sad\n",
      "05/10/2019  11:12            31,269 subject14.sleepy\n",
      "05/10/2019  11:12            28,816 subject14.surprised\n",
      "05/10/2019  11:12            30,743 subject14.wink\n",
      "05/10/2019  11:12            38,710 subject15.centerlight\n",
      "05/10/2019  11:12            40,805 subject15.glasses\n",
      "05/10/2019  11:12            36,164 subject15.happy\n",
      "05/10/2019  11:12            60,648 subject15.leftlight\n",
      "05/10/2019  11:12            39,667 subject15.noglasses\n",
      "05/10/2019  11:12            34,914 subject15.normal\n",
      "05/10/2019  11:12            47,646 subject15.rightlight\n",
      "05/10/2019  11:12            36,002 subject15.sad\n",
      "05/10/2019  11:12            39,426 subject15.sleepy\n",
      "05/10/2019  11:12            40,206 subject15.surprised\n",
      "05/10/2019  11:12            35,199 subject15.wink\n",
      "             167 File(s)     18,568,728 bytes\n",
      "               3 Dir(s)  360,202,866,688 bytes free\n"
     ]
    }
   ],
   "source": [
    "ls"
   ]
  },
  {
   "cell_type": "code",
   "execution_count": 6,
   "metadata": {},
   "outputs": [],
   "source": [
    "#!unzip archive.zip"
   ]
  },
  {
   "cell_type": "code",
   "execution_count": 7,
   "metadata": {},
   "outputs": [],
   "source": [
    "files=glob(\"data/subject*\")"
   ]
  },
  {
   "cell_type": "code",
   "execution_count": 8,
   "metadata": {},
   "outputs": [],
   "source": [
    "np.random.shuffle(files)"
   ]
  },
  {
   "cell_type": "code",
   "execution_count": 9,
   "metadata": {},
   "outputs": [
    {
     "data": {
      "text/plain": [
       "165"
      ]
     },
     "execution_count": 9,
     "metadata": {},
     "output_type": "execute_result"
    }
   ],
   "source": [
    "#number of samples\n",
    "N=len(files)\n",
    "N"
   ]
  },
  {
   "cell_type": "code",
   "execution_count": 10,
   "metadata": {},
   "outputs": [],
   "source": [
    "import keras.utils as image\n",
    "H,W= 60,80\n",
    "def load_img(filepath):\n",
    "    #load image and downsample the image\n",
    "    img=image.img_to_array(image.load_img(filepath,target_size=[H,W])).astype(\"uint8\")\n",
    "    return img"
   ]
  },
  {
   "cell_type": "code",
   "execution_count": 11,
   "metadata": {},
   "outputs": [
    {
     "data": {
      "image/png": "[encoded data removed]",
      "text/plain": [
       "<Figure size 640x480 with 1 Axes>"
      ]
     },
     "metadata": {},
     "output_type": "display_data"
    }
   ],
   "source": [
    "#look at an image for me\n",
    "\n",
    "\n",
    "img=load_img(np.random.choice(files))\n",
    "plt.imshow(img)\n",
    "plt.show()"
   ]
  },
  {
   "cell_type": "code",
   "execution_count": 12,
   "metadata": {},
   "outputs": [
    {
     "data": {
      "text/plain": [
       "(60, 80, 3)"
      ]
     },
     "execution_count": 12,
     "metadata": {},
     "output_type": "execute_result"
    }
   ],
   "source": [
    "img.shape"
   ]
  },
  {
   "cell_type": "code",
   "execution_count": 13,
   "metadata": {},
   "outputs": [
    {
     "data": {
      "text/plain": [
       "(243, 320, 3)"
      ]
     },
     "execution_count": 13,
     "metadata": {},
     "output_type": "execute_result"
    }
   ],
   "source": [
    "image.img_to_array(image.load_img(np.random.choice(files))).shape"
   ]
  },
  {
   "cell_type": "code",
   "execution_count": 14,
   "metadata": {},
   "outputs": [
    {
     "data": {
      "text/plain": [
       "(255, 1)"
      ]
     },
     "execution_count": 14,
     "metadata": {},
     "output_type": "execute_result"
    }
   ],
   "source": [
    "img.max(), img.min()"
   ]
  },
  {
   "cell_type": "code",
   "execution_count": 15,
   "metadata": {},
   "outputs": [],
   "source": [
    "def grayscale(img):\n",
    "    return img.mean(axis=-1)"
   ]
  },
  {
   "cell_type": "code",
   "execution_count": 16,
   "metadata": {},
   "outputs": [
    {
     "data": {
      "text/plain": [
       "(True, True)"
      ]
     },
     "execution_count": 16,
     "metadata": {},
     "output_type": "execute_result"
    }
   ],
   "source": [
    "np.all(img[:,:,0]==img[:,:,1]), np.all(img[:,:,0]==img[:,:,2])"
   ]
  },
  {
   "cell_type": "code",
   "execution_count": 17,
   "metadata": {},
   "outputs": [
    {
     "data": {
      "text/plain": [
       "array([[ True,  True,  True, ...,  True,  True,  True],\n",
       "       [ True,  True,  True, ...,  True,  True,  True],\n",
       "       [ True,  True,  True, ...,  True,  True,  True],\n",
       "       ...,\n",
       "       [ True,  True,  True, ...,  True,  True,  True],\n",
       "       [ True,  True,  True, ...,  True,  True,  True],\n",
       "       [ True,  True,  True, ...,  True,  True,  True]])"
      ]
     },
     "execution_count": 17,
     "metadata": {},
     "output_type": "execute_result"
    }
   ],
   "source": [
    "img[:,:,0]==img[:,:,1]"
   ]
  },
  {
   "cell_type": "code",
   "execution_count": 18,
   "metadata": {},
   "outputs": [],
   "source": [
    "#load images as arrays\n",
    "shape=(N,H,W)\n",
    "\n",
    "images=np.zeros(shape)\n",
    "for i,f in enumerate(files):\n",
    "    img=grayscale(load_img(f)) /255.\n",
    "    images[i]=img"
   ]
  },
  {
   "cell_type": "code",
   "execution_count": 19,
   "metadata": {},
   "outputs": [],
   "source": [
    "#make the labels\n",
    "# all the filenames are sth subkuect112.sad\n",
    "labels=np.zeros(N)\n",
    "for i,f in enumerate(files):\n",
    "    filename=f.rsplit(\"/\",1)[-1]\n",
    "    subject_num=filename.split(\".\",1)[0]\n",
    "\n",
    "    #subtract 1 since the filenames start from 1 as python\n",
    "    #starts from 0\n",
    "    idx=int(subject_num.replace(\"data\\subject\",\"\"))-1\n",
    "    labels[i]=idx"
   ]
  },
  {
   "cell_type": "code",
   "execution_count": 20,
   "metadata": {},
   "outputs": [
    {
     "data": {
      "text/plain": [
       "array([ 4., 10.,  4., 12.,  5.,  2.,  9.,  2.,  4.,  0.,  9., 10.,  3.,\n",
       "       12., 14.,  1.,  0., 13.,  5.,  3.,  8.,  4.,  8., 14.,  4., 14.,\n",
       "        6.,  8.,  6.,  2.,  9.,  9., 13., 14.,  6., 13.,  2., 11., 13.,\n",
       "        7., 11.,  3., 14.,  8.,  0.,  7.,  7.,  9., 10.,  8.,  2.,  9.,\n",
       "        3.,  3.,  5.,  3., 10., 13., 12.,  8., 11., 13.,  5., 11., 11.,\n",
       "        4., 12.,  7.,  1., 10., 12.,  7.,  9., 10., 10.,  8., 12.,  8.,\n",
       "       12.,  0.,  0.,  6.,  6., 11.,  3.,  3., 11.,  1., 10.,  6.,  9.,\n",
       "        5.,  0.,  8., 12., 13., 14., 14.,  1.,  2.,  4., 11.,  1.,  6.,\n",
       "        4.,  7.,  1., 12.,  2.,  1.,  8.,  5., 11.,  6.,  3.,  3., 13.,\n",
       "        5.,  0., 13.,  7.,  0.,  5.,  1.,  6.,  2.,  9.,  7., 14.,  3.,\n",
       "       13., 14., 12., 10.,  1., 10.,  5.,  2.,  0.,  9.,  5., 14.,  7.,\n",
       "        6.,  7.,  7.,  4., 12., 11.,  2., 11.,  0.,  5., 10.,  1.,  0.,\n",
       "        9.,  8., 14., 13.,  4.,  1.,  2.,  6.,  4.])"
      ]
     },
     "execution_count": 20,
     "metadata": {},
     "output_type": "execute_result"
    }
   ],
   "source": [
    "labels"
   ]
  },
  {
   "cell_type": "code",
   "execution_count": 21,
   "metadata": {},
   "outputs": [
    {
     "data": {
      "text/plain": [
       "Counter({4.0: 11,\n",
       "         10.0: 11,\n",
       "         12.0: 11,\n",
       "         5.0: 11,\n",
       "         2.0: 11,\n",
       "         9.0: 11,\n",
       "         0.0: 11,\n",
       "         3.0: 11,\n",
       "         14.0: 11,\n",
       "         1.0: 11,\n",
       "         13.0: 11,\n",
       "         8.0: 11,\n",
       "         6.0: 11,\n",
       "         11.0: 11,\n",
       "         7.0: 11})"
      ]
     },
     "execution_count": 21,
     "metadata": {},
     "output_type": "execute_result"
    }
   ],
   "source": [
    "label_count=Counter(labels)\n",
    "label_count"
   ]
  },
  {
   "cell_type": "code",
   "execution_count": 22,
   "metadata": {},
   "outputs": [],
   "source": [
    "#int(f.rsplit(\"/\",1)[-1].split(\".\",1)[0].replace(\"subject\",\"\"))"
   ]
  },
  {
   "cell_type": "code",
   "execution_count": 23,
   "metadata": {},
   "outputs": [],
   "source": [
    "#Counter(f)"
   ]
  },
  {
   "cell_type": "code",
   "execution_count": 24,
   "metadata": {},
   "outputs": [
    {
     "data": {
      "text/plain": [
       "{0.0,\n",
       " 1.0,\n",
       " 2.0,\n",
       " 3.0,\n",
       " 4.0,\n",
       " 5.0,\n",
       " 6.0,\n",
       " 7.0,\n",
       " 8.0,\n",
       " 9.0,\n",
       " 10.0,\n",
       " 11.0,\n",
       " 12.0,\n",
       " 13.0,\n",
       " 14.0}"
      ]
     },
     "execution_count": 24,
     "metadata": {},
     "output_type": "execute_result"
    }
   ],
   "source": [
    "unique_labels=set(label_count.keys())\n",
    "unique_labels"
   ]
  },
  {
   "cell_type": "code",
   "execution_count": 25,
   "metadata": {},
   "outputs": [
    {
     "data": {
      "text/plain": [
       "15"
      ]
     },
     "execution_count": 25,
     "metadata": {},
     "output_type": "execute_result"
    }
   ],
   "source": [
    "#get the number of subjects\n",
    "n_subjects=len(label_count)\n",
    "n_subjects"
   ]
  },
  {
   "cell_type": "code",
   "execution_count": 26,
   "metadata": {},
   "outputs": [],
   "source": [
    "## make 3 images for each are test data\n",
    "n_test=3*n_subjects\n",
    "n_train=N-n_test"
   ]
  },
  {
   "cell_type": "code",
   "execution_count": 27,
   "metadata": {},
   "outputs": [],
   "source": [
    "#initlaze arrays to hold train and test images\n",
    "train_images=np.zeros([n_train]+list(img.shape))\n",
    "train_labels=np.zeros(n_train)\n",
    "test_images=np.zeros([n_test]+list(img.shape))\n",
    "test_labels=np.zeros(n_test)"
   ]
  },
  {
   "cell_type": "code",
   "execution_count": 28,
   "metadata": {},
   "outputs": [
    {
     "data": {
      "text/plain": [
       "([60, 80], 45, 120)"
      ]
     },
     "execution_count": 28,
     "metadata": {},
     "output_type": "execute_result"
    }
   ],
   "source": [
    "list(img.shape), n_test, n_train"
   ]
  },
  {
   "cell_type": "code",
   "execution_count": 29,
   "metadata": {},
   "outputs": [
    {
     "data": {
      "text/plain": [
       "(120, 60, 80)"
      ]
     },
     "execution_count": 29,
     "metadata": {},
     "output_type": "execute_result"
    }
   ],
   "source": [
    "np.zeros([n_train]+list(img.shape)).shape\n",
    "#train size , image.shape"
   ]
  },
  {
   "cell_type": "code",
   "execution_count": 30,
   "metadata": {},
   "outputs": [],
   "source": [
    "count_so_far={}\n",
    "train_idx=0\n",
    "test_idx=0\n",
    "for img,label in zip(images,labels):\n",
    "    #increment the count\n",
    "    count_so_far[label]=count_so_far.get(label,0)+1\n",
    "\n",
    "    if count_so_far[label]>3:\n",
    "        #we have 3 for the test \n",
    "        #add rest to train\n",
    "        train_images[train_idx]=img\n",
    "        train_labels[train_idx]=label\n",
    "        train_idx+=1\n",
    "\n",
    "    else:\n",
    "        #add this first 3 iamges to test\n",
    "        test_images[test_idx]=img\n",
    "        test_labels[test_idx]=label\n",
    "        test_idx+=1"
   ]
  },
  {
   "cell_type": "code",
   "execution_count": 31,
   "metadata": {},
   "outputs": [
    {
     "data": {
      "text/plain": [
       "{4.0: 11,\n",
       " 10.0: 11,\n",
       " 12.0: 11,\n",
       " 5.0: 11,\n",
       " 2.0: 11,\n",
       " 9.0: 11,\n",
       " 0.0: 11,\n",
       " 3.0: 11,\n",
       " 14.0: 11,\n",
       " 1.0: 11,\n",
       " 13.0: 11,\n",
       " 8.0: 11,\n",
       " 6.0: 11,\n",
       " 11.0: 11,\n",
       " 7.0: 11}"
      ]
     },
     "execution_count": 31,
     "metadata": {},
     "output_type": "execute_result"
    }
   ],
   "source": [
    "count_so_far"
   ]
  },
  {
   "cell_type": "code",
   "execution_count": 32,
   "metadata": {},
   "outputs": [],
   "source": [
    "#label2idx mapping for easy access\n",
    "train_label2idx={}\n",
    "test_label2idx={}\n",
    "\n",
    "for i,label in enumerate(train_labels):\n",
    "    if label not in train_label2idx:\n",
    "        train_label2idx[label]=[i]\n",
    "    else:\n",
    "        train_label2idx[label].append(i)\n",
    "\n",
    "for i, label in enumerate(test_labels):\n",
    "    if label not in test_label2idx:\n",
    "        test_label2idx[label]=[i]\n",
    "    else:\n",
    "        test_label2idx[label].append(i)\n",
    "\n"
   ]
  },
  {
   "cell_type": "code",
   "execution_count": 33,
   "metadata": {},
   "outputs": [],
   "source": [
    "# all possible training sampe indices\n",
    "train_positives=[]\n",
    "train_negatives=[]\n",
    "test_positives=[]\n",
    "test_negatives=[]\n",
    "\n",
    "for label, indices in train_label2idx.items():\n",
    "    # all indices that do no belong to this subject\n",
    "    other_indices=set(range(n_train))-set(indices)\n",
    "\n",
    "    for i, idx1 in enumerate(indices):\n",
    "        for idx2 in indices[i+1:]:\n",
    "            train_positives.append((idx1,idx2))\n",
    "\n",
    "        for idx2 in other_indices:\n",
    "            train_negatives.append((idx1,idx2))\n",
    "\n",
    "for label, indices in test_label2idx.items():\n",
    "    #all indices that do not belong to this subject\n",
    "    other_indices=set(range(n_test))-set(indices)\n",
    "\n",
    "    for i, idx1 in enumerate(indices):\n",
    "        for idx2 in indices[i+1:]:\n",
    "            test_positives.append((idx1,idx2))\n",
    "\n",
    "        for idx2 in other_indices:\n",
    "            test_negatives.append((idx1, idx2))"
   ]
  },
  {
   "cell_type": "code",
   "execution_count": 34,
   "metadata": {},
   "outputs": [
    {
     "data": {
      "text/plain": [
       "42"
      ]
     },
     "execution_count": 34,
     "metadata": {},
     "output_type": "execute_result"
    }
   ],
   "source": [
    "len(set(range(n_test))-set(indices)) \n"
   ]
  },
  {
   "cell_type": "code",
   "execution_count": 35,
   "metadata": {},
   "outputs": [
    {
     "data": {
      "text/plain": [
       "(15,\n",
       " {0.0,\n",
       "  1.0,\n",
       "  2.0,\n",
       "  3.0,\n",
       "  4.0,\n",
       "  5.0,\n",
       "  6.0,\n",
       "  7.0,\n",
       "  8.0,\n",
       "  9.0,\n",
       "  10.0,\n",
       "  11.0,\n",
       "  12.0,\n",
       "  13.0,\n",
       "  14.0})"
      ]
     },
     "execution_count": 35,
     "metadata": {},
     "output_type": "execute_result"
    }
   ],
   "source": [
    "len(test_label2idx.items()), set(test_label2idx)"
   ]
  },
  {
   "cell_type": "code",
   "execution_count": 36,
   "metadata": {},
   "outputs": [],
   "source": [
    "batch_size=64\n",
    "def train_generator():\n",
    "    #for each batch we ll send 1 pair of each subject\n",
    "    #and the sample number of non matching pairs\n",
    "    n_batches= int(np.ceil(len(train_positives)/(batch_size)))\n",
    "\n",
    "    while True:\n",
    "        np.random.shuffle(train_positives)\n",
    "        n_samples=batch_size*2\n",
    "        shape=(n_samples,H,W)\n",
    "        x_batch_1=np.zeros(shape)\n",
    "        x_batch_2=np.zeros(shape)\n",
    "        y_batch=np.zeros(n_samples)\n",
    "\n",
    "        for i in range(n_batches):\n",
    "            pos_batch_indices=train_positives[i * batch_size: (i+1) * batch_size]\n",
    "\n",
    "            # fill up x batch and y batch\n",
    "            j=0\n",
    "            for idx1, idx2 in pos_batch_indices:\n",
    "                x_batch_1[j]=train_images[idx1]\n",
    "                x_batch_2[j]=train_images[idx2]\n",
    "                y_batch[j]=1 #match\n",
    "                j +=1\n",
    "\n",
    "            # get negative samples\n",
    "            neg_indices=np.random.choice(len(train_negatives), size=len(pos_batch_indices)) #replace =\n",
    "            for neg in neg_indices:\n",
    "                idx1,idx2=train_negatives[neg]\n",
    "                x_batch_1[j]=train_images[idx1]\n",
    "                x_batch_2[j]=train_images[idx2]\n",
    "                y_batch[j]=0 #non match\n",
    "                j +=1\n",
    "\n",
    "            x1=x_batch_1[:j]\n",
    "            x2=x_batch_2[:j]\n",
    "            y=y_batch[:j]\n",
    "\n",
    "            #reshpae\n",
    "\n",
    "            x1=x1.reshape(-1,1,H,W)\n",
    "            x2=x2.reshape(-1,1,H,W)\n",
    "\n",
    "            #convert to torch tensor\n",
    "            x1=torch.from_numpy(x1).float()\n",
    "            x2=torch.from_numpy(x2).float()\n",
    "            y=torch.from_numpy(y).float()\n",
    "\n",
    "            yield [x1,x2] ,y"
   ]
  },
  {
   "cell_type": "code",
   "execution_count": 37,
   "metadata": {},
   "outputs": [],
   "source": [
    "#same thing as the train generator except no shıffling \n",
    "\n",
    "def test_generator():\n",
    "    n_batches=int(np.ceil(len(train_positives)/ batch_size))\n",
    "\n",
    "    while True:\n",
    "        n_samples=batch_size*2\n",
    "        shape=(n_samples,H,W)\n",
    "        x_batch_1=np.zeros(shape)\n",
    "        x_batch_2=np.zeros(shape)\n",
    "        y_batch=np.zeros(n_samples)\n",
    "\n",
    "        for i in range(n_batches):\n",
    "            pos_batch_indices=test_positives[i * batch_size:(i+1) * batch_size]\n",
    "\n",
    "            #fill up the x batch and y batch\n",
    "            j=0\n",
    "            for idx1, idx2 in pos_batch_indices:\n",
    "                x_batch_1[j]=test_images[idx1]\n",
    "                x_batch_2[j]=test_images[idx2]\n",
    "                y_batch[j]=1 #match\n",
    "                j +=1\n",
    "\n",
    "                # get negative samples\n",
    "                neg_indices=np.random.choice(len(test_negatives), size=len(pos_batch_indices)) #replace.\n",
    "            for neg in neg_indices:\n",
    "                idx1,idx2 = test_negatives[neg]\n",
    "                x_batch_1[j]=test_images[idx1]\n",
    "                x_batch_2[j]=test_images[idx2]\n",
    "                y_batch[j]=0 #non match\n",
    "                j +=1\n",
    "\n",
    "            x1=x_batch_1[:1]\n",
    "            x2=x_batch_2[:j]\n",
    "            y=y_batch[:j]\n",
    "\n",
    "            # reshape\n",
    "            x1=x1.reshape(-1,1,H,W)\n",
    "            x2=x2.reshape(-1,1,H,W)\n",
    "\n",
    "            #convert this to torch tensors\n",
    "            x1=torch.from_numpy(x1).float()\n",
    "            x2=torch.from_numpy(x2).float()\n",
    "            y=torch.from_numpy(y).float()\n",
    "\n",
    "            yield [x1,x2], y\n",
    "\n"
   ]
  },
  {
   "cell_type": "code",
   "execution_count": 38,
   "metadata": {},
   "outputs": [],
   "source": [
    "#build the model\n",
    "\n",
    "class SiameseNN(nn.Module):\n",
    "    def __init__(self, feature_dim):\n",
    "        super(SiameseNN, self).__init__()\n",
    "\n",
    "        #define CNN Featurizer\n",
    "\n",
    "        self.cnn=nn.Sequential(\n",
    "            nn.Conv2d(1,32,kernel_size=3),\n",
    "            nn.BatchNorm2d(32),\n",
    "            nn.ReLU(),\n",
    "            nn.MaxPool2d(2),\n",
    "            nn.Conv2d(32,64,kernel_size=3),\n",
    "            nn.BatchNorm2d(64),\n",
    "            nn.ReLU(),\n",
    "            nn.MaxPool2d(2),\n",
    "            nn.Flatten(),\n",
    "            nn.Linear(13*18*64,128), #60>29>13, 80>39>18\n",
    "            nn.ReLU(),\n",
    "            nn.Linear(128,feature_dim),\n",
    "        )\n",
    "    def forward(self,im1,im2):\n",
    "        feat1=self.cnn(im1)\n",
    "        feat2=self.cnn(im2)\n",
    "\n",
    "        #euclidean distance between feature 1 and feature 2\n",
    "        return torch.norm(feat1-feat2,dim=-1)\n"
   ]
  },
  {
   "cell_type": "code",
   "execution_count": 39,
   "metadata": {},
   "outputs": [],
   "source": [
    "model=SiameseNN(50)"
   ]
  },
  {
   "cell_type": "code",
   "execution_count": 40,
   "metadata": {},
   "outputs": [
    {
     "name": "stdout",
     "output_type": "stream",
     "text": [
      "cpu\n"
     ]
    },
    {
     "data": {
      "text/plain": [
       "SiameseNN(\n",
       "  (cnn): Sequential(\n",
       "    (0): Conv2d(1, 32, kernel_size=(3, 3), stride=(1, 1))\n",
       "    (1): BatchNorm2d(32, eps=1e-05, momentum=0.1, affine=True, track_running_stats=True)\n",
       "    (2): ReLU()\n",
       "    (3): MaxPool2d(kernel_size=2, stride=2, padding=0, dilation=1, ceil_mode=False)\n",
       "    (4): Conv2d(32, 64, kernel_size=(3, 3), stride=(1, 1))\n",
       "    (5): BatchNorm2d(64, eps=1e-05, momentum=0.1, affine=True, track_running_stats=True)\n",
       "    (6): ReLU()\n",
       "    (7): MaxPool2d(kernel_size=2, stride=2, padding=0, dilation=1, ceil_mode=False)\n",
       "    (8): Flatten(start_dim=1, end_dim=-1)\n",
       "    (9): Linear(in_features=14976, out_features=128, bias=True)\n",
       "    (10): ReLU()\n",
       "    (11): Linear(in_features=128, out_features=50, bias=True)\n",
       "  )\n",
       ")"
      ]
     },
     "execution_count": 40,
     "metadata": {},
     "output_type": "execute_result"
    }
   ],
   "source": [
    "device=torch.device(\"cuda:0\" if torch.cuda.is_available() else \"cpu\")\n",
    "print(device)\n",
    "model.to(device)"
   ]
  },
  {
   "cell_type": "code",
   "execution_count": 41,
   "metadata": {},
   "outputs": [],
   "source": [
    "# loss function for siamese network\n",
    "def contrastive_loss(y,t):\n",
    "    nonmatch=F.relu(1-y) # max(margin -y , 0)\n",
    "    return torch.mean(t* y**2 + (1-t) *nonmatch**2)"
   ]
  },
  {
   "cell_type": "code",
   "execution_count": 42,
   "metadata": {},
   "outputs": [],
   "source": [
    "#loss and optimizer\n",
    "optimizer=torch.optim.Adam(model.parameters())"
   ]
  },
  {
   "cell_type": "code",
   "execution_count": 43,
   "metadata": {},
   "outputs": [],
   "source": [
    "#A function to encapsulate the training loop\n",
    "def batch_gd(\n",
    "        model,\n",
    "        criterion,\n",
    "        optimizer,\n",
    "        train_gen,\n",
    "        test_gen,\n",
    "        train_steps_per_epoch,\n",
    "        test_steps_per_epoch,\n",
    "        epochs):\n",
    "    train_losses= np.zeros(epochs)\n",
    "    test_losses=np.zeros(epochs)\n",
    "\n",
    "    for it in range(epochs):\n",
    "        t0=datetime.now()\n",
    "        train_loss=[]\n",
    "        steps=0\n",
    "        for (x1,x2),targets in train_gen:\n",
    "            #move data to GPU\n",
    "            x1, x2, targets= x1.to(device), x2.to(device), targets.to(device)\n",
    "\n",
    "\n",
    "            # zero the parameter gradients\n",
    "            optimizer.zero_grad()\n",
    "\n",
    "            #forward pass\n",
    "            outputs=model(x1,x2)\n",
    "            loss=criterion(outputs, targets)\n",
    "\n",
    "            #backward and optimize\n",
    "            loss.backward()\n",
    "            optimizer.step()\n",
    "\n",
    "            train_loss.append(loss.item())\n",
    "\n",
    "            #update steps\n",
    "            steps +=1\n",
    "            if steps >= train_steps_per_epoch:\n",
    "                break\n",
    "\n",
    "        # get train loss and test loss\n",
    "        train_loss= np.mean(train_loss) # a little misleading\n",
    "\n",
    "        test_loss=[]\n",
    "        steps=0\n",
    "        for (x1,x2), targets in test_gen:\n",
    "            x1, x2, targets= x1.to(device), x2.to(device), targets.to(device)\n",
    "            outputs=model(x1,x2)\n",
    "            loss=criterion(outputs,targets)\n",
    "            test_loss.append(loss.item())\n",
    "            steps +=1\n",
    "            if steps >= train_steps_per_epoch:\n",
    "                break\n",
    "\n",
    "        test_loss= np.mean(test_loss)\n",
    "\n",
    "        #save losses\n",
    "        train_losses[it]=train_loss\n",
    "        test_losses[it]=test_loss\n",
    "\n",
    "        dt=datetime.now() -t0\n",
    "        print(f'epoch: {it+1}/{epochs}, train loss: {train_loss:.4f}, \\\n",
    "              Test loss: {test_loss:.4f}, duration: {dt}')\n",
    "    \n",
    "    return train_losses, test_losses"
   ]
  },
  {
   "cell_type": "code",
   "execution_count": 44,
   "metadata": {},
   "outputs": [],
   "source": [
    "train_steps=int(np.ceil(len(train_positives)/ batch_size))\n",
    "test_steps=int(np.ceil(len(test_positives)/batch_size))\n",
    "\n"
   ]
  },
  {
   "cell_type": "code",
   "execution_count": 45,
   "metadata": {},
   "outputs": [
    {
     "name": "stdout",
     "output_type": "stream",
     "text": [
      "epoch: 1/20, train loss: 0.8481,               Test loss: 0.1572, duration: 0:00:04.130712\n",
      "epoch: 2/20, train loss: 0.2803,               Test loss: 0.2145, duration: 0:00:04.034530\n",
      "epoch: 3/20, train loss: 0.1569,               Test loss: 0.1413, duration: 0:00:04.109996\n",
      "epoch: 4/20, train loss: 0.0995,               Test loss: 0.2016, duration: 0:00:04.111310\n",
      "epoch: 5/20, train loss: 0.0734,               Test loss: 0.2304, duration: 0:00:04.103899\n",
      "epoch: 6/20, train loss: 0.0490,               Test loss: 0.1450, duration: 0:00:04.097496\n",
      "epoch: 7/20, train loss: 0.0391,               Test loss: 0.1534, duration: 0:00:03.983543\n",
      "epoch: 8/20, train loss: 0.0287,               Test loss: 0.1552, duration: 0:00:03.928678\n",
      "epoch: 9/20, train loss: 0.0203,               Test loss: 0.1600, duration: 0:00:03.994588\n",
      "epoch: 10/20, train loss: 0.0156,               Test loss: 0.1314, duration: 0:00:03.979283\n",
      "epoch: 11/20, train loss: 0.0122,               Test loss: 0.1709, duration: 0:00:04.064544\n",
      "epoch: 12/20, train loss: 0.0094,               Test loss: 0.1432, duration: 0:00:03.937857\n",
      "epoch: 13/20, train loss: 0.0068,               Test loss: 0.2031, duration: 0:00:03.920449\n",
      "epoch: 14/20, train loss: 0.0052,               Test loss: 0.2078, duration: 0:00:03.935569\n",
      "epoch: 15/20, train loss: 0.0040,               Test loss: 0.1523, duration: 0:00:03.935390\n",
      "epoch: 16/20, train loss: 0.0035,               Test loss: 0.1579, duration: 0:00:03.964744\n",
      "epoch: 17/20, train loss: 0.0030,               Test loss: 0.1923, duration: 0:00:03.917475\n",
      "epoch: 18/20, train loss: 0.0034,               Test loss: 0.1810, duration: 0:00:03.983722\n",
      "epoch: 19/20, train loss: 0.0034,               Test loss: 0.1558, duration: 0:00:03.984714\n",
      "epoch: 20/20, train loss: 0.0026,               Test loss: 0.1924, duration: 0:00:04.063794\n"
     ]
    }
   ],
   "source": [
    "train_losses, test_losses = batch_gd(\n",
    "    model,\n",
    "    contrastive_loss,\n",
    "    optimizer,\n",
    "    train_generator(),\n",
    "    test_generator(),\n",
    "    train_steps,\n",
    "    test_steps,\n",
    "    epochs=20)"
   ]
  },
  {
   "cell_type": "code",
   "execution_count": 46,
   "metadata": {},
   "outputs": [
    {
     "data": {
      "image/png": "[encoded data removed]",
      "text/plain": [
       "<Figure size 640x480 with 1 Axes>"
      ]
     },
     "metadata": {},
     "output_type": "display_data"
    }
   ],
   "source": [
    "#plot the loss \n",
    "\n",
    "plt.plot(train_losses, label=\"train loss\")\n",
    "plt.plot(test_losses, label=\"test loss\")\n",
    "plt.legend()\n",
    "plt.show()"
   ]
  },
  {
   "cell_type": "code",
   "execution_count": 47,
   "metadata": {},
   "outputs": [],
   "source": [
    "# make predictions\n",
    "def predict(x1,x2):\n",
    "    x1=torch.from_numpy(x1).float().to(device)\n",
    "    x2=torch.from_numpy(x2).float().to(device)\n",
    "    with torch.no_grad():\n",
    "        dist=model(x1,x2).cpu().numpy()\n",
    "        return dist.flatten()\n"
   ]
  },
  {
   "cell_type": "code",
   "execution_count": 48,
   "metadata": {},
   "outputs": [],
   "source": [
    "#accuracy\n",
    "#dataset is imbalanced so get tp,tn,fp,fn\n",
    "def get_train_accuracy(threshold=0.85):\n",
    "    positive_distances=[]\n",
    "    negative_distances=[]\n",
    "\n",
    "    tp=0\n",
    "    tn=0\n",
    "    fp=0\n",
    "    fn=0\n",
    "\n",
    "    batch_size=64\n",
    "    x_batch_1=np.zeros((batch_size,1,H,W))\n",
    "    x_batch_2=np.zeros((batch_size,1,H,W))\n",
    "    n_batches=int(np.ceil(len(train_positives)/batch_size))\n",
    "\n",
    "    for i in range(n_batches):\n",
    "        print(f'pos batch: {i+1}/{n_batches}')\n",
    "        pos_batch_indices=train_positives[i * batch_size: (i+1) * batch_size]\n",
    "\n",
    "        # fill up x_batch and y_batch\n",
    "        j=0\n",
    "        for idx1, idx2 in pos_batch_indices:\n",
    "            x_batch_1[j,0] = train_images[idx1]\n",
    "            x_batch_2[j,0] = train_images[idx2]\n",
    "            j +=1\n",
    "\n",
    "        x1= x_batch_1[:j]\n",
    "        x2= x_batch_2[:j]\n",
    "        distances=predict(x1,x2)\n",
    "        positive_distances += distances.tolist()\n",
    "\n",
    "        #update tp, tn, fp, fn\n",
    "        tp += (distances < threshold).sum()\n",
    "        fn += (distances > threshold).sum()\n",
    "\n",
    "    n_batches=int(np.ceil(len(train_negatives)/batch_size))\n",
    "    for i in range(n_batches):\n",
    "        print(f'neg batch:{i+1}/{n_batches}')\n",
    "        neg_batch_indices = train_negatives[i * batch_size: (i+1) * batch_size]\n",
    "\n",
    "        #fill up x_batch and y_batch\n",
    "        j=0\n",
    "        for idx1,idx2 in neg_batch_indices:\n",
    "            x_batch_1[j,0] = train_images[idx1]\n",
    "            x_batch_2[j,0] = train_images[idx2]\n",
    "            j +=1\n",
    "\n",
    "        x1 = x_batch_1[:j]\n",
    "        x2 = x_batch_2[:j]\n",
    "        distances = predict(x1,x2)\n",
    "        negative_distances += distances.tolist()\n",
    "\n",
    "        #update tp,tn, fp, fn\n",
    "        fp += (distances < threshold).sum()\n",
    "        tn += (distances > threshold).sum()\n",
    "\n",
    "    tpr =tp / (tp+fn)\n",
    "    tnr = tn / (tn+fp)\n",
    "    print(f'sensitivity (tpr):{tpr}, specificity (tnr): {tnr}')\n",
    "\n",
    "    plt.hist(negative_distances, bins=20 ,density=True, label='negative distances')\n",
    "    plt.hist(positive_distances, bins=20, density=True, label='positive distances')\n",
    "    plt.legend()\n",
    "    plt.show()"
   ]
  },
  {
   "cell_type": "code",
   "execution_count": 49,
   "metadata": {},
   "outputs": [],
   "source": [
    "def get_test_accuracy(threshold=0.85):\n",
    "    positive_distances=[]\n",
    "    negative_distances=[]\n",
    "\n",
    "    \n",
    "    tp=0\n",
    "    tn=0\n",
    "    fp=0\n",
    "    fn=0\n",
    "\n",
    "    batch_size=64\n",
    "    x_batch_1=np.zeros((batch_size,1,H,W))\n",
    "    x_batch_2=np.zeros((batch_size,1,H,W))\n",
    "    n_batches=int(np.ceil(len(test_positives)/batch_size))\n",
    "\n",
    "    for i in range(n_batches):\n",
    "        print(f'pos batch: {i+1}/{n_batches}')\n",
    "        pos_batch_indices=test_positives[i * batch_size: (i+1) * batch_size]\n",
    "\n",
    "        # fill up x_batch and y_batch\n",
    "        j=0\n",
    "        for idx1, idx2 in pos_batch_indices:\n",
    "            x_batch_1[j,0] = test_images[idx1]\n",
    "            x_batch_2[j,0] = test_images[idx2]\n",
    "            j +=1\n",
    "\n",
    "        x1= x_batch_1[:j]\n",
    "        x2= x_batch_2[:j]\n",
    "        distances=predict(x1,x2)\n",
    "        positive_distances += distances.tolist()\n",
    "\n",
    "        #update tp, tn, fp, fn\n",
    "        tp += (distances < threshold).sum()\n",
    "        fn += (distances > threshold).sum()\n",
    "\n",
    "    n_batches=int(np.ceil(len(test_negatives)/batch_size))\n",
    "    for i in range(n_batches):\n",
    "        print(f'neg batch:{i+1}/{n_batches}')\n",
    "        neg_batch_indices = test_negatives[i * batch_size: (i+1) * batch_size]\n",
    "\n",
    "        #fill up x_batch and y_batch\n",
    "        j=0\n",
    "        for idx1,idx2 in neg_batch_indices:\n",
    "            x_batch_1[j,0] = test_images[idx1]\n",
    "            x_batch_2[j,0] = test_images[idx2]\n",
    "            j +=1\n",
    "\n",
    "        x1 = x_batch_1[:j]\n",
    "        x2 = x_batch_2[:j]\n",
    "        distances = predict(x1,x2)\n",
    "        negative_distances += distances.tolist()\n",
    "\n",
    "        #update tp,tn, fp, fn\n",
    "        fp += (distances < threshold).sum()\n",
    "        tn += (distances > threshold).sum()\n",
    "\n",
    "    tpr =tp / (tp+fn)\n",
    "    tnr = tn / (tn+fp)\n",
    "    print(f'sensitivity (tpr):{tpr}, specificity (tnr): {tnr}')\n",
    "\n",
    "    plt.hist(negative_distances, bins=20 ,density=True, label='negative distances')\n",
    "    plt.hist(positive_distances, bins=20, density=True, label='positive distances')\n",
    "    plt.legend()\n",
    "    plt.show()\n",
    "\n",
    "    "
   ]
  },
  {
   "cell_type": "code",
   "execution_count": 50,
   "metadata": {},
   "outputs": [
    {
     "name": "stdout",
     "output_type": "stream",
     "text": [
      "pos batch: 1/7\n",
      "pos batch: 2/7\n",
      "pos batch: 3/7\n",
      "pos batch: 4/7\n",
      "pos batch: 5/7\n",
      "pos batch: 6/7\n",
      "pos batch: 7/7\n",
      "neg batch:1/210\n",
      "neg batch:2/210\n",
      "neg batch:3/210\n",
      "neg batch:4/210\n",
      "neg batch:5/210\n",
      "neg batch:6/210\n",
      "neg batch:7/210\n",
      "neg batch:8/210\n",
      "neg batch:9/210\n",
      "neg batch:10/210\n",
      "neg batch:11/210\n",
      "neg batch:12/210\n",
      "neg batch:13/210\n",
      "neg batch:14/210\n",
      "neg batch:15/210\n",
      "neg batch:16/210\n",
      "neg batch:17/210\n",
      "neg batch:18/210\n",
      "neg batch:19/210\n",
      "neg batch:20/210\n",
      "neg batch:21/210\n",
      "neg batch:22/210\n",
      "neg batch:23/210\n",
      "neg batch:24/210\n",
      "neg batch:25/210\n",
      "neg batch:26/210\n",
      "neg batch:27/210\n",
      "neg batch:28/210\n",
      "neg batch:29/210\n",
      "neg batch:30/210\n",
      "neg batch:31/210\n",
      "neg batch:32/210\n",
      "neg batch:33/210\n",
      "neg batch:34/210\n",
      "neg batch:35/210\n",
      "neg batch:36/210\n",
      "neg batch:37/210\n",
      "neg batch:38/210\n",
      "neg batch:39/210\n",
      "neg batch:40/210\n",
      "neg batch:41/210\n",
      "neg batch:42/210\n",
      "neg batch:43/210\n",
      "neg batch:44/210\n",
      "neg batch:45/210\n",
      "neg batch:46/210\n",
      "neg batch:47/210\n",
      "neg batch:48/210\n",
      "neg batch:49/210\n",
      "neg batch:50/210\n",
      "neg batch:51/210\n",
      "neg batch:52/210\n",
      "neg batch:53/210\n",
      "neg batch:54/210\n",
      "neg batch:55/210\n",
      "neg batch:56/210\n",
      "neg batch:57/210\n",
      "neg batch:58/210\n",
      "neg batch:59/210\n",
      "neg batch:60/210\n",
      "neg batch:61/210\n",
      "neg batch:62/210\n",
      "neg batch:63/210\n",
      "neg batch:64/210\n",
      "neg batch:65/210\n",
      "neg batch:66/210\n",
      "neg batch:67/210\n",
      "neg batch:68/210\n",
      "neg batch:69/210\n",
      "neg batch:70/210\n",
      "neg batch:71/210\n",
      "neg batch:72/210\n",
      "neg batch:73/210\n",
      "neg batch:74/210\n",
      "neg batch:75/210\n",
      "neg batch:76/210\n",
      "neg batch:77/210\n",
      "neg batch:78/210\n",
      "neg batch:79/210\n",
      "neg batch:80/210\n",
      "neg batch:81/210\n",
      "neg batch:82/210\n",
      "neg batch:83/210\n",
      "neg batch:84/210\n",
      "neg batch:85/210\n",
      "neg batch:86/210\n",
      "neg batch:87/210\n",
      "neg batch:88/210\n",
      "neg batch:89/210\n",
      "neg batch:90/210\n",
      "neg batch:91/210\n",
      "neg batch:92/210\n",
      "neg batch:93/210\n",
      "neg batch:94/210\n",
      "neg batch:95/210\n",
      "neg batch:96/210\n",
      "neg batch:97/210\n",
      "neg batch:98/210\n",
      "neg batch:99/210\n",
      "neg batch:100/210\n",
      "neg batch:101/210\n",
      "neg batch:102/210\n",
      "neg batch:103/210\n",
      "neg batch:104/210\n",
      "neg batch:105/210\n",
      "neg batch:106/210\n",
      "neg batch:107/210\n",
      "neg batch:108/210\n",
      "neg batch:109/210\n",
      "neg batch:110/210\n",
      "neg batch:111/210\n",
      "neg batch:112/210\n",
      "neg batch:113/210\n",
      "neg batch:114/210\n",
      "neg batch:115/210\n",
      "neg batch:116/210\n",
      "neg batch:117/210\n",
      "neg batch:118/210\n",
      "neg batch:119/210\n",
      "neg batch:120/210\n",
      "neg batch:121/210\n",
      "neg batch:122/210\n",
      "neg batch:123/210\n",
      "neg batch:124/210\n",
      "neg batch:125/210\n",
      "neg batch:126/210\n",
      "neg batch:127/210\n",
      "neg batch:128/210\n",
      "neg batch:129/210\n",
      "neg batch:130/210\n",
      "neg batch:131/210\n",
      "neg batch:132/210\n",
      "neg batch:133/210\n",
      "neg batch:134/210\n",
      "neg batch:135/210\n",
      "neg batch:136/210\n",
      "neg batch:137/210\n",
      "neg batch:138/210\n",
      "neg batch:139/210\n",
      "neg batch:140/210\n",
      "neg batch:141/210\n",
      "neg batch:142/210\n",
      "neg batch:143/210\n",
      "neg batch:144/210\n",
      "neg batch:145/210\n",
      "neg batch:146/210\n",
      "neg batch:147/210\n",
      "neg batch:148/210\n",
      "neg batch:149/210\n",
      "neg batch:150/210\n",
      "neg batch:151/210\n",
      "neg batch:152/210\n",
      "neg batch:153/210\n",
      "neg batch:154/210\n",
      "neg batch:155/210\n",
      "neg batch:156/210\n",
      "neg batch:157/210\n",
      "neg batch:158/210\n",
      "neg batch:159/210\n",
      "neg batch:160/210\n",
      "neg batch:161/210\n",
      "neg batch:162/210\n",
      "neg batch:163/210\n",
      "neg batch:164/210\n",
      "neg batch:165/210\n",
      "neg batch:166/210\n",
      "neg batch:167/210\n",
      "neg batch:168/210\n",
      "neg batch:169/210\n",
      "neg batch:170/210\n",
      "neg batch:171/210\n",
      "neg batch:172/210\n",
      "neg batch:173/210\n",
      "neg batch:174/210\n",
      "neg batch:175/210\n",
      "neg batch:176/210\n",
      "neg batch:177/210\n",
      "neg batch:178/210\n",
      "neg batch:179/210\n",
      "neg batch:180/210\n",
      "neg batch:181/210\n",
      "neg batch:182/210\n",
      "neg batch:183/210\n",
      "neg batch:184/210\n",
      "neg batch:185/210\n",
      "neg batch:186/210\n",
      "neg batch:187/210\n",
      "neg batch:188/210\n",
      "neg batch:189/210\n",
      "neg batch:190/210\n",
      "neg batch:191/210\n",
      "neg batch:192/210\n",
      "neg batch:193/210\n",
      "neg batch:194/210\n",
      "neg batch:195/210\n",
      "neg batch:196/210\n",
      "neg batch:197/210\n",
      "neg batch:198/210\n",
      "neg batch:199/210\n",
      "neg batch:200/210\n",
      "neg batch:201/210\n",
      "neg batch:202/210\n",
      "neg batch:203/210\n",
      "neg batch:204/210\n",
      "neg batch:205/210\n",
      "neg batch:206/210\n",
      "neg batch:207/210\n",
      "neg batch:208/210\n",
      "neg batch:209/210\n",
      "neg batch:210/210\n",
      "sensitivity (tpr):1.0, specificity (tnr): 0.9936755952380952\n"
     ]
    },
    {
     "data": {
      "image/png": "[encoded data removed]",
      "text/plain": [
       "<Figure size 640x480 with 1 Axes>"
      ]
     },
     "metadata": {},
     "output_type": "display_data"
    }
   ],
   "source": [
    "get_train_accuracy(0.65)"
   ]
  },
  {
   "cell_type": "code",
   "execution_count": 51,
   "metadata": {},
   "outputs": [
    {
     "name": "stdout",
     "output_type": "stream",
     "text": [
      "pos batch: 1/1\n",
      "neg batch:1/30\n",
      "neg batch:2/30\n",
      "neg batch:3/30\n",
      "neg batch:4/30\n",
      "neg batch:5/30\n",
      "neg batch:6/30\n",
      "neg batch:7/30\n",
      "neg batch:8/30\n",
      "neg batch:9/30\n",
      "neg batch:10/30\n",
      "neg batch:11/30\n",
      "neg batch:12/30\n",
      "neg batch:13/30\n",
      "neg batch:14/30\n",
      "neg batch:15/30\n",
      "neg batch:16/30\n",
      "neg batch:17/30\n",
      "neg batch:18/30\n",
      "neg batch:19/30\n",
      "neg batch:20/30\n",
      "neg batch:21/30\n",
      "neg batch:22/30\n",
      "neg batch:23/30\n",
      "neg batch:24/30\n",
      "neg batch:25/30\n",
      "neg batch:26/30\n",
      "neg batch:27/30\n",
      "neg batch:28/30\n",
      "neg batch:29/30\n",
      "neg batch:30/30\n",
      "sensitivity (tpr):0.8222222222222222, specificity (tnr): 0.9666666666666667\n"
     ]
    },
    {
     "data": {
      "image/png": "[encoded data removed]",
      "text/plain": [
       "<Figure size 640x480 with 1 Axes>"
      ]
     },
     "metadata": {},
     "output_type": "display_data"
    }
   ],
   "source": [
    "get_test_accuracy(0.65)"
   ]
  },
  {
   "cell_type": "code",
   "execution_count": null,
   "metadata": {},
   "outputs": [],
   "source": []
  }
 ],
 "metadata": {
  "kernelspec": {
   "display_name": "Python 3",
   "language": "python",
   "name": "python3"
  },
  "language_info": {
   "codemirror_mode": {
    "name": "ipython",
    "version": 3
   },
   "file_extension": ".py",
   "mimetype": "text/x-python",
   "name": "python",
   "nbconvert_exporter": "python",
   "pygments_lexer": "ipython3",
   "version": "3.11.3"
  },
  "orig_nbformat": 4
 },
 "nbformat": 4,
 "nbformat_minor": 2
}
