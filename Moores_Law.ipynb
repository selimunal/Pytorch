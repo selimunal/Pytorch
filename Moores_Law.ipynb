{
  "nbformat": 4,
  "nbformat_minor": 0,
  "metadata": {
    "colab": {
      "provenance": [],
      "authorship_tag": "ABX9TyMDFtYZWIlZnQciyxsQuObd",
      "include_colab_link": true
    },
    "kernelspec": {
      "name": "python3",
      "display_name": "Python 3"
    },
    "language_info": {
      "name": "python"
    }
  },
  "cells": [
    {
      "cell_type": "markdown",
      "metadata": {
        "id": "view-in-github",
        "colab_type": "text"
      },
      "source": [
        "<a href=\"https://colab.research.google.com/github/selimunal/Pytorch/blob/main/Moores_Law.ipynb\" target=\"_parent\"><img src=\"https://colab.research.google.com/assets/colab-badge.svg\" alt=\"Open In Colab\"/></a>"
      ]
    },
    {
      "cell_type": "code",
      "execution_count": null,
      "metadata": {
        "id": "9ECRpQS9hXUJ"
      },
      "outputs": [],
      "source": [
        "import torch\n",
        "import torch.nn as nn\n",
        "import pandas as pd\n",
        "import numpy as np\n",
        "import matplotlib.pyplot as plt"
      ]
    },
    {
      "cell_type": "code",
      "source": [
        "#get the data\n",
        "!wget -nc https://raw.githubusercontent.com/lazyprogrammer/machine_learning_examples/master/linear_regression_class/moore.csv"
      ],
      "metadata": {
        "colab": {
          "base_uri": "https://localhost:8080/"
        },
        "id": "1Hjyp9AzkJlf",
        "outputId": "3bb10cc1-8a2f-449a-cef7-f59840be27c1"
      },
      "execution_count": null,
      "outputs": [
        {
          "output_type": "stream",
          "name": "stdout",
          "text": [
            "File ‘moore.csv’ already there; not retrieving.\n",
            "\n"
          ]
        }
      ]
    },
    {
      "cell_type": "code",
      "source": [
        "ls"
      ],
      "metadata": {
        "colab": {
          "base_uri": "https://localhost:8080/"
        },
        "id": "1BvnGhH9kWaS",
        "outputId": "64f61204-1083-4019-9e59-a750587b378c"
      },
      "execution_count": null,
      "outputs": [
        {
          "output_type": "stream",
          "name": "stdout",
          "text": [
            "moore.csv  \u001b[0m\u001b[01;34msample_data\u001b[0m/\n"
          ]
        }
      ]
    },
    {
      "cell_type": "code",
      "source": [
        "data=pd.read_csv(\"moore.csv\",sep='\\t',header=None)#.values"
      ],
      "metadata": {
        "id": "pbFNNhbeCrTr"
      },
      "execution_count": null,
      "outputs": []
    },
    {
      "cell_type": "code",
      "source": [
        "data"
      ],
      "metadata": {
        "colab": {
          "base_uri": "https://localhost:8080/",
          "height": 424
        },
        "id": "POdc-xw2Cv1a",
        "outputId": "2c5c4969-ac14-4424-abc8-e1a4673a27cb"
      },
      "execution_count": null,
      "outputs": [
        {
          "output_type": "execute_result",
          "data": {
            "text/plain": [
              "                                         0                   1     2  \\\n",
              "0                               Intel 4004               2,300  1971   \n",
              "1                               Intel 8008               3,500  1972   \n",
              "2                               Intel 8080               4,500  1974   \n",
              "3                            Motorola 6800               4,100  1974   \n",
              "4                                 RCA 1802               5,000  1974   \n",
              "..                                     ...                 ...   ...   \n",
              "97                                 IBM z13       3,990,000,000  2015   \n",
              "98              IBM z13 Storage Controller       7,100,000,000  2015   \n",
              "99   Quad-core + GPU GT2 Core i7 Skylake K   cca 1,750,000,000  2015   \n",
              "100                               SPARC M7  10,000,000,000[37]  2015   \n",
              "101              22-core Xeon Broadwell-E5  ~7,200,000,000[36]  2016   \n",
              "\n",
              "            3          4        5  \n",
              "0       Intel  10,000 nm   12 mm²  \n",
              "1       Intel  10,000 nm   14 mm²  \n",
              "2       Intel   6,000 nm   20 mm²  \n",
              "3    Motorola   6,000 nm   16 mm²  \n",
              "4         RCA   5,000 nm   27 mm²  \n",
              "..        ...        ...      ...  \n",
              "97        IBM      22 nm  678 mm²  \n",
              "98        IBM      22 nm  678 mm²  \n",
              "99      Intel      14 nm  122 mm²  \n",
              "100    Oracle      20 nm      NaN  \n",
              "101     Intel      14 nm  456 mm²  \n",
              "\n",
              "[102 rows x 6 columns]"
            ],
            "text/html": [
              "\n",
              "  <div id=\"df-a914dddd-6f83-4f7c-ba59-522976ce1937\">\n",
              "    <div class=\"colab-df-container\">\n",
              "      <div>\n",
              "<style scoped>\n",
              "    .dataframe tbody tr th:only-of-type {\n",
              "        vertical-align: middle;\n",
              "    }\n",
              "\n",
              "    .dataframe tbody tr th {\n",
              "        vertical-align: top;\n",
              "    }\n",
              "\n",
              "    .dataframe thead th {\n",
              "        text-align: right;\n",
              "    }\n",
              "</style>\n",
              "<table border=\"1\" class=\"dataframe\">\n",
              "  <thead>\n",
              "    <tr style=\"text-align: right;\">\n",
              "      <th></th>\n",
              "      <th>0</th>\n",
              "      <th>1</th>\n",
              "      <th>2</th>\n",
              "      <th>3</th>\n",
              "      <th>4</th>\n",
              "      <th>5</th>\n",
              "    </tr>\n",
              "  </thead>\n",
              "  <tbody>\n",
              "    <tr>\n",
              "      <th>0</th>\n",
              "      <td>Intel 4004</td>\n",
              "      <td>2,300</td>\n",
              "      <td>1971</td>\n",
              "      <td>Intel</td>\n",
              "      <td>10,000 nm</td>\n",
              "      <td>12 mm²</td>\n",
              "    </tr>\n",
              "    <tr>\n",
              "      <th>1</th>\n",
              "      <td>Intel 8008</td>\n",
              "      <td>3,500</td>\n",
              "      <td>1972</td>\n",
              "      <td>Intel</td>\n",
              "      <td>10,000 nm</td>\n",
              "      <td>14 mm²</td>\n",
              "    </tr>\n",
              "    <tr>\n",
              "      <th>2</th>\n",
              "      <td>Intel 8080</td>\n",
              "      <td>4,500</td>\n",
              "      <td>1974</td>\n",
              "      <td>Intel</td>\n",
              "      <td>6,000 nm</td>\n",
              "      <td>20 mm²</td>\n",
              "    </tr>\n",
              "    <tr>\n",
              "      <th>3</th>\n",
              "      <td>Motorola 6800</td>\n",
              "      <td>4,100</td>\n",
              "      <td>1974</td>\n",
              "      <td>Motorola</td>\n",
              "      <td>6,000 nm</td>\n",
              "      <td>16 mm²</td>\n",
              "    </tr>\n",
              "    <tr>\n",
              "      <th>4</th>\n",
              "      <td>RCA 1802</td>\n",
              "      <td>5,000</td>\n",
              "      <td>1974</td>\n",
              "      <td>RCA</td>\n",
              "      <td>5,000 nm</td>\n",
              "      <td>27 mm²</td>\n",
              "    </tr>\n",
              "    <tr>\n",
              "      <th>...</th>\n",
              "      <td>...</td>\n",
              "      <td>...</td>\n",
              "      <td>...</td>\n",
              "      <td>...</td>\n",
              "      <td>...</td>\n",
              "      <td>...</td>\n",
              "    </tr>\n",
              "    <tr>\n",
              "      <th>97</th>\n",
              "      <td>IBM z13</td>\n",
              "      <td>3,990,000,000</td>\n",
              "      <td>2015</td>\n",
              "      <td>IBM</td>\n",
              "      <td>22 nm</td>\n",
              "      <td>678 mm²</td>\n",
              "    </tr>\n",
              "    <tr>\n",
              "      <th>98</th>\n",
              "      <td>IBM z13 Storage Controller</td>\n",
              "      <td>7,100,000,000</td>\n",
              "      <td>2015</td>\n",
              "      <td>IBM</td>\n",
              "      <td>22 nm</td>\n",
              "      <td>678 mm²</td>\n",
              "    </tr>\n",
              "    <tr>\n",
              "      <th>99</th>\n",
              "      <td>Quad-core + GPU GT2 Core i7 Skylake K</td>\n",
              "      <td>cca 1,750,000,000</td>\n",
              "      <td>2015</td>\n",
              "      <td>Intel</td>\n",
              "      <td>14 nm</td>\n",
              "      <td>122 mm²</td>\n",
              "    </tr>\n",
              "    <tr>\n",
              "      <th>100</th>\n",
              "      <td>SPARC M7</td>\n",
              "      <td>10,000,000,000[37]</td>\n",
              "      <td>2015</td>\n",
              "      <td>Oracle</td>\n",
              "      <td>20 nm</td>\n",
              "      <td>NaN</td>\n",
              "    </tr>\n",
              "    <tr>\n",
              "      <th>101</th>\n",
              "      <td>22-core Xeon Broadwell-E5</td>\n",
              "      <td>~7,200,000,000[36]</td>\n",
              "      <td>2016</td>\n",
              "      <td>Intel</td>\n",
              "      <td>14 nm</td>\n",
              "      <td>456 mm²</td>\n",
              "    </tr>\n",
              "  </tbody>\n",
              "</table>\n",
              "<p>102 rows × 6 columns</p>\n",
              "</div>\n",
              "      <button class=\"colab-df-convert\" onclick=\"convertToInteractive('df-a914dddd-6f83-4f7c-ba59-522976ce1937')\"\n",
              "              title=\"Convert this dataframe to an interactive table.\"\n",
              "              style=\"display:none;\">\n",
              "        \n",
              "  <svg xmlns=\"http://www.w3.org/2000/svg\" height=\"24px\"viewBox=\"0 0 24 24\"\n",
              "       width=\"24px\">\n",
              "    <path d=\"M0 0h24v24H0V0z\" fill=\"none\"/>\n",
              "    <path d=\"M18.56 5.44l.94 2.06.94-2.06 2.06-.94-2.06-.94-.94-2.06-.94 2.06-2.06.94zm-11 1L8.5 8.5l.94-2.06 2.06-.94-2.06-.94L8.5 2.5l-.94 2.06-2.06.94zm10 10l.94 2.06.94-2.06 2.06-.94-2.06-.94-.94-2.06-.94 2.06-2.06.94z\"/><path d=\"M17.41 7.96l-1.37-1.37c-.4-.4-.92-.59-1.43-.59-.52 0-1.04.2-1.43.59L10.3 9.45l-7.72 7.72c-.78.78-.78 2.05 0 2.83L4 21.41c.39.39.9.59 1.41.59.51 0 1.02-.2 1.41-.59l7.78-7.78 2.81-2.81c.8-.78.8-2.07 0-2.86zM5.41 20L4 18.59l7.72-7.72 1.47 1.35L5.41 20z\"/>\n",
              "  </svg>\n",
              "      </button>\n",
              "      \n",
              "  <style>\n",
              "    .colab-df-container {\n",
              "      display:flex;\n",
              "      flex-wrap:wrap;\n",
              "      gap: 12px;\n",
              "    }\n",
              "\n",
              "    .colab-df-convert {\n",
              "      background-color: #E8F0FE;\n",
              "      border: none;\n",
              "      border-radius: 50%;\n",
              "      cursor: pointer;\n",
              "      display: none;\n",
              "      fill: #1967D2;\n",
              "      height: 32px;\n",
              "      padding: 0 0 0 0;\n",
              "      width: 32px;\n",
              "    }\n",
              "\n",
              "    .colab-df-convert:hover {\n",
              "      background-color: #E2EBFA;\n",
              "      box-shadow: 0px 1px 2px rgba(60, 64, 67, 0.3), 0px 1px 3px 1px rgba(60, 64, 67, 0.15);\n",
              "      fill: #174EA6;\n",
              "    }\n",
              "\n",
              "    [theme=dark] .colab-df-convert {\n",
              "      background-color: #3B4455;\n",
              "      fill: #D2E3FC;\n",
              "    }\n",
              "\n",
              "    [theme=dark] .colab-df-convert:hover {\n",
              "      background-color: #434B5C;\n",
              "      box-shadow: 0px 1px 3px 1px rgba(0, 0, 0, 0.15);\n",
              "      filter: drop-shadow(0px 1px 2px rgba(0, 0, 0, 0.3));\n",
              "      fill: #FFFFFF;\n",
              "    }\n",
              "  </style>\n",
              "\n",
              "      <script>\n",
              "        const buttonEl =\n",
              "          document.querySelector('#df-a914dddd-6f83-4f7c-ba59-522976ce1937 button.colab-df-convert');\n",
              "        buttonEl.style.display =\n",
              "          google.colab.kernel.accessAllowed ? 'block' : 'none';\n",
              "\n",
              "        async function convertToInteractive(key) {\n",
              "          const element = document.querySelector('#df-a914dddd-6f83-4f7c-ba59-522976ce1937');\n",
              "          const dataTable =\n",
              "            await google.colab.kernel.invokeFunction('convertToInteractive',\n",
              "                                                     [key], {});\n",
              "          if (!dataTable) return;\n",
              "\n",
              "          const docLinkHtml = 'Like what you see? Visit the ' +\n",
              "            '<a target=\"_blank\" href=https://colab.research.google.com/notebooks/data_table.ipynb>data table notebook</a>'\n",
              "            + ' to learn more about interactive tables.';\n",
              "          element.innerHTML = '';\n",
              "          dataTable['output_type'] = 'display_data';\n",
              "          await google.colab.output.renderOutput(dataTable, element);\n",
              "          const docLink = document.createElement('div');\n",
              "          docLink.innerHTML = docLinkHtml;\n",
              "          element.appendChild(docLink);\n",
              "        }\n",
              "      </script>\n",
              "    </div>\n",
              "  </div>\n",
              "  "
            ]
          },
          "metadata": {},
          "execution_count": 5
        }
      ]
    },
    {
      "cell_type": "code",
      "source": [
        "X=data[2].values\n",
        "X.shape"
      ],
      "metadata": {
        "colab": {
          "base_uri": "https://localhost:8080/"
        },
        "id": "i51daqp9ecPw",
        "outputId": "f43ab0f5-9923-439c-aa7f-eb29b1fe855b"
      },
      "execution_count": null,
      "outputs": [
        {
          "output_type": "execute_result",
          "data": {
            "text/plain": [
              "(102,)"
            ]
          },
          "metadata": {},
          "execution_count": 6
        }
      ]
    },
    {
      "cell_type": "code",
      "source": [
        "X=data[2]\n",
        "X.head(10)"
      ],
      "metadata": {
        "colab": {
          "base_uri": "https://localhost:8080/"
        },
        "id": "WZ044Mm2q7UW",
        "outputId": "657a2705-13e5-4554-f135-0800603e1178"
      },
      "execution_count": null,
      "outputs": [
        {
          "output_type": "execute_result",
          "data": {
            "text/plain": [
              "0       1971\n",
              "1       1972\n",
              "2       1974\n",
              "3       1974\n",
              "4       1974\n",
              "5    1974[7]\n",
              "6       1975\n",
              "7       1976\n",
              "8       1976\n",
              "9       1978\n",
              "Name: 2, dtype: object"
            ]
          },
          "metadata": {},
          "execution_count": 7
        }
      ]
    },
    {
      "cell_type": "code",
      "source": [
        "def func(x):\n",
        "  return x.split('[')[0]"
      ],
      "metadata": {
        "id": "1wZq94Wqq8Cm"
      },
      "execution_count": null,
      "outputs": []
    },
    {
      "cell_type": "code",
      "source": [
        "X=X.apply(lambda X:X.split('[')[0])\n",
        "X.head(10)"
      ],
      "metadata": {
        "colab": {
          "base_uri": "https://localhost:8080/"
        },
        "id": "Sk4t3mK7q8Xe",
        "outputId": "284cea60-1d9e-4a13-c857-a4cabaece1c2"
      },
      "execution_count": null,
      "outputs": [
        {
          "output_type": "execute_result",
          "data": {
            "text/plain": [
              "0    1971\n",
              "1    1972\n",
              "2    1974\n",
              "3    1974\n",
              "4    1974\n",
              "5    1974\n",
              "6    1975\n",
              "7    1976\n",
              "8    1976\n",
              "9    1978\n",
              "Name: 2, dtype: object"
            ]
          },
          "metadata": {},
          "execution_count": 9
        }
      ]
    },
    {
      "cell_type": "code",
      "source": [
        "X.values\n",
        "X.shape"
      ],
      "metadata": {
        "colab": {
          "base_uri": "https://localhost:8080/"
        },
        "id": "OzTLcNOlrHiv",
        "outputId": "e78aa5b9-b433-46f2-88d2-d43450f248bd"
      },
      "execution_count": null,
      "outputs": [
        {
          "output_type": "execute_result",
          "data": {
            "text/plain": [
              "(102,)"
            ]
          },
          "metadata": {},
          "execution_count": 10
        }
      ]
    },
    {
      "cell_type": "code",
      "source": [
        "Y=data[1]\n",
        "Y.head(10)"
      ],
      "metadata": {
        "colab": {
          "base_uri": "https://localhost:8080/"
        },
        "id": "C1RH5Ot9rfTm",
        "outputId": "2af55f26-a123-40c6-f502-80434c0130c0"
      },
      "execution_count": null,
      "outputs": [
        {
          "output_type": "execute_result",
          "data": {
            "text/plain": [
              "0       2,300\n",
              "1       3,500\n",
              "2       4,500\n",
              "3       4,100\n",
              "4       5,000\n",
              "5       8,000\n",
              "6    3,510[8]\n",
              "7       6,500\n",
              "8       8,500\n",
              "9      29,000\n",
              "Name: 1, dtype: object"
            ]
          },
          "metadata": {},
          "execution_count": 11
        }
      ]
    },
    {
      "cell_type": "code",
      "source": [
        "Y=Y.apply(lambda Y:Y.split('[')[0])\n",
        "Y.head(10)"
      ],
      "metadata": {
        "colab": {
          "base_uri": "https://localhost:8080/"
        },
        "id": "_Sn7bxzfrft-",
        "outputId": "a4ae56df-5847-4764-8cfb-03de200b7ccb"
      },
      "execution_count": null,
      "outputs": [
        {
          "output_type": "execute_result",
          "data": {
            "text/plain": [
              "0     2,300\n",
              "1     3,500\n",
              "2     4,500\n",
              "3     4,100\n",
              "4     5,000\n",
              "5     8,000\n",
              "6     3,510\n",
              "7     6,500\n",
              "8     8,500\n",
              "9    29,000\n",
              "Name: 1, dtype: object"
            ]
          },
          "metadata": {},
          "execution_count": 12
        }
      ]
    },
    {
      "cell_type": "code",
      "source": [],
      "metadata": {
        "id": "YZZ6GtLRroee"
      },
      "execution_count": null,
      "outputs": []
    },
    {
      "cell_type": "code",
      "source": [],
      "metadata": {
        "id": "ni0YWKbkromN"
      },
      "execution_count": null,
      "outputs": []
    },
    {
      "cell_type": "code",
      "source": [
        "Y=Y.values\n",
        "Y.shape"
      ],
      "metadata": {
        "colab": {
          "base_uri": "https://localhost:8080/"
        },
        "id": "cUlPqGEFDFaR",
        "outputId": "edc94975-b79d-4778-8eb5-114efb340b1a"
      },
      "execution_count": null,
      "outputs": [
        {
          "output_type": "execute_result",
          "data": {
            "text/plain": [
              "(102,)"
            ]
          },
          "metadata": {},
          "execution_count": 13
        }
      ]
    },
    {
      "cell_type": "code",
      "source": [
        "X"
      ],
      "metadata": {
        "id": "3UKpecFPepm5",
        "colab": {
          "base_uri": "https://localhost:8080/"
        },
        "outputId": "7a2dc1c1-fea6-4547-95c8-a790854feb7f"
      },
      "execution_count": null,
      "outputs": [
        {
          "output_type": "execute_result",
          "data": {
            "text/plain": [
              "0      1971\n",
              "1      1972\n",
              "2      1974\n",
              "3      1974\n",
              "4      1974\n",
              "       ... \n",
              "97     2015\n",
              "98     2015\n",
              "99     2015\n",
              "100    2015\n",
              "101    2016\n",
              "Name: 2, Length: 102, dtype: object"
            ]
          },
          "metadata": {},
          "execution_count": 14
        }
      ]
    },
    {
      "cell_type": "code",
      "source": [
        "Y"
      ],
      "metadata": {
        "colab": {
          "base_uri": "https://localhost:8080/"
        },
        "id": "vNwLgJjte4QQ",
        "outputId": "dbe839c2-c415-4103-ffdb-056e61dca41c"
      },
      "execution_count": null,
      "outputs": [
        {
          "output_type": "execute_result",
          "data": {
            "text/plain": [
              "array(['2,300', '3,500', '4,500', '4,100', '5,000', '8,000', '3,510',\n",
              "       '6,500', '8,500', '29,000', '9,000', '29,000', '68,000', '11,500',\n",
              "       '55,000', '134,000', '22,000', '190,000', '25,000', '275,000',\n",
              "       '16,000', '30,000', '553,000', '180,000', '250,000', '300,000',\n",
              "       '1,180,235', '35,000', '1,350,000', '3,100,000', '578,977',\n",
              "       '5,500,000', '2,500,000', '4,300,000', '8,800,000', '7,500,000',\n",
              "       '7,500,000', '21,300,000', '22,000,000', '111,000', '27,400,000',\n",
              "       '9,500,000', '42,000,000', '21,000,000', '45,000,000',\n",
              "       '220,000,000', '55,000,000', '105,900,000', '54,300,000',\n",
              "       '410,000,000', '592,000,000', '112,000,000', '169,000,000',\n",
              "       '228,000,000', '241,000,000', '291,000,000', '1,700,000,000',\n",
              "       '184,000,000', '362,000,000', '463,000,000', '26,000,000',\n",
              "       '169,000,000', '411,000,000', '789,000,000', '758,000,000',\n",
              "       '47,000,000', '230,000,000', '731,000,000', '1,900,000,000',\n",
              "       '904,000,000', '1,000,000,000', '1,200,000,000', '2,300,000,000',\n",
              "       '2,000,000,000', '1,400,000,000', '1,170,000,000', '2,600,000,000',\n",
              "       '1,160,000,000', '2,270,000,000', '5,000,000,000', '1,200,000,000',\n",
              "       '3,100,000,000', '2,100,000,000', '1,303,000,000', '1,400,000,000',\n",
              "       '2,750,000,000', '4,200,000,000', '1,000,000,000', '1,860,000,000',\n",
              "       '5,000,000,000', '4,310,000,000', '5,560,000,000', '2,600,000,000',\n",
              "       '2,000,000,000', '3,000,000,000', '1,400,000,000', '1,900,000,000',\n",
              "       '3,990,000,000', '7,100,000,000', 'cca 1,750,000,000',\n",
              "       '10,000,000,000', '~7,200,000,000'], dtype=object)"
            ]
          },
          "metadata": {},
          "execution_count": 15
        }
      ]
    },
    {
      "cell_type": "code",
      "source": [
        "plt.figure(figsize=(10,6))\n",
        "plt.scatter(X,Y)"
      ],
      "metadata": {
        "colab": {
          "base_uri": "https://localhost:8080/",
          "height": 391
        },
        "id": "CHXWqXxzDK-J",
        "outputId": "c70b93a3-8a97-4e59-b9e5-9c4ef18ba745"
      },
      "execution_count": null,
      "outputs": [
        {
          "output_type": "execute_result",
          "data": {
            "text/plain": [
              "<matplotlib.collections.PathCollection at 0x7fa413d1bf90>"
            ]
          },
          "metadata": {},
          "execution_count": 16
        },
        {
          "output_type": "display_data",
          "data": {
            "text/plain": [
              "<Figure size 720x432 with 1 Axes>"
            ],
            "image/png": "[encoded data removed]"
          },
          "metadata": {
            "needs_background": "light"
          }
        }
      ]
    },
    {
      "cell_type": "code",
      "source": [
        "X=X.values.reshape(-1,1)\n",
        "Y=Y.reshape(-1,1)"
      ],
      "metadata": {
        "id": "wI8YjDybcstZ"
      },
      "execution_count": null,
      "outputs": []
    },
    {
      "cell_type": "code",
      "source": [
        "X.shape"
      ],
      "metadata": {
        "colab": {
          "base_uri": "https://localhost:8080/"
        },
        "id": "uO4A3DBtpc6-",
        "outputId": "6806a875-c2e9-4674-9b6f-b1803a2924f2"
      },
      "execution_count": null,
      "outputs": [
        {
          "output_type": "execute_result",
          "data": {
            "text/plain": [
              "(102, 1)"
            ]
          },
          "metadata": {},
          "execution_count": 18
        }
      ]
    },
    {
      "cell_type": "code",
      "source": [
        "Y.shape"
      ],
      "metadata": {
        "colab": {
          "base_uri": "https://localhost:8080/"
        },
        "id": "btSRMfFSpktN",
        "outputId": "9f9cca54-3e99-47fd-ceb8-fac5306fe1d0"
      },
      "execution_count": null,
      "outputs": [
        {
          "output_type": "execute_result",
          "data": {
            "text/plain": [
              "(102, 1)"
            ]
          },
          "metadata": {},
          "execution_count": 19
        }
      ]
    },
    {
      "cell_type": "code",
      "source": [
        "X=X[:,0]"
      ],
      "metadata": {
        "id": "LK6_gxUSt1zV"
      },
      "execution_count": null,
      "outputs": []
    },
    {
      "cell_type": "code",
      "source": [
        "Y=Y[:,0]\n"
      ],
      "metadata": {
        "id": "Es1EH4ENt3G1"
      },
      "execution_count": null,
      "outputs": []
    },
    {
      "cell_type": "code",
      "source": [
        "plt.figure(figsize=(10,8))\n",
        "plt.scatter(X,Y)"
      ],
      "metadata": {
        "colab": {
          "base_uri": "https://localhost:8080/",
          "height": 500
        },
        "id": "VMnjO7SSuT1-",
        "outputId": "a592d4af-c954-400d-d3fc-d833af1d97c1"
      },
      "execution_count": null,
      "outputs": [
        {
          "output_type": "execute_result",
          "data": {
            "text/plain": [
              "<matplotlib.collections.PathCollection at 0x7fa4136b1490>"
            ]
          },
          "metadata": {},
          "execution_count": 22
        },
        {
          "output_type": "display_data",
          "data": {
            "text/plain": [
              "<Figure size 720x576 with 1 Axes>"
            ],
            "image/png": "[encoded data removed]"
          },
          "metadata": {
            "needs_background": "light"
          }
        }
      ]
    },
    {
      "cell_type": "code",
      "source": [
        "Y=Y.astype(str)"
      ],
      "metadata": {
        "id": "kZb4MYjyu1H-"
      },
      "execution_count": null,
      "outputs": []
    },
    {
      "cell_type": "code",
      "source": [
        "replace_func = np.vectorize(lambda x: (x.replace(',','')))"
      ],
      "metadata": {
        "id": "23mpuKTZ0TLe"
      },
      "execution_count": null,
      "outputs": []
    },
    {
      "cell_type": "code",
      "source": [
        "Y[99]='1,750,000,000'"
      ],
      "metadata": {
        "id": "3r_JB_iT1rou"
      },
      "execution_count": null,
      "outputs": []
    },
    {
      "cell_type": "code",
      "source": [],
      "metadata": {
        "id": "N7Tn6XoZ13zO"
      },
      "execution_count": null,
      "outputs": []
    },
    {
      "cell_type": "code",
      "source": [
        "Y[101]='7,200,000,000'"
      ],
      "metadata": {
        "id": "Y6lDFyAx29GG"
      },
      "execution_count": null,
      "outputs": []
    },
    {
      "cell_type": "code",
      "source": [
        "Y=replace_func(Y).astype(float)"
      ],
      "metadata": {
        "id": "CfFmxU7U3j0-"
      },
      "execution_count": null,
      "outputs": []
    },
    {
      "cell_type": "code",
      "source": [
        "X=X.astype(float)"
      ],
      "metadata": {
        "id": "sRy7BH523pbm"
      },
      "execution_count": null,
      "outputs": []
    },
    {
      "cell_type": "code",
      "source": [
        "plt.scatter(X,Y)"
      ],
      "metadata": {
        "colab": {
          "base_uri": "https://localhost:8080/",
          "height": 293
        },
        "id": "0RUIlRK23wg2",
        "outputId": "28627986-33f4-4560-fc64-6d10d837172a"
      },
      "execution_count": null,
      "outputs": [
        {
          "output_type": "execute_result",
          "data": {
            "text/plain": [
              "<matplotlib.collections.PathCollection at 0x7fa411c83210>"
            ]
          },
          "metadata": {},
          "execution_count": 29
        },
        {
          "output_type": "display_data",
          "data": {
            "text/plain": [
              "<Figure size 432x288 with 1 Axes>"
            ],
            "image/png": "[encoded data removed]"
          },
          "metadata": {
            "needs_background": "light"
          }
        }
      ]
    },
    {
      "cell_type": "code",
      "source": [
        "Y=np.log(Y)"
      ],
      "metadata": {
        "id": "k99WMkt131uG"
      },
      "execution_count": null,
      "outputs": []
    },
    {
      "cell_type": "code",
      "source": [
        "plt.scatter(X,Y)"
      ],
      "metadata": {
        "colab": {
          "base_uri": "https://localhost:8080/",
          "height": 282
        },
        "id": "4rs2W2Zm5zr-",
        "outputId": "5569609d-face-4a02-da03-c94f07e5635a"
      },
      "execution_count": null,
      "outputs": [
        {
          "output_type": "execute_result",
          "data": {
            "text/plain": [
              "<matplotlib.collections.PathCollection at 0x7fa411c6cf90>"
            ]
          },
          "metadata": {},
          "execution_count": 31
        },
        {
          "output_type": "display_data",
          "data": {
            "text/plain": [
              "<Figure size 432x288 with 1 Axes>"
            ],
            "image/png": "[encoded data removed]"
          },
          "metadata": {
            "needs_background": "light"
          }
        }
      ]
    },
    {
      "cell_type": "code",
      "source": [
        "#Preprocessing\n",
        "mx=X.mean()\n",
        "sx=X.std()\n",
        "my=Y.mean()\n",
        "sy=Y.std()"
      ],
      "metadata": {
        "id": "erdW90X951fO"
      },
      "execution_count": null,
      "outputs": []
    },
    {
      "cell_type": "code",
      "source": [
        "X=(X-mx)/sx\n",
        "Y=(Y-my)/sy\n",
        "plt.scatter(X,Y)"
      ],
      "metadata": {
        "colab": {
          "base_uri": "https://localhost:8080/",
          "height": 282
        },
        "id": "Cvf_wrFL9L7W",
        "outputId": "e10fba41-6d8c-424f-e061-97b467f97f05"
      },
      "execution_count": null,
      "outputs": [
        {
          "output_type": "execute_result",
          "data": {
            "text/plain": [
              "<matplotlib.collections.PathCollection at 0x7fa411bdac10>"
            ]
          },
          "metadata": {},
          "execution_count": 33
        },
        {
          "output_type": "display_data",
          "data": {
            "text/plain": [
              "<Figure size 432x288 with 1 Axes>"
            ],
            "image/png": "[encoded data removed]"
          },
          "metadata": {
            "needs_background": "light"
          }
        }
      ]
    },
    {
      "cell_type": "code",
      "source": [
        "#Convert the data to float32\n",
        "X=X.astype(np.float32)\n",
        "Y=Y.astype(np.float32)"
      ],
      "metadata": {
        "id": "a7hVPUBm9U12"
      },
      "execution_count": null,
      "outputs": []
    },
    {
      "cell_type": "code",
      "source": [
        "X=X.reshape(-1,1)"
      ],
      "metadata": {
        "id": "kZ9Tk9QU1qMb"
      },
      "execution_count": null,
      "outputs": []
    },
    {
      "cell_type": "code",
      "source": [
        "X.shape"
      ],
      "metadata": {
        "colab": {
          "base_uri": "https://localhost:8080/"
        },
        "id": "DqfTDYnKDd_L",
        "outputId": "54c85414-462c-4bfd-8dd2-a744f0adc66e"
      },
      "execution_count": null,
      "outputs": [
        {
          "output_type": "execute_result",
          "data": {
            "text/plain": [
              "(102, 1)"
            ]
          },
          "metadata": {},
          "execution_count": 36
        }
      ]
    },
    {
      "cell_type": "code",
      "source": [
        "Y=Y.reshape(-1,1)"
      ],
      "metadata": {
        "id": "EXMfX40-Dl26"
      },
      "execution_count": null,
      "outputs": []
    },
    {
      "cell_type": "code",
      "source": [
        "model=nn.Linear(1,1)"
      ],
      "metadata": {
        "id": "ETwI0u4fDoei"
      },
      "execution_count": null,
      "outputs": []
    },
    {
      "cell_type": "code",
      "source": [
        "#Convert the data to float32\n",
        "X=X.astype(np.float32)\n",
        "Y=Y.astype(np.float32)"
      ],
      "metadata": {
        "id": "RQzVN2Z8Gj_S"
      },
      "execution_count": null,
      "outputs": []
    },
    {
      "cell_type": "code",
      "source": [
        "#LOSS AND OPTİMİZER\n",
        "criterion=nn.MSELoss()\n",
        "optimizer=torch.optim.SGD(model.parameters(),lr=0.01,momentum=0.7)\n",
        "inputs=torch.from_numpy(X)\n",
        "targets=torch.from_numpy(Y)"
      ],
      "metadata": {
        "id": "LLMzPyphD5Jx"
      },
      "execution_count": null,
      "outputs": []
    },
    {
      "cell_type": "code",
      "source": [
        "#TRAIN THE MODEL\n",
        "n_epochs=100\n",
        "losses=[]\n",
        "\n",
        "for it in range(n_epochs):\n",
        "  #zero the parameter gradients\n",
        "  optimizer.zero_grad() #zero the parameter gradients\n",
        "  #forward pass\n",
        "  outputs=model(inputs) #forward pass  \n",
        "  \n",
        "  loss=criterion(outputs,targets)\n",
        "  \n",
        "  \n",
        "  #record the loss\n",
        "  losses.append(loss.item()) # record the loss\n",
        "  \n",
        "  #loss.requires_grad = True\n",
        "  #loss.retain_grad()\n",
        "  loss.backward() #backward and optimizer\n",
        "\n",
        "  optimizer.step()\n",
        "\n",
        "  print(f'Epoch {it+1}/{n_epochs},Loss:{loss.item():.4f}')"
      ],
      "metadata": {
        "colab": {
          "base_uri": "https://localhost:8080/"
        },
        "id": "c5ocCipbD7PC",
        "outputId": "d5227d19-99f1-4e9b-a8d8-13f209ad9292"
      },
      "execution_count": null,
      "outputs": [
        {
          "output_type": "stream",
          "name": "stdout",
          "text": [
            "Epoch 1/100,Loss:2.1542\n",
            "Epoch 2/100,Loss:2.0707\n",
            "Epoch 3/100,Loss:1.9343\n",
            "Epoch 4/100,Loss:1.7688\n",
            "Epoch 5/100,Loss:1.5916\n",
            "Epoch 6/100,Loss:1.4145\n",
            "Epoch 7/100,Loss:1.2452\n",
            "Epoch 8/100,Loss:1.0882\n",
            "Epoch 9/100,Loss:0.9457\n",
            "Epoch 10/100,Loss:0.8186\n",
            "Epoch 11/100,Loss:0.7065\n",
            "Epoch 12/100,Loss:0.6087\n",
            "Epoch 13/100,Loss:0.5239\n",
            "Epoch 14/100,Loss:0.4510\n",
            "Epoch 15/100,Loss:0.3885\n",
            "Epoch 16/100,Loss:0.3352\n",
            "Epoch 17/100,Loss:0.2899\n",
            "Epoch 18/100,Loss:0.2515\n",
            "Epoch 19/100,Loss:0.2190\n",
            "Epoch 20/100,Loss:0.1915\n",
            "Epoch 21/100,Loss:0.1684\n",
            "Epoch 22/100,Loss:0.1489\n",
            "Epoch 23/100,Loss:0.1325\n",
            "Epoch 24/100,Loss:0.1187\n",
            "Epoch 25/100,Loss:0.1071\n",
            "Epoch 26/100,Loss:0.0974\n",
            "Epoch 27/100,Loss:0.0892\n",
            "Epoch 28/100,Loss:0.0824\n",
            "Epoch 29/100,Loss:0.0766\n",
            "Epoch 30/100,Loss:0.0718\n",
            "Epoch 31/100,Loss:0.0678\n",
            "Epoch 32/100,Loss:0.0644\n",
            "Epoch 33/100,Loss:0.0616\n",
            "Epoch 34/100,Loss:0.0592\n",
            "Epoch 35/100,Loss:0.0572\n",
            "Epoch 36/100,Loss:0.0556\n",
            "Epoch 37/100,Loss:0.0542\n",
            "Epoch 38/100,Loss:0.0530\n",
            "Epoch 39/100,Loss:0.0521\n",
            "Epoch 40/100,Loss:0.0512\n",
            "Epoch 41/100,Loss:0.0506\n",
            "Epoch 42/100,Loss:0.0500\n",
            "Epoch 43/100,Loss:0.0495\n",
            "Epoch 44/100,Loss:0.0491\n",
            "Epoch 45/100,Loss:0.0488\n",
            "Epoch 46/100,Loss:0.0485\n",
            "Epoch 47/100,Loss:0.0483\n",
            "Epoch 48/100,Loss:0.0481\n",
            "Epoch 49/100,Loss:0.0479\n",
            "Epoch 50/100,Loss:0.0478\n",
            "Epoch 51/100,Loss:0.0476\n",
            "Epoch 52/100,Loss:0.0476\n",
            "Epoch 53/100,Loss:0.0475\n",
            "Epoch 54/100,Loss:0.0474\n",
            "Epoch 55/100,Loss:0.0473\n",
            "Epoch 56/100,Loss:0.0473\n",
            "Epoch 57/100,Loss:0.0473\n",
            "Epoch 58/100,Loss:0.0472\n",
            "Epoch 59/100,Loss:0.0472\n",
            "Epoch 60/100,Loss:0.0472\n",
            "Epoch 61/100,Loss:0.0472\n",
            "Epoch 62/100,Loss:0.0471\n",
            "Epoch 63/100,Loss:0.0471\n",
            "Epoch 64/100,Loss:0.0471\n",
            "Epoch 65/100,Loss:0.0471\n",
            "Epoch 66/100,Loss:0.0471\n",
            "Epoch 67/100,Loss:0.0471\n",
            "Epoch 68/100,Loss:0.0471\n",
            "Epoch 69/100,Loss:0.0471\n",
            "Epoch 70/100,Loss:0.0471\n",
            "Epoch 71/100,Loss:0.0471\n",
            "Epoch 72/100,Loss:0.0471\n",
            "Epoch 73/100,Loss:0.0471\n",
            "Epoch 74/100,Loss:0.0471\n",
            "Epoch 75/100,Loss:0.0471\n",
            "Epoch 76/100,Loss:0.0471\n",
            "Epoch 77/100,Loss:0.0471\n",
            "Epoch 78/100,Loss:0.0471\n",
            "Epoch 79/100,Loss:0.0471\n",
            "Epoch 80/100,Loss:0.0471\n",
            "Epoch 81/100,Loss:0.0471\n",
            "Epoch 82/100,Loss:0.0471\n",
            "Epoch 83/100,Loss:0.0471\n",
            "Epoch 84/100,Loss:0.0471\n",
            "Epoch 85/100,Loss:0.0471\n",
            "Epoch 86/100,Loss:0.0471\n",
            "Epoch 87/100,Loss:0.0471\n",
            "Epoch 88/100,Loss:0.0471\n",
            "Epoch 89/100,Loss:0.0471\n",
            "Epoch 90/100,Loss:0.0471\n",
            "Epoch 91/100,Loss:0.0471\n",
            "Epoch 92/100,Loss:0.0471\n",
            "Epoch 93/100,Loss:0.0471\n",
            "Epoch 94/100,Loss:0.0471\n",
            "Epoch 95/100,Loss:0.0471\n",
            "Epoch 96/100,Loss:0.0471\n",
            "Epoch 97/100,Loss:0.0471\n",
            "Epoch 98/100,Loss:0.0471\n",
            "Epoch 99/100,Loss:0.0471\n",
            "Epoch 100/100,Loss:0.0471\n"
          ]
        }
      ]
    },
    {
      "cell_type": "code",
      "source": [
        "#loss per iteration\n",
        "plt.plot(losses)"
      ],
      "metadata": {
        "colab": {
          "base_uri": "https://localhost:8080/",
          "height": 282
        },
        "id": "bVDdYm_CD9SK",
        "outputId": "7a90ecc8-1865-46c5-d7b8-bcb3950e39ea"
      },
      "execution_count": null,
      "outputs": [
        {
          "output_type": "execute_result",
          "data": {
            "text/plain": [
              "[<matplotlib.lines.Line2D at 0x7fa411b63390>]"
            ]
          },
          "metadata": {},
          "execution_count": 42
        },
        {
          "output_type": "display_data",
          "data": {
            "text/plain": [
              "<Figure size 432x288 with 1 Axes>"
            ],
            "image/png": "[encoded data removed]"
          },
          "metadata": {
            "needs_background": "light"
          }
        }
      ]
    },
    {
      "cell_type": "code",
      "source": [
        "#prediction\n",
        "predicted=model(torch.from_numpy(X)).detach().numpy()\n",
        "plt.plot(X,Y,'ro',label='Original Data')\n",
        "plt.plot(X,predicted,label='predicted data')\n",
        "plt.legend()\n",
        "plt.show()"
      ],
      "metadata": {
        "colab": {
          "base_uri": "https://localhost:8080/",
          "height": 265
        },
        "id": "Gl1lLMU3LENZ",
        "outputId": "c2c4aaef-d49d-4f37-db18-bb4dbd4d8129"
      },
      "execution_count": null,
      "outputs": [
        {
          "output_type": "display_data",
          "data": {
            "text/plain": [
              "<Figure size 432x288 with 1 Axes>"
            ],
            "image/png": "[encoded data removed]"
          },
          "metadata": {
            "needs_background": "light"
          }
        }
      ]
    },
    {
      "cell_type": "code",
      "source": [
        "#what does this mean?\n",
        "w=model.weight.data.numpy()\n",
        "print(w)"
      ],
      "metadata": {
        "colab": {
          "base_uri": "https://localhost:8080/"
        },
        "id": "8gOn-9voL00x",
        "outputId": "d24f3ad3-0aff-4d79-93c2-dfcd90b900ca"
      },
      "execution_count": null,
      "outputs": [
        {
          "output_type": "stream",
          "name": "stdout",
          "text": [
            "[[0.9759745]]\n"
          ]
        }
      ]
    },
    {
      "cell_type": "code",
      "source": [
        "a=w[0,0]*sy/sx"
      ],
      "metadata": {
        "id": "tnOx8YAUfrOJ"
      },
      "execution_count": null,
      "outputs": []
    },
    {
      "cell_type": "code",
      "source": [
        "a"
      ],
      "metadata": {
        "colab": {
          "base_uri": "https://localhost:8080/"
        },
        "id": "dMd8HsiQfxvo",
        "outputId": "1bac6561-d67c-4632-8cc3-675ba4b54a0a"
      },
      "execution_count": null,
      "outputs": [
        {
          "output_type": "execute_result",
          "data": {
            "text/plain": [
              "0.35096656285166006"
            ]
          },
          "metadata": {},
          "execution_count": 46
        }
      ]
    },
    {
      "cell_type": "code",
      "source": [
        "print('Time to double:',np.log(2)/a)"
      ],
      "metadata": {
        "colab": {
          "base_uri": "https://localhost:8080/"
        },
        "id": "Mp-eWEpafylR",
        "outputId": "8b69bd3f-4324-4497-f18d-1142beceaa79"
      },
      "execution_count": null,
      "outputs": [
        {
          "output_type": "stream",
          "name": "stdout",
          "text": [
            "Time to double: 1.9749664324943448\n"
          ]
        }
      ]
    },
    {
      "cell_type": "code",
      "source": [],
      "metadata": {
        "id": "0JOVpnDSf8FI"
      },
      "execution_count": null,
      "outputs": []
    }
  ]
}