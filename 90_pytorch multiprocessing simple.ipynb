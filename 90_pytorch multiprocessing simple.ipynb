{
 "cells": [
  {
   "cell_type": "code",
   "execution_count": 11,
   "metadata": {},
   "outputs": [],
   "source": [
    "import torch \n",
    "import torch.nn as nn \n",
    "import torch.multiprocessing as mp\n",
    "import math\n",
    "import time"
   ]
  },
  {
   "cell_type": "code",
   "execution_count": 12,
   "metadata": {},
   "outputs": [
    {
     "name": "stdout",
     "output_type": "stream",
     "text": [
      "2.3037126064300537\n"
     ]
    }
   ],
   "source": [
    "resultsa=[]\n",
    "resultsb=[]\n",
    "resultsc=[]\n",
    "\n",
    "def make_calculations_one(numbers):\n",
    "    for number in numbers:\n",
    "        resultsa.append(math.sqrt(number ** 3))\n",
    "\n",
    "def make_calculations_two(numbers):\n",
    "    for number in numbers:\n",
    "        resultsb.append(math.sqrt(number ** 4))\n",
    "\n",
    "def make_calculations_three(numbers):\n",
    "    for number in numbers:\n",
    "        resultsc.append(math.sqrt(number ** 5))\n",
    "\n",
    "if __name__=='__main__':\n",
    "    number_list=list(range(5000000))\n",
    "\n",
    "    start=time.time()\n",
    "    make_calculations_one(number_list)\n",
    "    make_calculations_two(number_list)\n",
    "    make_calculations_three(number_list)\n",
    "    end=time.time()\n",
    "\n",
    "    print(end-start)"
   ]
  },
  {
   "cell_type": "code",
   "execution_count": 13,
   "metadata": {},
   "outputs": [
    {
     "name": "stdout",
     "output_type": "stream",
     "text": [
      "0.004517793655395508\n",
      "0.0\n"
     ]
    }
   ],
   "source": [
    "resultsa=[]\n",
    "resultsb=[]\n",
    "resultsc=[]\n",
    "\n",
    "def make_calculations_one(numbers):\n",
    "    for number in numbers:\n",
    "        resultsa.append(math.sqrt(number ** 3))\n",
    "\n",
    "def make_calculations_two(numbers):\n",
    "    for number in numbers:\n",
    "        resultsb.append(math.sqrt(number ** 4))\n",
    "\n",
    "def make_calculations_three(numbers):\n",
    "    for number in numbers:\n",
    "        resultsc.append(math.sqrt(number ** 5))\n",
    "\n",
    "if __name__=='__main__':\n",
    "    number_list=list(range(500))\n",
    "\n",
    "    p1=mp.Process(target=make_calculations_one,args=(number_list))\n",
    "    p2=mp.Process(target=make_calculations_two,args=(number_list))\n",
    "    p3=mp.Process(target=make_calculations_three,args=(number_list))\n",
    "\n",
    "\n",
    "    start=time.time()\n",
    "    p1.start()\n",
    "    p2.start()\n",
    "    p3.start()\n",
    "\n",
    "    end=time.time()\n",
    "\n",
    "    print(end-start)\n",
    "\n",
    "\n",
    "    start=time.time()\n",
    "    make_calculations_one(number_list)\n",
    "    make_calculations_two(number_list)\n",
    "    make_calculations_three(number_list)\n",
    "    end=time.time()\n",
    "\n",
    "    print(end-start)"
   ]
  },
  {
   "cell_type": "code",
   "execution_count": 14,
   "metadata": {},
   "outputs": [
    {
     "name": "stdout",
     "output_type": "stream",
     "text": [
      "0.11420607566833496\n",
      "0.003010272979736328\n",
      "True\n",
      "True\n",
      "True\n"
     ]
    }
   ],
   "source": [
    "resultsa=[]\n",
    "resultsb=[]\n",
    "resultsc=[]\n",
    "\n",
    "def make_calculations_one(numbers):\n",
    "    for number in numbers:\n",
    "        resultsa.append(math.sqrt(number ** 3))\n",
    "\n",
    "def make_calculations_two(numbers):\n",
    "    for number in numbers:\n",
    "        resultsb.append(math.sqrt(number ** 4))\n",
    "\n",
    "def make_calculations_three(numbers):\n",
    "    for number in numbers:\n",
    "        resultsc.append(math.sqrt(number ** 5))\n",
    "\n",
    "if __name__=='__main__':\n",
    "   \n",
    "    number_list=list(range(5000))\n",
    "\n",
    "    p1=mp.Process(target=make_calculations_one,args=(number_list))\n",
    "    p2=mp.Process(target=make_calculations_two,args=(number_list))\n",
    "    p3=mp.Process(target=make_calculations_three,args=(number_list))\n",
    "\n",
    "\n",
    "    start=time.time()\n",
    "    p1.start()\n",
    "    p2.start()\n",
    "    p3.start()\n",
    "\n",
    "    end=time.time()\n",
    "\n",
    "    print(end-start)\n",
    "\n",
    "    tempa=resultsa\n",
    "    tempb=resultsb\n",
    "    tempc=resultsc\n",
    "\n",
    "\n",
    "    start=time.time()\n",
    "    make_calculations_one(number_list)\n",
    "    make_calculations_two(number_list)\n",
    "    make_calculations_three(number_list)\n",
    "    end=time.time()\n",
    "\n",
    "    print(end-start)\n",
    "\n",
    "    print(tempa==resultsa)\n",
    "    print(tempb==resultsb)\n",
    "    print(tempc==resultsc)"
   ]
  },
  {
   "cell_type": "code",
   "execution_count": null,
   "metadata": {},
   "outputs": [],
   "source": []
  }
 ],
 "metadata": {
  "kernelspec": {
   "display_name": "Python 3",
   "language": "python",
   "name": "python3"
  },
  "language_info": {
   "codemirror_mode": {
    "name": "ipython",
    "version": 3
   },
   "file_extension": ".py",
   "mimetype": "text/x-python",
   "name": "python",
   "nbconvert_exporter": "python",
   "pygments_lexer": "ipython3",
   "version": "3.11.3"
  }
 },
 "nbformat": 4,
 "nbformat_minor": 2
}
