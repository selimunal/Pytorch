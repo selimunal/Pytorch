{
  "nbformat": 4,
  "nbformat_minor": 0,
  "metadata": {
    "colab": {
      "provenance": [],
      "authorship_tag": "ABX9TyMUsKtBRs5+n+BExySUiPyS",
      "include_colab_link": true
    },
    "kernelspec": {
      "name": "python3",
      "display_name": "Python 3"
    },
    "language_info": {
      "name": "python"
    }
  },
  "cells": [
    {
      "cell_type": "markdown",
      "metadata": {
        "id": "view-in-github",
        "colab_type": "text"
      },
      "source": [
        "<a href=\"https://colab.research.google.com/github/selimunal/Pytorch/blob/main/PyTorch_Linear_Classification.ipynb\" target=\"_parent\"><img src=\"https://colab.research.google.com/assets/colab-badge.svg\" alt=\"Open In Colab\"/></a>"
      ]
    },
    {
      "cell_type": "code",
      "execution_count": null,
      "metadata": {
        "id": "myn28Dp4wrWh"
      },
      "outputs": [],
      "source": [
        "import torch\n",
        "import torch.nn as nn\n",
        "import matplotlib.pyplot as plt\n",
        "import numpy as np"
      ]
    },
    {
      "cell_type": "code",
      "source": [
        "#load the data\n",
        "from sklearn.datasets import load_breast_cancer\n",
        "data=load_breast_cancer()"
      ],
      "metadata": {
        "id": "Mk8OZGo-xcvj"
      },
      "execution_count": null,
      "outputs": []
    },
    {
      "cell_type": "code",
      "source": [
        "type(data)"
      ],
      "metadata": {
        "colab": {
          "base_uri": "https://localhost:8080/"
        },
        "id": "UPKuQ2MWxq28",
        "outputId": "05dc83b1-26d9-4e51-8b55-6caf1a7ebb1c"
      },
      "execution_count": null,
      "outputs": [
        {
          "output_type": "execute_result",
          "data": {
            "text/plain": [
              "sklearn.utils.Bunch"
            ]
          },
          "metadata": {},
          "execution_count": 3
        }
      ]
    },
    {
      "cell_type": "code",
      "source": [
        "data.keys()"
      ],
      "metadata": {
        "colab": {
          "base_uri": "https://localhost:8080/"
        },
        "id": "UjWErbKLxsbc",
        "outputId": "2700c31e-100c-4f29-8bc4-b2fd5ef4f31a"
      },
      "execution_count": null,
      "outputs": [
        {
          "output_type": "execute_result",
          "data": {
            "text/plain": [
              "dict_keys(['data', 'target', 'frame', 'target_names', 'DESCR', 'feature_names', 'filename', 'data_module'])"
            ]
          },
          "metadata": {},
          "execution_count": 4
        }
      ]
    },
    {
      "cell_type": "code",
      "source": [
        "data.data.shape"
      ],
      "metadata": {
        "colab": {
          "base_uri": "https://localhost:8080/"
        },
        "id": "vn7pOVGdynyN",
        "outputId": "0d55a8e4-c72a-4401-ae91-77e050893f64"
      },
      "execution_count": null,
      "outputs": [
        {
          "output_type": "execute_result",
          "data": {
            "text/plain": [
              "(569, 30)"
            ]
          },
          "metadata": {},
          "execution_count": 5
        }
      ]
    },
    {
      "cell_type": "code",
      "source": [
        "data.target.shape"
      ],
      "metadata": {
        "colab": {
          "base_uri": "https://localhost:8080/"
        },
        "id": "mt9pr460yooV",
        "outputId": "81eafc6b-4a23-4059-a30b-cee272c55cf1"
      },
      "execution_count": null,
      "outputs": [
        {
          "output_type": "execute_result",
          "data": {
            "text/plain": [
              "(569,)"
            ]
          },
          "metadata": {},
          "execution_count": 6
        }
      ]
    },
    {
      "cell_type": "code",
      "source": [
        "data.target"
      ],
      "metadata": {
        "colab": {
          "base_uri": "https://localhost:8080/"
        },
        "id": "n-8CKhzkyttF",
        "outputId": "6af06da3-cdcd-4b70-81f4-302f499dc691"
      },
      "execution_count": null,
      "outputs": [
        {
          "output_type": "execute_result",
          "data": {
            "text/plain": [
              "array([0, 0, 0, 0, 0, 0, 0, 0, 0, 0, 0, 0, 0, 0, 0, 0, 0, 0, 0, 1, 1, 1,\n",
              "       0, 0, 0, 0, 0, 0, 0, 0, 0, 0, 0, 0, 0, 0, 0, 1, 0, 0, 0, 0, 0, 0,\n",
              "       0, 0, 1, 0, 1, 1, 1, 1, 1, 0, 0, 1, 0, 0, 1, 1, 1, 1, 0, 1, 0, 0,\n",
              "       1, 1, 1, 1, 0, 1, 0, 0, 1, 0, 1, 0, 0, 1, 1, 1, 0, 0, 1, 0, 0, 0,\n",
              "       1, 1, 1, 0, 1, 1, 0, 0, 1, 1, 1, 0, 0, 1, 1, 1, 1, 0, 1, 1, 0, 1,\n",
              "       1, 1, 1, 1, 1, 1, 1, 0, 0, 0, 1, 0, 0, 1, 1, 1, 0, 0, 1, 0, 1, 0,\n",
              "       0, 1, 0, 0, 1, 1, 0, 1, 1, 0, 1, 1, 1, 1, 0, 1, 1, 1, 1, 1, 1, 1,\n",
              "       1, 1, 0, 1, 1, 1, 1, 0, 0, 1, 0, 1, 1, 0, 0, 1, 1, 0, 0, 1, 1, 1,\n",
              "       1, 0, 1, 1, 0, 0, 0, 1, 0, 1, 0, 1, 1, 1, 0, 1, 1, 0, 0, 1, 0, 0,\n",
              "       0, 0, 1, 0, 0, 0, 1, 0, 1, 0, 1, 1, 0, 1, 0, 0, 0, 0, 1, 1, 0, 0,\n",
              "       1, 1, 1, 0, 1, 1, 1, 1, 1, 0, 0, 1, 1, 0, 1, 1, 0, 0, 1, 0, 1, 1,\n",
              "       1, 1, 0, 1, 1, 1, 1, 1, 0, 1, 0, 0, 0, 0, 0, 0, 0, 0, 0, 0, 0, 0,\n",
              "       0, 0, 1, 1, 1, 1, 1, 1, 0, 1, 0, 1, 1, 0, 1, 1, 0, 1, 0, 0, 1, 1,\n",
              "       1, 1, 1, 1, 1, 1, 1, 1, 1, 1, 1, 0, 1, 1, 0, 1, 0, 1, 1, 1, 1, 1,\n",
              "       1, 1, 1, 1, 1, 1, 1, 1, 1, 0, 1, 1, 1, 0, 1, 0, 1, 1, 1, 1, 0, 0,\n",
              "       0, 1, 1, 1, 1, 0, 1, 0, 1, 0, 1, 1, 1, 0, 1, 1, 1, 1, 1, 1, 1, 0,\n",
              "       0, 0, 1, 1, 1, 1, 1, 1, 1, 1, 1, 1, 1, 0, 0, 1, 0, 0, 0, 1, 0, 0,\n",
              "       1, 1, 1, 1, 1, 0, 1, 1, 1, 1, 1, 0, 1, 1, 1, 0, 1, 1, 0, 0, 1, 1,\n",
              "       1, 1, 1, 1, 0, 1, 1, 1, 1, 1, 1, 1, 0, 1, 1, 1, 1, 1, 0, 1, 1, 0,\n",
              "       1, 1, 1, 1, 1, 1, 1, 1, 1, 1, 1, 1, 0, 1, 0, 0, 1, 0, 1, 1, 1, 1,\n",
              "       1, 0, 1, 1, 0, 1, 0, 1, 1, 0, 1, 0, 1, 1, 1, 1, 1, 1, 1, 1, 0, 0,\n",
              "       1, 1, 1, 1, 1, 1, 0, 1, 1, 1, 1, 1, 1, 1, 1, 1, 1, 0, 1, 1, 1, 1,\n",
              "       1, 1, 1, 0, 1, 0, 1, 1, 0, 1, 1, 1, 1, 1, 0, 0, 1, 0, 1, 0, 1, 1,\n",
              "       1, 1, 1, 0, 1, 1, 0, 1, 0, 1, 0, 0, 1, 1, 1, 0, 1, 1, 1, 1, 1, 1,\n",
              "       1, 1, 1, 1, 1, 0, 1, 0, 0, 1, 1, 1, 1, 1, 1, 1, 1, 1, 1, 1, 1, 1,\n",
              "       1, 1, 1, 1, 1, 1, 1, 1, 1, 1, 1, 1, 0, 0, 0, 0, 0, 0, 1])"
            ]
          },
          "metadata": {},
          "execution_count": 7
        }
      ]
    },
    {
      "cell_type": "code",
      "source": [
        "data.target_names"
      ],
      "metadata": {
        "colab": {
          "base_uri": "https://localhost:8080/"
        },
        "id": "o40lWxHMywpN",
        "outputId": "7e58b15c-3b8d-496f-8413-6ec4e18f5bf1"
      },
      "execution_count": null,
      "outputs": [
        {
          "output_type": "execute_result",
          "data": {
            "text/plain": [
              "array(['malignant', 'benign'], dtype='<U9')"
            ]
          },
          "metadata": {},
          "execution_count": 8
        }
      ]
    },
    {
      "cell_type": "code",
      "source": [
        "data.feature_names"
      ],
      "metadata": {
        "colab": {
          "base_uri": "https://localhost:8080/"
        },
        "id": "DxoZiibzy36W",
        "outputId": "15160a23-5986-4f5e-9e74-1b1766bb6299"
      },
      "execution_count": null,
      "outputs": [
        {
          "output_type": "execute_result",
          "data": {
            "text/plain": [
              "array(['mean radius', 'mean texture', 'mean perimeter', 'mean area',\n",
              "       'mean smoothness', 'mean compactness', 'mean concavity',\n",
              "       'mean concave points', 'mean symmetry', 'mean fractal dimension',\n",
              "       'radius error', 'texture error', 'perimeter error', 'area error',\n",
              "       'smoothness error', 'compactness error', 'concavity error',\n",
              "       'concave points error', 'symmetry error',\n",
              "       'fractal dimension error', 'worst radius', 'worst texture',\n",
              "       'worst perimeter', 'worst area', 'worst smoothness',\n",
              "       'worst compactness', 'worst concavity', 'worst concave points',\n",
              "       'worst symmetry', 'worst fractal dimension'], dtype='<U23')"
            ]
          },
          "metadata": {},
          "execution_count": 9
        }
      ]
    },
    {
      "cell_type": "code",
      "source": [
        "from sklearn.model_selection import train_test_split"
      ],
      "metadata": {
        "id": "8ftiGbG-y63d"
      },
      "execution_count": null,
      "outputs": []
    },
    {
      "cell_type": "code",
      "source": [
        "X_train,X_test,y_train,y_test=train_test_split(data.data,data.target,test_size=0.3)"
      ],
      "metadata": {
        "id": "J9wnRm0mzDPM"
      },
      "execution_count": null,
      "outputs": []
    },
    {
      "cell_type": "code",
      "source": [
        "N,D=X_train.shape"
      ],
      "metadata": {
        "id": "8GvTe0DizhP8"
      },
      "execution_count": null,
      "outputs": []
    },
    {
      "cell_type": "code",
      "source": [
        "from sklearn.preprocessing import StandardScaler"
      ],
      "metadata": {
        "id": "mjiIzmgdzkeE"
      },
      "execution_count": null,
      "outputs": []
    },
    {
      "cell_type": "code",
      "source": [
        "#Scale the data\n",
        "scaler=StandardScaler()\n",
        "X_train=scaler.fit_transform(X_train)\n",
        "X_test=scaler.transform(X_test)"
      ],
      "metadata": {
        "id": "z8nP66jRzpH0"
      },
      "execution_count": null,
      "outputs": []
    },
    {
      "cell_type": "code",
      "source": [
        "#Build the model\n",
        "model=nn.Sequential(\n",
        "    nn.Linear(D,1),\n",
        "    nn.Sigmoid()\n",
        ")"
      ],
      "metadata": {
        "id": "P0DfSVUXz15U"
      },
      "execution_count": null,
      "outputs": []
    },
    {
      "cell_type": "code",
      "source": [
        "#loss and optimizer\n",
        "criterion=nn.BCELoss()\n",
        "#criterion=nn.BCEWithLogitsLoss()\n",
        "optimizer=torch.optim.Adam(model.parameters())"
      ],
      "metadata": {
        "id": "Fh6vc-dm1P0E"
      },
      "execution_count": null,
      "outputs": []
    },
    {
      "cell_type": "code",
      "source": [
        "#convert the data to torch tensors\n",
        "X_train=torch.from_numpy(X_train.astype(np.float32))\n",
        "X_test=torch.from_numpy(X_test.astype(np.float32))\n",
        "y_train=torch.from_numpy(y_train.astype(np.float32)).reshape(-1,1)\n",
        "y_test=torch.from_numpy(y_test.astype(np.float32)).reshape(-1,1)"
      ],
      "metadata": {
        "id": "Gc363FEv1dmY"
      },
      "execution_count": null,
      "outputs": []
    },
    {
      "cell_type": "code",
      "source": [
        "#train the model\n",
        "n_epochs=1000\n",
        "\n",
        "#stuff to store\n",
        "train_losses=np.zeros(n_epochs)\n",
        "test_losses=np.zeros(n_epochs)\n",
        "train_acc=np.zeros(n_epochs)\n",
        "test_acc=np.zeros(n_epochs)"
      ],
      "metadata": {
        "id": "kHnIFeUH2yDF"
      },
      "execution_count": null,
      "outputs": []
    },
    {
      "cell_type": "code",
      "source": [
        "for it in range(n_epochs):\n",
        "  #zero the parameter gradients\n",
        "  optimizer.zero_grad()\n",
        "\n",
        "  #forward pass\n",
        "  outputs=model(X_train)\n",
        "  loss=criterion(outputs,y_train)\n",
        "  \n",
        "\n",
        "  #backward and optimize\n",
        "  loss.backward()\n",
        "  optimizer.step()\n",
        "\n",
        "  #get test loss\n",
        "  outputs_test=model(X_test)\n",
        "  loss_test=criterion(outputs_test,y_test)\n",
        "\n",
        "  train_losses[it]=loss.item()\n",
        "  test_losses[it]=loss_test.item()\n",
        "\n",
        "  with torch.no_grad():\n",
        "    p_train=model(X_train)\n",
        "    # p_train=np.round(p_train.numpy())\n",
        "    p_train=(p_train.numpy()>0)\n",
        "    acctrain=np.mean(y_train.numpy()==p_train)\n",
        "\n",
        "    p_test=model(X_test)\n",
        "    #p_test=np.round(p_test.numpy())\n",
        "    p_test=(p_test.numpy()>0)\n",
        "    acctest=np.mean(y_test.numpy()==p_test)\n",
        "\n",
        "    train_acc[it]=acctrain.item()\n",
        "    test_acc[it]=acctest.item()\n",
        "\n",
        "  if (it+1) % 50==0:\n",
        "    print(f'Epoch {it+1}/{n_epochs}, Train loss: {loss.item():.4f},Test Loss: {loss_test.item():.4f}')"
      ],
      "metadata": {
        "colab": {
          "base_uri": "https://localhost:8080/"
        },
        "id": "bdICsD0e3gVs",
        "outputId": "5e5f2e89-6e06-40f5-f130-203b5fb22613"
      },
      "execution_count": null,
      "outputs": [
        {
          "output_type": "stream",
          "name": "stdout",
          "text": [
            "Epoch 50/1000, Train loss: 0.4670,Test Loss: 0.4605\n",
            "Epoch 100/1000, Train loss: 0.3433,Test Loss: 0.3501\n",
            "Epoch 150/1000, Train loss: 0.2762,Test Loss: 0.2910\n",
            "Epoch 200/1000, Train loss: 0.2329,Test Loss: 0.2541\n",
            "Epoch 250/1000, Train loss: 0.2026,Test Loss: 0.2288\n",
            "Epoch 300/1000, Train loss: 0.1802,Test Loss: 0.2105\n",
            "Epoch 350/1000, Train loss: 0.1630,Test Loss: 0.1967\n",
            "Epoch 400/1000, Train loss: 0.1494,Test Loss: 0.1859\n",
            "Epoch 450/1000, Train loss: 0.1384,Test Loss: 0.1773\n",
            "Epoch 500/1000, Train loss: 0.1293,Test Loss: 0.1702\n",
            "Epoch 550/1000, Train loss: 0.1217,Test Loss: 0.1644\n",
            "Epoch 600/1000, Train loss: 0.1152,Test Loss: 0.1594\n",
            "Epoch 650/1000, Train loss: 0.1096,Test Loss: 0.1552\n",
            "Epoch 700/1000, Train loss: 0.1047,Test Loss: 0.1516\n",
            "Epoch 750/1000, Train loss: 0.1004,Test Loss: 0.1484\n",
            "Epoch 800/1000, Train loss: 0.0965,Test Loss: 0.1456\n",
            "Epoch 850/1000, Train loss: 0.0931,Test Loss: 0.1431\n",
            "Epoch 900/1000, Train loss: 0.0900,Test Loss: 0.1409\n",
            "Epoch 950/1000, Train loss: 0.0873,Test Loss: 0.1389\n",
            "Epoch 1000/1000, Train loss: 0.0847,Test Loss: 0.1371\n"
          ]
        }
      ]
    },
    {
      "cell_type": "code",
      "source": [
        "#loss per iteration\n",
        "plt.plot(train_losses,label='train loss')\n",
        "plt.plot(test_losses, label='test loss')\n",
        "plt.legend()\n",
        "plt.show()"
      ],
      "metadata": {
        "colab": {
          "base_uri": "https://localhost:8080/",
          "height": 265
        },
        "id": "TQXgi8Rb84iN",
        "outputId": "9d979091-ed85-4ee8-b0b1-fd2f1e849a2d"
      },
      "execution_count": null,
      "outputs": [
        {
          "output_type": "display_data",
          "data": {
            "text/plain": [
              "<Figure size 432x288 with 1 Axes>"
            ],
            "image/png": "[encoded data removed]"
          },
          "metadata": {
            "needs_background": "light"
          }
        }
      ]
    },
    {
      "cell_type": "code",
      "source": [
        "#accuracy per iteration\n",
        "plt.plot(train_acc,label='train acc')\n",
        "plt.plot(test_acc, label='test acc')\n",
        "plt.legend()\n",
        "plt.show()"
      ],
      "metadata": {
        "colab": {
          "base_uri": "https://localhost:8080/",
          "height": 265
        },
        "id": "BVhMaZqKrk2M",
        "outputId": "216af1f9-1450-4f5e-9f40-65f43b6e0113"
      },
      "execution_count": null,
      "outputs": [
        {
          "output_type": "display_data",
          "data": {
            "text/plain": [
              "<Figure size 432x288 with 1 Axes>"
            ],
            "image/png": "[encoded data removed]"
          },
          "metadata": {
            "needs_background": "light"
          }
        }
      ]
    },
    {
      "cell_type": "code",
      "source": [],
      "metadata": {
        "id": "s33YEi877tqk"
      },
      "execution_count": null,
      "outputs": []
    },
    {
      "cell_type": "code",
      "source": [
        "# #get accouracy\n",
        "# with torch.no_grad():\n",
        "#   p_train=model(X_train)\n",
        "#   p_train=np.round(p_train.numpy())\n",
        "#   train_acc=np.mean(y_train.numpy()==p_train)\n",
        "\n",
        "#   p_test=model(X_test)\n",
        "#   p_test=np.round(p_test.numpy())\n",
        "#   test_acc=np.mean(y_test.numpy()==p_test)\n",
        "\n",
        "# print(f'Train acc: {train_acc:.4f},Test acc: {test_acc:.4f}')"
      ],
      "metadata": {
        "id": "eGqZZ5Gy9H-y"
      },
      "execution_count": null,
      "outputs": []
    },
    {
      "cell_type": "code",
      "source": [
        "# for it in range(n_epochs):\n",
        "#   with torch.no_grad():\n",
        "#     p_train=model(X_train)\n",
        "#     p_train=np.round(p_train.numpy())\n",
        "#     acctrain=np.mean(y_train.numpy()==p_train)\n",
        "\n",
        "#     p_test=model(X_test)\n",
        "#     p_test=np.round(p_test.numpy())\n",
        "#     acctest=np.mean(y_test.numpy()==p_test)\n",
        "\n",
        "    \n",
        "\n",
        "#     if (it+1) % 50==0:\n",
        "#       print(f'Epoch {it+1}/{n_epochs}, Train acc: {acctrain.item():.4f},Test acc: {acctest.item():.4f}')"
      ],
      "metadata": {
        "id": "18RpEP55B6ot"
      },
      "execution_count": null,
      "outputs": []
    },
    {
      "cell_type": "code",
      "source": [
        "model.state_dict()"
      ],
      "metadata": {
        "colab": {
          "base_uri": "https://localhost:8080/"
        },
        "id": "-yQ_55qSI6XF",
        "outputId": "a3ba6e46-f673-436e-df48-ab45c10accb7"
      },
      "execution_count": null,
      "outputs": [
        {
          "output_type": "execute_result",
          "data": {
            "text/plain": [
              "OrderedDict([('0.weight',\n",
              "              tensor([[-0.2481, -0.4760, -0.4479, -0.3200, -0.1221, -0.1865, -0.2197, -0.4600,\n",
              "                       -0.2523,  0.4463, -0.1983,  0.1308, -0.3137, -0.2477, -0.2633, -0.0936,\n",
              "                        0.1751, -0.0544,  0.3309,  0.2893, -0.3643, -0.4801, -0.3230, -0.5308,\n",
              "                       -0.3071, -0.1181, -0.4554, -0.3368, -0.3945, -0.3232]])),\n",
              "             ('0.bias', tensor([0.6150]))])"
            ]
          },
          "metadata": {},
          "execution_count": 24
        }
      ]
    },
    {
      "cell_type": "code",
      "source": [
        "#save the model\n",
        "torch.save(model.state_dict(),'mymodel.pt')"
      ],
      "metadata": {
        "id": "0mOpycR-Ko0U"
      },
      "execution_count": null,
      "outputs": []
    },
    {
      "cell_type": "code",
      "source": [
        "ls"
      ],
      "metadata": {
        "colab": {
          "base_uri": "https://localhost:8080/"
        },
        "id": "RRF_AyRcCfuV",
        "outputId": "0c6e35d2-e2dd-47c2-a7d8-dcfd26bce1db"
      },
      "execution_count": null,
      "outputs": [
        {
          "output_type": "stream",
          "name": "stdout",
          "text": [
            "mymodel.pt  \u001b[0m\u001b[01;34msample_data\u001b[0m/\n"
          ]
        }
      ]
    },
    {
      "cell_type": "code",
      "source": [
        "model2=nn.Sequential(\n",
        "    nn.Linear(D,1),\n",
        "    nn.Sigmoid()\n",
        ")"
      ],
      "metadata": {
        "id": "iQ9UQm8LCgO1"
      },
      "execution_count": null,
      "outputs": []
    },
    {
      "cell_type": "code",
      "source": [
        "# model2.load_state_dict(torch.load('mymodel.pt'))"
      ],
      "metadata": {
        "id": "I__uJj3m4zf8"
      },
      "execution_count": null,
      "outputs": []
    },
    {
      "cell_type": "code",
      "source": [
        "# from google.colab import files\n",
        "# files.download('mymodel.pt')"
      ],
      "metadata": {
        "id": "y_8HX4JD5C7c"
      },
      "execution_count": null,
      "outputs": []
    },
    {
      "cell_type": "code",
      "source": [],
      "metadata": {
        "id": "hvmxX6B95QFs"
      },
      "execution_count": null,
      "outputs": []
    }
  ]
}