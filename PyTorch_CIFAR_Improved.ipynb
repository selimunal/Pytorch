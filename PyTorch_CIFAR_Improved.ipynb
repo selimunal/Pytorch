{
  "nbformat": 4,
  "nbformat_minor": 0,
  "metadata": {
    "colab": {
      "provenance": [],
      "authorship_tag": "ABX9TyNG3CmuUZs5iZPLLKKTiNQZ",
      "include_colab_link": true
    },
    "kernelspec": {
      "name": "python3",
      "display_name": "Python 3"
    },
    "language_info": {
      "name": "python"
    },
    "accelerator": "GPU",
    "gpuClass": "standard"
  },
  "cells": [
    {
      "cell_type": "markdown",
      "metadata": {
        "id": "view-in-github",
        "colab_type": "text"
      },
      "source": [
        "<a href=\"https://colab.research.google.com/github/selimunal/Pytorch/blob/main/PyTorch_CIFAR_Improved.ipynb\" target=\"_parent\"><img src=\"https://colab.research.google.com/assets/colab-badge.svg\" alt=\"Open In Colab\"/></a>"
      ]
    },
    {
      "cell_type": "code",
      "execution_count": null,
      "metadata": {
        "id": "3aACsFmWlYbn"
      },
      "outputs": [],
      "source": [
        "import torch\n",
        "import torch.nn as nn\n",
        "import torch.nn.functional as F\n",
        "import torchvision \n",
        "import torchvision.transforms as transforms\n",
        "import numpy as np\n",
        "import matplotlib.pyplot as plt\n",
        "from datetime import datetime"
      ]
    },
    {
      "cell_type": "code",
      "source": [
        "transformer_train=torchvision.transforms.Compose([\n",
        "                                                  #torchvision.transforms.ColorJitter(brightness=0.2,contrast=0.2,saturation=0.2,hue=0.2),\n",
        "                                                  transforms.RandomCrop(32,padding=4),\n",
        "                                                  torchvision.transforms.RandomHorizontalFlip(p=0.5),\n",
        "                                                  #torchvision.transforms.RandomRotation(degrees=15),\n",
        "                                                  torchvision.transforms.RandomAffine(0,translate=(0.1,0.1)),\n",
        "                                                  #torchvision.transforms.RandomPerspecttive(),\n",
        "                                                  transforms.ToTensor(),\n",
        "]\n",
        "    \n",
        ")"
      ],
      "metadata": {
        "id": "ch2JZqJ-lt6c"
      },
      "execution_count": null,
      "outputs": []
    },
    {
      "cell_type": "code",
      "source": [
        "train_dataset=torchvision.datasets.CIFAR10(\n",
        "    root=\".\",\n",
        "    train=True,\n",
        "    transform=transformer_train,\n",
        "    download=True\n",
        ")\n",
        "test_dataset=torchvision.datasets.CIFAR10(\n",
        "    root=\".\",\n",
        "    train=False,\n",
        "    transform=transforms.ToTensor(),\n",
        "    download=True\n",
        ")"
      ],
      "metadata": {
        "colab": {
          "base_uri": "https://localhost:8080/"
        },
        "id": "G1Ur0HZ6dadO",
        "outputId": "9eef5b28-a306-4a6a-a669-89aaad3e2885"
      },
      "execution_count": null,
      "outputs": [
        {
          "output_type": "stream",
          "name": "stdout",
          "text": [
            "Files already downloaded and verified\n",
            "Files already downloaded and verified\n"
          ]
        }
      ]
    },
    {
      "cell_type": "code",
      "source": [
        "K=len(set(train_dataset.targets))"
      ],
      "metadata": {
        "id": "cX5grbZhgDOc"
      },
      "execution_count": null,
      "outputs": []
    },
    {
      "cell_type": "code",
      "source": [
        "batch_size=128\n",
        "train_loader=torch.utils.data.DataLoader(\n",
        "    dataset=train_dataset,\n",
        "    batch_size=batch_size,\n",
        "    shuffle=True\n",
        ")\n",
        "test_loader=torch.utils.data.DataLoader(\n",
        "    dataset=test_dataset,\n",
        "    batch_size=batch_size,\n",
        "    shuffle=False\n",
        ")"
      ],
      "metadata": {
        "id": "wNHfm0aWgOco"
      },
      "execution_count": null,
      "outputs": []
    },
    {
      "cell_type": "code",
      "source": [
        "#Make one for testing\n",
        "train_dataset_fixed=torchvision.datasets.CIFAR10(\n",
        "    root=\".\",\n",
        "    train=True,\n",
        "    transform=transforms.ToTensor(),\n",
        "    download=True\n",
        ")\n",
        "train_loader_fixed=torch.utils.data.DataLoader(\n",
        "    dataset=train_dataset_fixed,\n",
        "    batch_size=batch_size,\n",
        "    shuffle=False\n",
        ")"
      ],
      "metadata": {
        "colab": {
          "base_uri": "https://localhost:8080/"
        },
        "id": "ycENb4D3glrj",
        "outputId": "1e5dc058-6a9a-4fd5-deb7-ad260dae2bd7"
      },
      "execution_count": null,
      "outputs": [
        {
          "output_type": "stream",
          "name": "stdout",
          "text": [
            "Files already downloaded and verified\n"
          ]
        }
      ]
    },
    {
      "cell_type": "code",
      "source": [
        "tmp_loader=torch.utils.data.DataLoader(dataset=train_dataset,\n",
        "                                       batch_size=1,\n",
        "                                       shuffle=True)\n",
        "for x,y in tmp_loader:\n",
        "  print(x)\n",
        "  print(x.shape)\n",
        "  break"
      ],
      "metadata": {
        "colab": {
          "base_uri": "https://localhost:8080/"
        },
        "id": "MYyDGQDvhOvf",
        "outputId": "268c03c3-7dd3-4988-b0cd-6ba243d84664"
      },
      "execution_count": null,
      "outputs": [
        {
          "output_type": "stream",
          "name": "stdout",
          "text": [
            "tensor([[[[0.0000, 0.0000, 0.0000,  ..., 0.0000, 0.0000, 0.0000],\n",
            "          [0.0000, 0.0000, 0.0000,  ..., 0.0000, 0.0000, 0.0000],\n",
            "          [0.8235, 0.8235, 0.8275,  ..., 0.6706, 0.0000, 0.0000],\n",
            "          ...,\n",
            "          [0.5412, 0.4078, 0.4000,  ..., 0.4078, 0.0000, 0.0000],\n",
            "          [0.0000, 0.0000, 0.0000,  ..., 0.0000, 0.0000, 0.0000],\n",
            "          [0.0000, 0.0000, 0.0000,  ..., 0.0000, 0.0000, 0.0000]],\n",
            "\n",
            "         [[0.0000, 0.0000, 0.0000,  ..., 0.0000, 0.0000, 0.0000],\n",
            "          [0.0000, 0.0000, 0.0000,  ..., 0.0000, 0.0000, 0.0000],\n",
            "          [0.8196, 0.8196, 0.8196,  ..., 0.6549, 0.0000, 0.0000],\n",
            "          ...,\n",
            "          [0.4941, 0.3686, 0.3569,  ..., 0.3373, 0.0000, 0.0000],\n",
            "          [0.0000, 0.0000, 0.0000,  ..., 0.0000, 0.0000, 0.0000],\n",
            "          [0.0000, 0.0000, 0.0000,  ..., 0.0000, 0.0000, 0.0000]],\n",
            "\n",
            "         [[0.0000, 0.0000, 0.0000,  ..., 0.0000, 0.0000, 0.0000],\n",
            "          [0.0000, 0.0000, 0.0000,  ..., 0.0000, 0.0000, 0.0000],\n",
            "          [0.8824, 0.8863, 0.8824,  ..., 0.7137, 0.0000, 0.0000],\n",
            "          ...,\n",
            "          [0.4706, 0.3529, 0.3804,  ..., 0.3255, 0.0000, 0.0000],\n",
            "          [0.0000, 0.0000, 0.0000,  ..., 0.0000, 0.0000, 0.0000],\n",
            "          [0.0000, 0.0000, 0.0000,  ..., 0.0000, 0.0000, 0.0000]]]])\n",
            "torch.Size([1, 3, 32, 32])\n"
          ]
        }
      ]
    },
    {
      "cell_type": "code",
      "source": [
        "#Define the Model\n",
        "class CNN(nn.Module):\n",
        "  def __init__(self,K):\n",
        "    super(CNN,self).__init__()\n",
        "\n",
        "    #define the conv layers\n",
        "    self.conv1=nn.Sequential(\n",
        "        nn.Conv2d(3,32,kernel_size=3,padding=1),\n",
        "        nn.ReLU(),\n",
        "        nn.BatchNorm2d(32),\n",
        "        nn.Conv2d(32,32,kernel_size=3,padding=1),\n",
        "        nn.ReLU(),\n",
        "        nn.BatchNorm2d(32),\n",
        "        nn.MaxPool2d(2),\n",
        "    )\n",
        "    self.conv2=nn.Sequential(\n",
        "        nn.Conv2d(32,64,kernel_size=3,padding=1),\n",
        "        nn.ReLU(),\n",
        "        nn.BatchNorm2d(64),\n",
        "        nn.Conv2d(64,64,kernel_size=3,padding=1),\n",
        "        nn.ReLU(),\n",
        "        nn.BatchNorm2d(64),\n",
        "        nn.MaxPool2d(2),\n",
        "    )\n",
        "    self.conv3=nn.Sequential(\n",
        "        nn.Conv2d(64,128,kernel_size=3,padding=1),\n",
        "        nn.ReLU(),\n",
        "        nn.BatchNorm2d(128),\n",
        "        nn.Conv2d(128,128,kernel_size=3,padding=1),\n",
        "        nn.ReLU(),\n",
        "        nn.BatchNorm2d(128),\n",
        "        nn.MaxPool2d(2),\n",
        "    )\n",
        "\n",
        "    self.fc1=nn.Linear(128*4*4,1024)\n",
        "    self.fc2=nn.Linear(1024,K)\n",
        "  \n",
        "  def forward(self,x):\n",
        "    x=self.conv1(x)\n",
        "    x=self.conv2(x)\n",
        "    x=self.conv3(x)\n",
        "    x=x.view(x.size(0),-1)\n",
        "    x=F.dropout(x,p=0.5)\n",
        "    x=F.relu(self.fc1(x))\n",
        "    x=F.dropout(x,p=0.2)\n",
        "    x=self.fc2(x)\n",
        "    return x"
      ],
      "metadata": {
        "id": "aqyPMiXchdwh"
      },
      "execution_count": null,
      "outputs": []
    },
    {
      "cell_type": "code",
      "source": [
        "model=CNN(K)"
      ],
      "metadata": {
        "id": "iGflKRgvj2Md"
      },
      "execution_count": null,
      "outputs": []
    },
    {
      "cell_type": "code",
      "source": [
        "device=torch.device(\"cuda:0\" if torch.cuda.is_available() else \"cpu\")\n",
        "print(device)\n",
        "model.to(device)"
      ],
      "metadata": {
        "colab": {
          "base_uri": "https://localhost:8080/"
        },
        "id": "0S4J4DK9koXx",
        "outputId": "d90aab9b-c31c-44bd-e8ae-86680c39ee0c"
      },
      "execution_count": null,
      "outputs": [
        {
          "output_type": "stream",
          "name": "stdout",
          "text": [
            "cuda:0\n"
          ]
        },
        {
          "output_type": "execute_result",
          "data": {
            "text/plain": [
              "CNN(\n",
              "  (conv1): Sequential(\n",
              "    (0): Conv2d(3, 32, kernel_size=(3, 3), stride=(1, 1), padding=(1, 1))\n",
              "    (1): ReLU()\n",
              "    (2): BatchNorm2d(32, eps=1e-05, momentum=0.1, affine=True, track_running_stats=True)\n",
              "    (3): Conv2d(32, 32, kernel_size=(3, 3), stride=(1, 1), padding=(1, 1))\n",
              "    (4): ReLU()\n",
              "    (5): BatchNorm2d(32, eps=1e-05, momentum=0.1, affine=True, track_running_stats=True)\n",
              "    (6): MaxPool2d(kernel_size=2, stride=2, padding=0, dilation=1, ceil_mode=False)\n",
              "  )\n",
              "  (conv2): Sequential(\n",
              "    (0): Conv2d(32, 64, kernel_size=(3, 3), stride=(1, 1), padding=(1, 1))\n",
              "    (1): ReLU()\n",
              "    (2): BatchNorm2d(64, eps=1e-05, momentum=0.1, affine=True, track_running_stats=True)\n",
              "    (3): Conv2d(64, 64, kernel_size=(3, 3), stride=(1, 1), padding=(1, 1))\n",
              "    (4): ReLU()\n",
              "    (5): BatchNorm2d(64, eps=1e-05, momentum=0.1, affine=True, track_running_stats=True)\n",
              "    (6): MaxPool2d(kernel_size=2, stride=2, padding=0, dilation=1, ceil_mode=False)\n",
              "  )\n",
              "  (conv3): Sequential(\n",
              "    (0): Conv2d(64, 128, kernel_size=(3, 3), stride=(1, 1), padding=(1, 1))\n",
              "    (1): ReLU()\n",
              "    (2): BatchNorm2d(128, eps=1e-05, momentum=0.1, affine=True, track_running_stats=True)\n",
              "    (3): Conv2d(128, 128, kernel_size=(3, 3), stride=(1, 1), padding=(1, 1))\n",
              "    (4): ReLU()\n",
              "    (5): BatchNorm2d(128, eps=1e-05, momentum=0.1, affine=True, track_running_stats=True)\n",
              "    (6): MaxPool2d(kernel_size=2, stride=2, padding=0, dilation=1, ceil_mode=False)\n",
              "  )\n",
              "  (fc1): Linear(in_features=2048, out_features=1024, bias=True)\n",
              "  (fc2): Linear(in_features=1024, out_features=10, bias=True)\n",
              ")"
            ]
          },
          "metadata": {},
          "execution_count": 10
        }
      ]
    },
    {
      "cell_type": "code",
      "source": [
        "#loss and optimizer\n",
        "criterion=nn.CrossEntropyLoss()\n",
        "optimizer=torch.optim.Adam(model.parameters())"
      ],
      "metadata": {
        "id": "dTINFGk0k1zn"
      },
      "execution_count": null,
      "outputs": []
    },
    {
      "cell_type": "code",
      "source": [
        "#A function to encapsulate the training loop\n",
        "def batch_gd(model,criterion, optimizer,train_loader,test_loader,epochs):\n",
        "  train_losses=np.zeros(epochs)\n",
        "  test_losses=np.zeros(epochs)\n",
        "\n",
        "  for it in range(epochs):\n",
        "    model.train()\n",
        "    t0=datetime.now()\n",
        "    train_loss=[]\n",
        "    for inputs,targets in train_loader:\n",
        "      #move data to gpu\n",
        "      inputs,targets=inputs.to(device), targets.to(device)\n",
        "\n",
        "      #print input.shape\n",
        "\n",
        "      optimizer.zero_grad()\n",
        "\n",
        "      #forward pass\n",
        "      #print(about to get model output)\n",
        "\n",
        "      outputs=model(inputs)\n",
        "      #print(\"done getting model output\")\n",
        "      #print(outputs.shape)\n",
        "      loss=criterion(outputs,targets)\n",
        "\n",
        "      #backward and optimize\n",
        "      #print(\"about to optimize\")\n",
        "      loss.backward()\n",
        "      optimizer.step()\n",
        "      \n",
        "      train_loss.append(loss.item())\n",
        "\n",
        "    #get train loss and test loss\n",
        "    train_loss=np.mean(train_loss) #misleading\n",
        "\n",
        "    model.eval()\n",
        "    test_loss=[]\n",
        "    for inputs,targets in test_loader:\n",
        "      inputs,targets = inputs.to(device), targets.to(device)\n",
        "      outputs=model(inputs)\n",
        "      loss=criterion(outputs,targets)\n",
        "      test_loss.append(loss.item())\n",
        "    test_loss=np.mean(test_loss)\n",
        "\n",
        "    #save losses\n",
        "    train_losses[it]=train_loss\n",
        "    test_losses[it]=test_loss\n",
        "\n",
        "    dt=datetime.now()-t0\n",
        "\n",
        "    print(f\"Epoch {it+1}/{epochs}, train loss {train_loss:.4f}, test loss {test_loss:.4f}, duration {dt}\")\n",
        "\n",
        "  return train_losses,test_losses\n"
      ],
      "metadata": {
        "id": "3ZdqUOGLlAZx"
      },
      "execution_count": null,
      "outputs": []
    },
    {
      "cell_type": "code",
      "source": [
        "train_losses, test_losses=batch_gd(model,criterion,optimizer,train_loader,test_loader, epochs=50)"
      ],
      "metadata": {
        "colab": {
          "base_uri": "https://localhost:8080/"
        },
        "id": "rFsmnGJ2wLxL",
        "outputId": "08fe37e2-bcb1-451d-c1dc-6d15b4c7d249"
      },
      "execution_count": null,
      "outputs": [
        {
          "output_type": "stream",
          "name": "stdout",
          "text": [
            "Epoch 1/50, train loss 1.4183, test loss 1.1468, duration 0:00:27.680666\n",
            "Epoch 2/50, train loss 1.0178, test loss 0.9096, duration 0:00:24.812164\n",
            "Epoch 3/50, train loss 0.8440, test loss 0.8037, duration 0:00:25.756041\n",
            "Epoch 4/50, train loss 0.7508, test loss 0.7185, duration 0:00:24.798632\n",
            "Epoch 5/50, train loss 0.6835, test loss 0.7507, duration 0:00:26.704117\n",
            "Epoch 6/50, train loss 0.6387, test loss 0.6465, duration 0:00:25.868505\n",
            "Epoch 7/50, train loss 0.6036, test loss 0.6364, duration 0:00:25.767627\n",
            "Epoch 8/50, train loss 0.5690, test loss 0.5998, duration 0:00:25.060122\n",
            "Epoch 9/50, train loss 0.5519, test loss 0.5632, duration 0:00:24.844007\n",
            "Epoch 10/50, train loss 0.5206, test loss 0.5666, duration 0:00:24.647542\n",
            "Epoch 11/50, train loss 0.5053, test loss 0.5399, duration 0:00:24.761093\n",
            "Epoch 12/50, train loss 0.4919, test loss 0.5206, duration 0:00:24.946932\n",
            "Epoch 13/50, train loss 0.4741, test loss 0.5476, duration 0:00:24.900207\n",
            "Epoch 14/50, train loss 0.4577, test loss 0.5092, duration 0:00:24.743418\n",
            "Epoch 15/50, train loss 0.4452, test loss 0.4516, duration 0:00:24.688076\n",
            "Epoch 16/50, train loss 0.4308, test loss 0.5180, duration 0:00:24.802780\n",
            "Epoch 17/50, train loss 0.4279, test loss 0.5122, duration 0:00:25.085013\n",
            "Epoch 18/50, train loss 0.4154, test loss 0.4802, duration 0:00:24.749447\n",
            "Epoch 19/50, train loss 0.4040, test loss 0.4778, duration 0:00:24.609981\n",
            "Epoch 20/50, train loss 0.3921, test loss 0.4611, duration 0:00:24.676296\n",
            "Epoch 21/50, train loss 0.3887, test loss 0.4796, duration 0:00:24.839819\n",
            "Epoch 22/50, train loss 0.3786, test loss 0.4673, duration 0:00:25.006748\n",
            "Epoch 23/50, train loss 0.3694, test loss 0.4404, duration 0:00:24.674034\n",
            "Epoch 24/50, train loss 0.3582, test loss 0.4766, duration 0:00:25.305926\n",
            "Epoch 25/50, train loss 0.3574, test loss 0.4439, duration 0:00:24.915037\n",
            "Epoch 26/50, train loss 0.3463, test loss 0.4597, duration 0:00:24.727816\n",
            "Epoch 27/50, train loss 0.3363, test loss 0.4608, duration 0:00:24.663746\n",
            "Epoch 28/50, train loss 0.3388, test loss 0.4359, duration 0:00:25.235571\n",
            "Epoch 29/50, train loss 0.3278, test loss 0.4522, duration 0:00:24.792280\n",
            "Epoch 30/50, train loss 0.3246, test loss 0.4589, duration 0:00:24.739745\n",
            "Epoch 31/50, train loss 0.3182, test loss 0.4345, duration 0:00:24.810427\n",
            "Epoch 32/50, train loss 0.3149, test loss 0.4221, duration 0:00:24.669411\n",
            "Epoch 33/50, train loss 0.3088, test loss 0.4332, duration 0:00:24.923832\n",
            "Epoch 34/50, train loss 0.3041, test loss 0.4417, duration 0:00:24.982213\n",
            "Epoch 35/50, train loss 0.2941, test loss 0.4202, duration 0:00:24.717661\n",
            "Epoch 36/50, train loss 0.2947, test loss 0.4563, duration 0:00:24.901537\n",
            "Epoch 37/50, train loss 0.2921, test loss 0.4116, duration 0:00:25.014658\n",
            "Epoch 38/50, train loss 0.2817, test loss 0.4245, duration 0:00:25.076095\n",
            "Epoch 39/50, train loss 0.2784, test loss 0.4374, duration 0:00:25.401008\n",
            "Epoch 40/50, train loss 0.2762, test loss 0.4188, duration 0:00:24.942324\n",
            "Epoch 41/50, train loss 0.2767, test loss 0.4024, duration 0:00:24.992843\n",
            "Epoch 42/50, train loss 0.2734, test loss 0.4263, duration 0:00:24.749638\n",
            "Epoch 43/50, train loss 0.2651, test loss 0.4167, duration 0:00:24.859701\n",
            "Epoch 44/50, train loss 0.2657, test loss 0.4225, duration 0:00:24.803294\n",
            "Epoch 45/50, train loss 0.2601, test loss 0.4083, duration 0:00:24.786274\n",
            "Epoch 46/50, train loss 0.2545, test loss 0.4062, duration 0:00:24.788934\n",
            "Epoch 47/50, train loss 0.2493, test loss 0.4247, duration 0:00:24.926157\n",
            "Epoch 48/50, train loss 0.2480, test loss 0.3953, duration 0:00:24.873931\n",
            "Epoch 49/50, train loss 0.2522, test loss 0.4051, duration 0:00:25.322137\n",
            "Epoch 50/50, train loss 0.2454, test loss 0.3891, duration 0:00:24.672462\n"
          ]
        }
      ]
    },
    {
      "cell_type": "code",
      "source": [
        "#plot the train and test loss per iteration\n",
        "plt.plot(train_losses,label='train loss')\n",
        "plt.plot(test_losses,label='test loss')\n",
        "plt.legend()\n",
        "plt.show()"
      ],
      "metadata": {
        "colab": {
          "base_uri": "https://localhost:8080/",
          "height": 265
        },
        "id": "3F3l7fIOwW9g",
        "outputId": "186b32ba-c4ff-4bdc-b1e3-cbec1948a034"
      },
      "execution_count": null,
      "outputs": [
        {
          "output_type": "display_data",
          "data": {
            "text/plain": [
              "<Figure size 432x288 with 1 Axes>"
            ],
            "image/png": "[encoded data removed]"
          },
          "metadata": {
            "needs_background": "light"
          }
        }
      ]
    },
    {
      "cell_type": "code",
      "source": [
        "from torchsummary import summary\n",
        "summary(model, (3,32,32))"
      ],
      "metadata": {
        "colab": {
          "base_uri": "https://localhost:8080/"
        },
        "id": "mPJzskM0BGzk",
        "outputId": "a6e51344-77a3-412b-f573-18b6a4ce52d6"
      },
      "execution_count": null,
      "outputs": [
        {
          "output_type": "stream",
          "name": "stdout",
          "text": [
            "----------------------------------------------------------------\n",
            "        Layer (type)               Output Shape         Param #\n",
            "================================================================\n",
            "            Conv2d-1           [-1, 32, 32, 32]             896\n",
            "              ReLU-2           [-1, 32, 32, 32]               0\n",
            "       BatchNorm2d-3           [-1, 32, 32, 32]              64\n",
            "            Conv2d-4           [-1, 32, 32, 32]           9,248\n",
            "              ReLU-5           [-1, 32, 32, 32]               0\n",
            "       BatchNorm2d-6           [-1, 32, 32, 32]              64\n",
            "         MaxPool2d-7           [-1, 32, 16, 16]               0\n",
            "            Conv2d-8           [-1, 64, 16, 16]          18,496\n",
            "              ReLU-9           [-1, 64, 16, 16]               0\n",
            "      BatchNorm2d-10           [-1, 64, 16, 16]             128\n",
            "           Conv2d-11           [-1, 64, 16, 16]          36,928\n",
            "             ReLU-12           [-1, 64, 16, 16]               0\n",
            "      BatchNorm2d-13           [-1, 64, 16, 16]             128\n",
            "        MaxPool2d-14             [-1, 64, 8, 8]               0\n",
            "           Conv2d-15            [-1, 128, 8, 8]          73,856\n",
            "             ReLU-16            [-1, 128, 8, 8]               0\n",
            "      BatchNorm2d-17            [-1, 128, 8, 8]             256\n",
            "           Conv2d-18            [-1, 128, 8, 8]         147,584\n",
            "             ReLU-19            [-1, 128, 8, 8]               0\n",
            "      BatchNorm2d-20            [-1, 128, 8, 8]             256\n",
            "        MaxPool2d-21            [-1, 128, 4, 4]               0\n",
            "           Linear-22                 [-1, 1024]       2,098,176\n",
            "           Linear-23                   [-1, 10]          10,250\n",
            "================================================================\n",
            "Total params: 2,396,330\n",
            "Trainable params: 2,396,330\n",
            "Non-trainable params: 0\n",
            "----------------------------------------------------------------\n",
            "Input size (MB): 0.01\n",
            "Forward/backward pass size (MB): 2.74\n",
            "Params size (MB): 9.14\n",
            "Estimated Total Size (MB): 11.90\n",
            "----------------------------------------------------------------\n"
          ]
        }
      ]
    },
    {
      "cell_type": "code",
      "source": [
        "#accuracy\n",
        "model.eval()\n",
        "n_correct=0.\n",
        "n_total=0.\n",
        "for inputs,targets in train_loader:\n",
        "  #move the data to GPU\n",
        "  inputs,targets=inputs.to(device),targets.to(device)\n",
        "\n",
        "  #forward pass\n",
        "  outputs=model(inputs)\n",
        "\n",
        "  #get prediction\n",
        "  #torch.max returns bath max and argmax\n",
        "  _,predictions=torch.max(outputs,1)\n",
        "\n",
        "  #update counts\n",
        "  n_correct += (predictions==targets).sum().item()\n",
        "  n_total += targets.shape[0]\n",
        "\n",
        "train_acc=n_correct/n_total\n",
        "\n",
        "\n",
        "n_correct=0.\n",
        "n_total=0.\n",
        "for inputs,targets in test_loader:\n",
        "  #move the data to GPU\n",
        "  inputs,targets=inputs.to(device),targets.to(device)\n",
        "\n",
        "  #forward pass\n",
        "  outputs=model(inputs)\n",
        "\n",
        "  #get prediction\n",
        "  #torch.max returns bath max and argmax\n",
        "  _,predictions=torch.max(outputs,1)\n",
        "\n",
        "  #update counts\n",
        "  n_correct += (predictions==targets).sum().item()\n",
        "  n_total += targets.shape[0]\n",
        "\n",
        "test_acc=n_correct/n_total\n",
        "\n",
        "print(f'Train acc: {train_acc:.4f},Test acc:{test_acc:.4f}')"
      ],
      "metadata": {
        "colab": {
          "base_uri": "https://localhost:8080/"
        },
        "id": "fN31Bqw5waoo",
        "outputId": "a2ac9ae7-1560-427f-eebf-4d2718709b8c"
      },
      "execution_count": null,
      "outputs": [
        {
          "output_type": "stream",
          "name": "stdout",
          "text": [
            "Train acc: 0.9237,Test acc:0.8773\n"
          ]
        }
      ]
    },
    {
      "cell_type": "code",
      "source": [
        "# Plot confusion matrix\n",
        "from sklearn.metrics import confusion_matrix\n",
        "import numpy as np\n",
        "import itertools\n",
        "\n",
        "def plot_confusion_matrix(cm, classes,\n",
        "                          normalize=False,\n",
        "                          title='Confusion matrix',\n",
        "                          cmap=plt.cm.Blues):\n",
        "  \"\"\"\n",
        "  This function prints and plots the confusion matrix.\n",
        "  Normalization can be applied by setting `normalize=True`.\n",
        "  \"\"\"\n",
        "  if normalize:\n",
        "      cm = cm.astype('float') / cm.sum(axis=1)[:, np.newaxis]\n",
        "      print(\"Normalized confusion matrix\")\n",
        "  else:\n",
        "      print('Confusion matrix, without normalization')\n",
        "\n",
        "  print(cm)\n",
        "\n",
        "  plt.imshow(cm, interpolation='nearest', cmap=cmap)\n",
        "  plt.title(title)\n",
        "  plt.colorbar()\n",
        "  tick_marks = np.arange(len(classes))\n",
        "  plt.xticks(tick_marks, classes, rotation=45)\n",
        "  plt.yticks(tick_marks, classes)\n",
        "\n",
        "  fmt = '.2f' if normalize else 'd'\n",
        "  thresh = cm.max() / 2.\n",
        "  for i, j in itertools.product(range(cm.shape[0]), range(cm.shape[1])):\n",
        "      plt.text(j, i, format(cm[i, j], fmt),\n",
        "               horizontalalignment=\"center\",\n",
        "               color=\"white\" if cm[i, j] > thresh else \"black\")\n",
        "\n",
        "  plt.tight_layout()\n",
        "  plt.ylabel('True label')\n",
        "  plt.xlabel('Predicted label')\n",
        "  plt.show()\n",
        "\n",
        "# Do these results make sense?\n",
        "# It's easy to confuse 9 <--> 4, 9 <--> 7, 2 <--> 7, etc. "
      ],
      "metadata": {
        "id": "5-3XwKn57KM7"
      },
      "execution_count": null,
      "outputs": []
    },
    {
      "cell_type": "code",
      "source": [
        "# get all predictions in an array and plot confusion matrix\n",
        "\n",
        "x_test = test_dataset.data\n",
        "y_test = np.array(test_dataset.targets)\n",
        "p_test = np.array([])\n",
        "for inputs, targets in test_loader:\n",
        "  # move data to GPU\n",
        "  inputs,targets = inputs.to(device),targets.to(device)\n",
        "\n",
        "  # reshape the input\n",
        "  #inputs = inputs.view(-1, 784)\n",
        "\n",
        "  # Forward pass\n",
        "  outputs = model(inputs)\n",
        "\n",
        "  # Get prediction\n",
        "  _, predictions = torch.max(outputs, 1)\n",
        "  \n",
        "  # update p_test\n",
        "  #p_test = np.concatenate((p_test, predictions.cpu().numpy()))\n",
        "  p_test = np.concatenate((p_test, predictions.cpu()))\n",
        "\n",
        "cm = confusion_matrix(y_test, p_test)\n",
        "plot_confusion_matrix(cm, list(range(10)))"
      ],
      "metadata": {
        "colab": {
          "base_uri": "https://localhost:8080/",
          "height": 502
        },
        "id": "4KutdV0Y7N7_",
        "outputId": "8a67c5c6-8ddb-4b08-f8f6-7c7ffc517710"
      },
      "execution_count": null,
      "outputs": [
        {
          "output_type": "stream",
          "name": "stdout",
          "text": [
            "Confusion matrix, without normalization\n",
            "[[853   7  36  21  12   2   5   8  33  23]\n",
            " [  6 939   0   0   0   1   1   0  14  39]\n",
            " [ 22   2 819  30  39  37  32   8   4   7]\n",
            " [  5   2  24 760  27 122  28  18   7   7]\n",
            " [  6   0  18  27 872  28  18  29   2   0]\n",
            " [  5   1  13  87  16 848  10  18   0   2]\n",
            " [  6   3  18  26  10   9 922   3   2   1]\n",
            " [  4   1   7  23  14  36   3 905   4   3]\n",
            " [ 36  14   1   3   0   3   5   0 929   9]\n",
            " [ 12  26   1   1   1   2   1   2  11 943]]\n"
          ]
        },
        {
          "output_type": "display_data",
          "data": {
            "text/plain": [
              "<Figure size 432x288 with 2 Axes>"
            ],
            "image/png": "[encoded data removed]"
          },
          "metadata": {
            "needs_background": "light"
          }
        }
      ]
    },
    {
      "cell_type": "code",
      "source": [
        "p_test[: 10000].shape"
      ],
      "metadata": {
        "colab": {
          "base_uri": "https://localhost:8080/"
        },
        "id": "8yclyaAu_VMj",
        "outputId": "822cc79f-403d-4cb0-a977-c982eade3b40"
      },
      "execution_count": null,
      "outputs": [
        {
          "output_type": "execute_result",
          "data": {
            "text/plain": [
              "(10000,)"
            ]
          },
          "metadata": {},
          "execution_count": 19
        }
      ]
    },
    {
      "cell_type": "code",
      "source": [
        "# # get all predictions in an array and plot confusion matrix\n",
        "\n",
        "# x_test = test_dataset.data\n",
        "# y_test = test_dataset.targets\n",
        "# p_test = np.array([])\n",
        "# for inputs, targets in test_loader:\n",
        "#   # move data to GPU\n",
        "#   inputs,targets = inputs.to(device),targets.to(device)\n",
        "\n",
        "#   # reshape the input\n",
        "#   #inputs = inputs.view(-1, 784)\n",
        "\n",
        "#   # Forward pass\n",
        "#   outputs = model(inputs)\n",
        "\n",
        "#   # Get prediction\n",
        "#   _, predictions = torch.max(outputs, 1)\n",
        "  \n",
        "#   # update p_test\n",
        "#   p_test = np.concatenate((p_test, predictions.cpu().numpy()))\n",
        "\n",
        "# cm = confusion_matrix(y_test, p_test)\n",
        "# plot_confusion_matrix(cm, list(range(10)))"
      ],
      "metadata": {
        "id": "AsnmEome_VWJ"
      },
      "execution_count": null,
      "outputs": []
    },
    {
      "cell_type": "code",
      "source": [
        "#label mapping\n",
        "labels='''airplane\n",
        "automobile\n",
        "bird\n",
        "cat\n",
        "deer\n",
        "dog\n",
        "frog\n",
        "horse\n",
        "ship\n",
        "truck'''.split('\\n')"
      ],
      "metadata": {
        "id": "16ayywrO8i1R"
      },
      "execution_count": null,
      "outputs": []
    },
    {
      "cell_type": "code",
      "source": [
        "# Show some misclassified examples\n",
        "p_test=p_test.astype(np.uint8)\n",
        "misclassified_idx = np.where(p_test != y_test)[0]\n",
        "i = np.random.choice(misclassified_idx)\n",
        "plt.imshow(x_test[i].reshape(32,32,3))\n",
        "plt.title(\"True label: %s Predicted: %s\" % (labels[y_test[i]], labels[p_test[i]]));"
      ],
      "metadata": {
        "colab": {
          "base_uri": "https://localhost:8080/",
          "height": 281
        },
        "id": "yZ5rGgb68k14",
        "outputId": "5c989225-b9a8-47cf-db51-21961174e911"
      },
      "execution_count": null,
      "outputs": [
        {
          "output_type": "display_data",
          "data": {
            "text/plain": [
              "<Figure size 432x288 with 1 Axes>"
            ],
            "image/png": "[encoded data removed]"
          },
          "metadata": {
            "needs_background": "light"
          }
        }
      ]
    },
    {
      "cell_type": "code",
      "source": [],
      "metadata": {
        "id": "7RqjXjAGRzsd"
      },
      "execution_count": null,
      "outputs": []
    }
  ]
}