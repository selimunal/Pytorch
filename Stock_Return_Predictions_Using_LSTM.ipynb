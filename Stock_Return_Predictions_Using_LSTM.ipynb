{
  "nbformat": 4,
  "nbformat_minor": 0,
  "metadata": {
    "colab": {
      "provenance": [],
      "authorship_tag": "ABX9TyOBkAsgT8BiP7cqHHy347aT",
      "include_colab_link": true
    },
    "kernelspec": {
      "name": "python3",
      "display_name": "Python 3"
    },
    "language_info": {
      "name": "python"
    }
  },
  "cells": [
    {
      "cell_type": "markdown",
      "metadata": {
        "id": "view-in-github",
        "colab_type": "text"
      },
      "source": [
        "<a href=\"https://colab.research.google.com/github/selimunal/Pytorch/blob/main/Stock_Return_Predictions_Using_LSTM.ipynb\" target=\"_parent\"><img src=\"https://colab.research.google.com/assets/colab-badge.svg\" alt=\"Open In Colab\"/></a>"
      ]
    },
    {
      "cell_type": "code",
      "execution_count": null,
      "metadata": {
        "id": "RQiz0kOIvhW9"
      },
      "outputs": [],
      "source": [
        "import torch\n",
        "import torch.nn as nn\n",
        "import numpy as np\n",
        "import pandas as pd\n",
        "import matplotlib.pyplot as plt\n",
        "from sklearn.preprocessing import StandardScaler"
      ]
    },
    {
      "cell_type": "code",
      "source": [
        "df = pd.read_csv('https://raw.githubusercontent.com/lazyprogrammer/machine_learning_examples/master/tf2.0/sbux.csv')"
      ],
      "metadata": {
        "id": "NXajJyLw5BRy"
      },
      "execution_count": null,
      "outputs": []
    },
    {
      "cell_type": "code",
      "source": [
        "df.head()"
      ],
      "metadata": {
        "colab": {
          "base_uri": "https://localhost:8080/",
          "height": 206
        },
        "id": "obvC8r2MdeIr",
        "outputId": "16207d3c-002f-44a3-9de7-c034fef3023b"
      },
      "execution_count": null,
      "outputs": [
        {
          "output_type": "execute_result",
          "data": {
            "text/plain": [
              "         date    open    high     low   close   volume  Name\n",
              "0  2013-02-08  27.920  28.325  27.920  28.185  7146296  SBUX\n",
              "1  2013-02-11  28.260  28.260  27.930  28.070  5457354  SBUX\n",
              "2  2013-02-12  28.000  28.275  27.975  28.130  8665592  SBUX\n",
              "3  2013-02-13  28.230  28.230  27.750  27.915  7022056  SBUX\n",
              "4  2013-02-14  27.765  27.905  27.675  27.775  8899188  SBUX"
            ],
            "text/html": [
              "\n",
              "  <div id=\"df-74056b90-b140-43d5-9b96-6f05306cdd3f\">\n",
              "    <div class=\"colab-df-container\">\n",
              "      <div>\n",
              "<style scoped>\n",
              "    .dataframe tbody tr th:only-of-type {\n",
              "        vertical-align: middle;\n",
              "    }\n",
              "\n",
              "    .dataframe tbody tr th {\n",
              "        vertical-align: top;\n",
              "    }\n",
              "\n",
              "    .dataframe thead th {\n",
              "        text-align: right;\n",
              "    }\n",
              "</style>\n",
              "<table border=\"1\" class=\"dataframe\">\n",
              "  <thead>\n",
              "    <tr style=\"text-align: right;\">\n",
              "      <th></th>\n",
              "      <th>date</th>\n",
              "      <th>open</th>\n",
              "      <th>high</th>\n",
              "      <th>low</th>\n",
              "      <th>close</th>\n",
              "      <th>volume</th>\n",
              "      <th>Name</th>\n",
              "    </tr>\n",
              "  </thead>\n",
              "  <tbody>\n",
              "    <tr>\n",
              "      <th>0</th>\n",
              "      <td>2013-02-08</td>\n",
              "      <td>27.920</td>\n",
              "      <td>28.325</td>\n",
              "      <td>27.920</td>\n",
              "      <td>28.185</td>\n",
              "      <td>7146296</td>\n",
              "      <td>SBUX</td>\n",
              "    </tr>\n",
              "    <tr>\n",
              "      <th>1</th>\n",
              "      <td>2013-02-11</td>\n",
              "      <td>28.260</td>\n",
              "      <td>28.260</td>\n",
              "      <td>27.930</td>\n",
              "      <td>28.070</td>\n",
              "      <td>5457354</td>\n",
              "      <td>SBUX</td>\n",
              "    </tr>\n",
              "    <tr>\n",
              "      <th>2</th>\n",
              "      <td>2013-02-12</td>\n",
              "      <td>28.000</td>\n",
              "      <td>28.275</td>\n",
              "      <td>27.975</td>\n",
              "      <td>28.130</td>\n",
              "      <td>8665592</td>\n",
              "      <td>SBUX</td>\n",
              "    </tr>\n",
              "    <tr>\n",
              "      <th>3</th>\n",
              "      <td>2013-02-13</td>\n",
              "      <td>28.230</td>\n",
              "      <td>28.230</td>\n",
              "      <td>27.750</td>\n",
              "      <td>27.915</td>\n",
              "      <td>7022056</td>\n",
              "      <td>SBUX</td>\n",
              "    </tr>\n",
              "    <tr>\n",
              "      <th>4</th>\n",
              "      <td>2013-02-14</td>\n",
              "      <td>27.765</td>\n",
              "      <td>27.905</td>\n",
              "      <td>27.675</td>\n",
              "      <td>27.775</td>\n",
              "      <td>8899188</td>\n",
              "      <td>SBUX</td>\n",
              "    </tr>\n",
              "  </tbody>\n",
              "</table>\n",
              "</div>\n",
              "      <button class=\"colab-df-convert\" onclick=\"convertToInteractive('df-74056b90-b140-43d5-9b96-6f05306cdd3f')\"\n",
              "              title=\"Convert this dataframe to an interactive table.\"\n",
              "              style=\"display:none;\">\n",
              "        \n",
              "  <svg xmlns=\"http://www.w3.org/2000/svg\" height=\"24px\"viewBox=\"0 0 24 24\"\n",
              "       width=\"24px\">\n",
              "    <path d=\"M0 0h24v24H0V0z\" fill=\"none\"/>\n",
              "    <path d=\"M18.56 5.44l.94 2.06.94-2.06 2.06-.94-2.06-.94-.94-2.06-.94 2.06-2.06.94zm-11 1L8.5 8.5l.94-2.06 2.06-.94-2.06-.94L8.5 2.5l-.94 2.06-2.06.94zm10 10l.94 2.06.94-2.06 2.06-.94-2.06-.94-.94-2.06-.94 2.06-2.06.94z\"/><path d=\"M17.41 7.96l-1.37-1.37c-.4-.4-.92-.59-1.43-.59-.52 0-1.04.2-1.43.59L10.3 9.45l-7.72 7.72c-.78.78-.78 2.05 0 2.83L4 21.41c.39.39.9.59 1.41.59.51 0 1.02-.2 1.41-.59l7.78-7.78 2.81-2.81c.8-.78.8-2.07 0-2.86zM5.41 20L4 18.59l7.72-7.72 1.47 1.35L5.41 20z\"/>\n",
              "  </svg>\n",
              "      </button>\n",
              "      \n",
              "  <style>\n",
              "    .colab-df-container {\n",
              "      display:flex;\n",
              "      flex-wrap:wrap;\n",
              "      gap: 12px;\n",
              "    }\n",
              "\n",
              "    .colab-df-convert {\n",
              "      background-color: #E8F0FE;\n",
              "      border: none;\n",
              "      border-radius: 50%;\n",
              "      cursor: pointer;\n",
              "      display: none;\n",
              "      fill: #1967D2;\n",
              "      height: 32px;\n",
              "      padding: 0 0 0 0;\n",
              "      width: 32px;\n",
              "    }\n",
              "\n",
              "    .colab-df-convert:hover {\n",
              "      background-color: #E2EBFA;\n",
              "      box-shadow: 0px 1px 2px rgba(60, 64, 67, 0.3), 0px 1px 3px 1px rgba(60, 64, 67, 0.15);\n",
              "      fill: #174EA6;\n",
              "    }\n",
              "\n",
              "    [theme=dark] .colab-df-convert {\n",
              "      background-color: #3B4455;\n",
              "      fill: #D2E3FC;\n",
              "    }\n",
              "\n",
              "    [theme=dark] .colab-df-convert:hover {\n",
              "      background-color: #434B5C;\n",
              "      box-shadow: 0px 1px 3px 1px rgba(0, 0, 0, 0.15);\n",
              "      filter: drop-shadow(0px 1px 2px rgba(0, 0, 0, 0.3));\n",
              "      fill: #FFFFFF;\n",
              "    }\n",
              "  </style>\n",
              "\n",
              "      <script>\n",
              "        const buttonEl =\n",
              "          document.querySelector('#df-74056b90-b140-43d5-9b96-6f05306cdd3f button.colab-df-convert');\n",
              "        buttonEl.style.display =\n",
              "          google.colab.kernel.accessAllowed ? 'block' : 'none';\n",
              "\n",
              "        async function convertToInteractive(key) {\n",
              "          const element = document.querySelector('#df-74056b90-b140-43d5-9b96-6f05306cdd3f');\n",
              "          const dataTable =\n",
              "            await google.colab.kernel.invokeFunction('convertToInteractive',\n",
              "                                                     [key], {});\n",
              "          if (!dataTable) return;\n",
              "\n",
              "          const docLinkHtml = 'Like what you see? Visit the ' +\n",
              "            '<a target=\"_blank\" href=https://colab.research.google.com/notebooks/data_table.ipynb>data table notebook</a>'\n",
              "            + ' to learn more about interactive tables.';\n",
              "          element.innerHTML = '';\n",
              "          dataTable['output_type'] = 'display_data';\n",
              "          await google.colab.output.renderOutput(dataTable, element);\n",
              "          const docLink = document.createElement('div');\n",
              "          docLink.innerHTML = docLinkHtml;\n",
              "          element.appendChild(docLink);\n",
              "        }\n",
              "      </script>\n",
              "    </div>\n",
              "  </div>\n",
              "  "
            ]
          },
          "metadata": {},
          "execution_count": 3
        }
      ]
    },
    {
      "cell_type": "code",
      "source": [
        "df.tail()"
      ],
      "metadata": {
        "colab": {
          "base_uri": "https://localhost:8080/",
          "height": 206
        },
        "id": "XEtQOdowdkdt",
        "outputId": "ee29cb0a-db65-45b4-cfc4-4544ec2c62c1"
      },
      "execution_count": null,
      "outputs": [
        {
          "output_type": "execute_result",
          "data": {
            "text/plain": [
              "            date    open   high    low  close    volume  Name\n",
              "1254  2018-02-01  56.280  56.42  55.89  56.00  14690146  SBUX\n",
              "1255  2018-02-02  55.900  56.32  55.70  55.77  15358909  SBUX\n",
              "1256  2018-02-05  55.530  56.26  54.57  54.69  16059955  SBUX\n",
              "1257  2018-02-06  53.685  56.06  53.56  55.61  17415065  SBUX\n",
              "1258  2018-02-07  55.080  55.43  54.44  54.46  13927022  SBUX"
            ],
            "text/html": [
              "\n",
              "  <div id=\"df-084363e5-5830-41e1-ac20-f85d381c0fda\">\n",
              "    <div class=\"colab-df-container\">\n",
              "      <div>\n",
              "<style scoped>\n",
              "    .dataframe tbody tr th:only-of-type {\n",
              "        vertical-align: middle;\n",
              "    }\n",
              "\n",
              "    .dataframe tbody tr th {\n",
              "        vertical-align: top;\n",
              "    }\n",
              "\n",
              "    .dataframe thead th {\n",
              "        text-align: right;\n",
              "    }\n",
              "</style>\n",
              "<table border=\"1\" class=\"dataframe\">\n",
              "  <thead>\n",
              "    <tr style=\"text-align: right;\">\n",
              "      <th></th>\n",
              "      <th>date</th>\n",
              "      <th>open</th>\n",
              "      <th>high</th>\n",
              "      <th>low</th>\n",
              "      <th>close</th>\n",
              "      <th>volume</th>\n",
              "      <th>Name</th>\n",
              "    </tr>\n",
              "  </thead>\n",
              "  <tbody>\n",
              "    <tr>\n",
              "      <th>1254</th>\n",
              "      <td>2018-02-01</td>\n",
              "      <td>56.280</td>\n",
              "      <td>56.42</td>\n",
              "      <td>55.89</td>\n",
              "      <td>56.00</td>\n",
              "      <td>14690146</td>\n",
              "      <td>SBUX</td>\n",
              "    </tr>\n",
              "    <tr>\n",
              "      <th>1255</th>\n",
              "      <td>2018-02-02</td>\n",
              "      <td>55.900</td>\n",
              "      <td>56.32</td>\n",
              "      <td>55.70</td>\n",
              "      <td>55.77</td>\n",
              "      <td>15358909</td>\n",
              "      <td>SBUX</td>\n",
              "    </tr>\n",
              "    <tr>\n",
              "      <th>1256</th>\n",
              "      <td>2018-02-05</td>\n",
              "      <td>55.530</td>\n",
              "      <td>56.26</td>\n",
              "      <td>54.57</td>\n",
              "      <td>54.69</td>\n",
              "      <td>16059955</td>\n",
              "      <td>SBUX</td>\n",
              "    </tr>\n",
              "    <tr>\n",
              "      <th>1257</th>\n",
              "      <td>2018-02-06</td>\n",
              "      <td>53.685</td>\n",
              "      <td>56.06</td>\n",
              "      <td>53.56</td>\n",
              "      <td>55.61</td>\n",
              "      <td>17415065</td>\n",
              "      <td>SBUX</td>\n",
              "    </tr>\n",
              "    <tr>\n",
              "      <th>1258</th>\n",
              "      <td>2018-02-07</td>\n",
              "      <td>55.080</td>\n",
              "      <td>55.43</td>\n",
              "      <td>54.44</td>\n",
              "      <td>54.46</td>\n",
              "      <td>13927022</td>\n",
              "      <td>SBUX</td>\n",
              "    </tr>\n",
              "  </tbody>\n",
              "</table>\n",
              "</div>\n",
              "      <button class=\"colab-df-convert\" onclick=\"convertToInteractive('df-084363e5-5830-41e1-ac20-f85d381c0fda')\"\n",
              "              title=\"Convert this dataframe to an interactive table.\"\n",
              "              style=\"display:none;\">\n",
              "        \n",
              "  <svg xmlns=\"http://www.w3.org/2000/svg\" height=\"24px\"viewBox=\"0 0 24 24\"\n",
              "       width=\"24px\">\n",
              "    <path d=\"M0 0h24v24H0V0z\" fill=\"none\"/>\n",
              "    <path d=\"M18.56 5.44l.94 2.06.94-2.06 2.06-.94-2.06-.94-.94-2.06-.94 2.06-2.06.94zm-11 1L8.5 8.5l.94-2.06 2.06-.94-2.06-.94L8.5 2.5l-.94 2.06-2.06.94zm10 10l.94 2.06.94-2.06 2.06-.94-2.06-.94-.94-2.06-.94 2.06-2.06.94z\"/><path d=\"M17.41 7.96l-1.37-1.37c-.4-.4-.92-.59-1.43-.59-.52 0-1.04.2-1.43.59L10.3 9.45l-7.72 7.72c-.78.78-.78 2.05 0 2.83L4 21.41c.39.39.9.59 1.41.59.51 0 1.02-.2 1.41-.59l7.78-7.78 2.81-2.81c.8-.78.8-2.07 0-2.86zM5.41 20L4 18.59l7.72-7.72 1.47 1.35L5.41 20z\"/>\n",
              "  </svg>\n",
              "      </button>\n",
              "      \n",
              "  <style>\n",
              "    .colab-df-container {\n",
              "      display:flex;\n",
              "      flex-wrap:wrap;\n",
              "      gap: 12px;\n",
              "    }\n",
              "\n",
              "    .colab-df-convert {\n",
              "      background-color: #E8F0FE;\n",
              "      border: none;\n",
              "      border-radius: 50%;\n",
              "      cursor: pointer;\n",
              "      display: none;\n",
              "      fill: #1967D2;\n",
              "      height: 32px;\n",
              "      padding: 0 0 0 0;\n",
              "      width: 32px;\n",
              "    }\n",
              "\n",
              "    .colab-df-convert:hover {\n",
              "      background-color: #E2EBFA;\n",
              "      box-shadow: 0px 1px 2px rgba(60, 64, 67, 0.3), 0px 1px 3px 1px rgba(60, 64, 67, 0.15);\n",
              "      fill: #174EA6;\n",
              "    }\n",
              "\n",
              "    [theme=dark] .colab-df-convert {\n",
              "      background-color: #3B4455;\n",
              "      fill: #D2E3FC;\n",
              "    }\n",
              "\n",
              "    [theme=dark] .colab-df-convert:hover {\n",
              "      background-color: #434B5C;\n",
              "      box-shadow: 0px 1px 3px 1px rgba(0, 0, 0, 0.15);\n",
              "      filter: drop-shadow(0px 1px 2px rgba(0, 0, 0, 0.3));\n",
              "      fill: #FFFFFF;\n",
              "    }\n",
              "  </style>\n",
              "\n",
              "      <script>\n",
              "        const buttonEl =\n",
              "          document.querySelector('#df-084363e5-5830-41e1-ac20-f85d381c0fda button.colab-df-convert');\n",
              "        buttonEl.style.display =\n",
              "          google.colab.kernel.accessAllowed ? 'block' : 'none';\n",
              "\n",
              "        async function convertToInteractive(key) {\n",
              "          const element = document.querySelector('#df-084363e5-5830-41e1-ac20-f85d381c0fda');\n",
              "          const dataTable =\n",
              "            await google.colab.kernel.invokeFunction('convertToInteractive',\n",
              "                                                     [key], {});\n",
              "          if (!dataTable) return;\n",
              "\n",
              "          const docLinkHtml = 'Like what you see? Visit the ' +\n",
              "            '<a target=\"_blank\" href=https://colab.research.google.com/notebooks/data_table.ipynb>data table notebook</a>'\n",
              "            + ' to learn more about interactive tables.';\n",
              "          element.innerHTML = '';\n",
              "          dataTable['output_type'] = 'display_data';\n",
              "          await google.colab.output.renderOutput(dataTable, element);\n",
              "          const docLink = document.createElement('div');\n",
              "          docLink.innerHTML = docLinkHtml;\n",
              "          element.appendChild(docLink);\n",
              "        }\n",
              "      </script>\n",
              "    </div>\n",
              "  </div>\n",
              "  "
            ]
          },
          "metadata": {},
          "execution_count": 4
        }
      ]
    },
    {
      "cell_type": "code",
      "source": [
        "plt.plot(df['date'].tail(50),df['open'].tail(50))"
      ],
      "metadata": {
        "colab": {
          "base_uri": "https://localhost:8080/",
          "height": 283
        },
        "id": "4lpmmB19eGuF",
        "outputId": "e18afc11-35c2-48f2-adcc-a7a39fb7a3a6"
      },
      "execution_count": null,
      "outputs": [
        {
          "output_type": "execute_result",
          "data": {
            "text/plain": [
              "[<matplotlib.lines.Line2D at 0x7f634f0803d0>]"
            ]
          },
          "metadata": {},
          "execution_count": 5
        },
        {
          "output_type": "display_data",
          "data": {
            "text/plain": [
              "<Figure size 432x288 with 1 Axes>"
            ],
            "image/png": "[encoded data removed]"
          },
          "metadata": {
            "needs_background": "light"
          }
        }
      ]
    },
    {
      "cell_type": "code",
      "source": [
        "series=df['close'].values.reshape(-1,1)\n",
        "series.shape, df.shape"
      ],
      "metadata": {
        "colab": {
          "base_uri": "https://localhost:8080/"
        },
        "id": "ixs3K5ZxkBJi",
        "outputId": "cba1b238-6191-474d-e060-2257a7424628"
      },
      "execution_count": null,
      "outputs": [
        {
          "output_type": "execute_result",
          "data": {
            "text/plain": [
              "((1259, 1), (1259, 7))"
            ]
          },
          "metadata": {},
          "execution_count": 6
        }
      ]
    },
    {
      "cell_type": "code",
      "source": [
        "#normalize the data\n",
        "scaler=StandardScaler()\n",
        "scaler.fit(series[:len(series)//2])\n",
        "series=scaler.transform(series)"
      ],
      "metadata": {
        "id": "YQ0Nbmj0mYbN"
      },
      "execution_count": null,
      "outputs": []
    },
    {
      "cell_type": "code",
      "source": [
        "#build the dataset\n",
        "T=20\n",
        "D=1\n",
        "X=[]\n",
        "Y=[]\n",
        "\n",
        "for t in range(len(series)-T):\n",
        "  x=series[t:t+T]\n",
        "  X.append(x)\n",
        "  y=series[t+T]\n",
        "  Y.append(y)\n",
        "\n",
        "X=np.array(X).reshape(-1,T,1)\n",
        "Y=np.array(Y).reshape(-1,1)\n",
        "N=len(X)\n",
        "print(\"X.shape,\", X.shape,'Y.shape', Y.shape)"
      ],
      "metadata": {
        "id": "7DHbnOdlmrjH",
        "colab": {
          "base_uri": "https://localhost:8080/"
        },
        "outputId": "05169b48-cbb3-4b26-d841-914c58793c58"
      },
      "execution_count": null,
      "outputs": [
        {
          "output_type": "stream",
          "name": "stdout",
          "text": [
            "X.shape, (1239, 20, 1) Y.shape (1239, 1)\n"
          ]
        }
      ]
    },
    {
      "cell_type": "code",
      "source": [
        "class RNN(nn.Module):\n",
        "  def __init__(self,n_inputs,n_hidden,n_rnnlayers,n_outputs):\n",
        "    super(RNN,self).__init__()\n",
        "    self.D=n_inputs\n",
        "    self.M=n_hidden\n",
        "    self.K=n_outputs\n",
        "    self.L=n_rnnlayers\n",
        "\n",
        "    self.rnn=nn.LSTM(\n",
        "        input_size=self.D,\n",
        "        hidden_size=self.M,\n",
        "        num_layers=self.L,\n",
        "        batch_first=True\n",
        "    )\n",
        "    self.fc=nn.Linear(self.M,self.K)\n",
        "\n",
        "  def forward(self,X):\n",
        "    #initial hidden states\n",
        "    h0=torch.zeros(self.L,X.size(0),self.M).to(device)\n",
        "    c0=torch.zeros(self.L, X.size(0),self.M).to(device)\n",
        "\n",
        "    #get RNN unit output\n",
        "\n",
        "    out,_=self.rnn(X,(h0,c0))\n",
        "\n",
        "    #we only want h(T) at the first time step\n",
        "    out=self.fc(out[:,-1,:])\n",
        "    return out"
      ],
      "metadata": {
        "id": "j4gytRUI-1O-"
      },
      "execution_count": null,
      "outputs": []
    },
    {
      "cell_type": "code",
      "source": [
        "model=RNN(1,5,1,1)"
      ],
      "metadata": {
        "id": "wCJxH3iWUziG"
      },
      "execution_count": null,
      "outputs": []
    },
    {
      "cell_type": "code",
      "source": [
        "device=torch.device('cuda:0' if torch.cuda.is_available() else 'cpu')\n",
        "print(device)\n",
        "model.to(device)"
      ],
      "metadata": {
        "colab": {
          "base_uri": "https://localhost:8080/"
        },
        "id": "RdpmpJd5U5io",
        "outputId": "13f9adcd-65f8-4961-93f3-c5b7166fbe1a"
      },
      "execution_count": null,
      "outputs": [
        {
          "output_type": "stream",
          "name": "stdout",
          "text": [
            "cpu\n"
          ]
        },
        {
          "output_type": "execute_result",
          "data": {
            "text/plain": [
              "RNN(\n",
              "  (rnn): LSTM(1, 5, batch_first=True)\n",
              "  (fc): Linear(in_features=5, out_features=1, bias=True)\n",
              ")"
            ]
          },
          "metadata": {},
          "execution_count": 11
        }
      ]
    },
    {
      "cell_type": "code",
      "source": [
        "#Loss and optimier\n",
        "criterion=nn.MSELoss()\n",
        "optimizer=torch.optim.Adam(model.parameters(), lr=0.1)"
      ],
      "metadata": {
        "id": "jeoIu_KoVF5E"
      },
      "execution_count": null,
      "outputs": []
    },
    {
      "cell_type": "code",
      "source": [
        "#Training\n",
        "def full_gd(\n",
        "    model,\n",
        "    criterion,\n",
        "    optimizer,\n",
        "    X_train,\n",
        "    y_train,\n",
        "    X_test,\n",
        "    y_test,\n",
        "    epochs=200):\n",
        "  \n",
        "  #stuff to store\n",
        "  train_losses=np.zeros(epochs)\n",
        "  test_losses=np.zeros(epochs)\n",
        "\n",
        "  for it in range(epochs):\n",
        "    #first zero the param gradients\n",
        "    optimizer.zero_grad()\n",
        "\n",
        "    #forward pass\n",
        "    outputs=model(X_train)\n",
        "    loss=criterion(outputs,y_train)\n",
        "\n",
        "    #backward and optimize\n",
        "    loss.backward()\n",
        "    optimizer.step()\n",
        "\n",
        "    #save losses\n",
        "    train_losses[it]=loss.item()\n",
        "\n",
        "    #test loss\n",
        "    test_outputs=model(X_test)\n",
        "    test_loss=criterion(test_outputs,y_test)\n",
        "    test_losses[it]=test_loss.item()\n",
        "\n",
        "    if (it+1) % 5 == 0:\n",
        "      print(f\"Epoch {it+1}/{epochs}, Train loss:{loss.item():.4f},test loss:{test_loss.item():.4f}\")\n",
        "\n",
        "  return train_losses, test_losses"
      ],
      "metadata": {
        "id": "S9RyDRNLVSro"
      },
      "execution_count": null,
      "outputs": []
    },
    {
      "cell_type": "code",
      "source": [
        "#make inputs and targets\n",
        "X_train=torch.from_numpy(X[:-N//2].astype(np.float32))\n",
        "y_train=torch.from_numpy(Y[:-N//2].astype(np.float32))\n",
        "X_test=torch.from_numpy(X[N//2:].astype(np.float32))\n",
        "y_test=torch.from_numpy(Y[-N//2:].astype(np.float32))"
      ],
      "metadata": {
        "id": "o35_UKiLXgjz"
      },
      "execution_count": null,
      "outputs": []
    },
    {
      "cell_type": "code",
      "source": [
        "#move data to GPU\n",
        "X_train, y_train=X_train.to(device),y_train.to(device)\n",
        "X_test,y_test=X_test.to(device),y_test.to(device)"
      ],
      "metadata": {
        "id": "Gg6UITYNX3KF"
      },
      "execution_count": null,
      "outputs": []
    },
    {
      "cell_type": "code",
      "source": [
        "train_losses,test_losses= full_gd(\n",
        "    model,\n",
        "    criterion,\n",
        "    optimizer,\n",
        "    X_train,\n",
        "    y_train,\n",
        "    X_test,\n",
        "    y_test)"
      ],
      "metadata": {
        "colab": {
          "base_uri": "https://localhost:8080/"
        },
        "id": "6Aqd21kyYOyA",
        "outputId": "c709a979-4dd0-4257-9b19-51f38981ccd6"
      },
      "execution_count": null,
      "outputs": [
        {
          "output_type": "stream",
          "name": "stdout",
          "text": [
            "Epoch 5/200, Train loss:0.4045,test loss:2.4062\n",
            "Epoch 10/200, Train loss:0.1777,test loss:0.3321\n",
            "Epoch 15/200, Train loss:0.0392,test loss:0.4869\n",
            "Epoch 20/200, Train loss:0.0218,test loss:0.2800\n",
            "Epoch 25/200, Train loss:0.0195,test loss:0.1120\n",
            "Epoch 30/200, Train loss:0.0151,test loss:0.0899\n",
            "Epoch 35/200, Train loss:0.0088,test loss:0.0515\n",
            "Epoch 40/200, Train loss:0.0072,test loss:0.0488\n",
            "Epoch 45/200, Train loss:0.0075,test loss:0.0384\n",
            "Epoch 50/200, Train loss:0.0070,test loss:0.0355\n",
            "Epoch 55/200, Train loss:0.0068,test loss:0.0388\n",
            "Epoch 60/200, Train loss:0.0060,test loss:0.0350\n",
            "Epoch 65/200, Train loss:0.0058,test loss:0.0416\n",
            "Epoch 70/200, Train loss:0.0055,test loss:0.0362\n",
            "Epoch 75/200, Train loss:0.0055,test loss:0.0388\n",
            "Epoch 80/200, Train loss:0.0054,test loss:0.0385\n",
            "Epoch 85/200, Train loss:0.0054,test loss:0.0376\n",
            "Epoch 90/200, Train loss:0.0053,test loss:0.0373\n",
            "Epoch 95/200, Train loss:0.0053,test loss:0.0371\n",
            "Epoch 100/200, Train loss:0.0053,test loss:0.0359\n",
            "Epoch 105/200, Train loss:0.0053,test loss:0.0362\n",
            "Epoch 110/200, Train loss:0.0053,test loss:0.0352\n",
            "Epoch 115/200, Train loss:0.0052,test loss:0.0354\n",
            "Epoch 120/200, Train loss:0.0052,test loss:0.0348\n",
            "Epoch 125/200, Train loss:0.0052,test loss:0.0349\n",
            "Epoch 130/200, Train loss:0.0052,test loss:0.0346\n",
            "Epoch 135/200, Train loss:0.0052,test loss:0.0345\n",
            "Epoch 140/200, Train loss:0.0052,test loss:0.0344\n",
            "Epoch 145/200, Train loss:0.0052,test loss:0.0342\n",
            "Epoch 150/200, Train loss:0.0052,test loss:0.0342\n",
            "Epoch 155/200, Train loss:0.0052,test loss:0.0340\n",
            "Epoch 160/200, Train loss:0.0052,test loss:0.0339\n",
            "Epoch 165/200, Train loss:0.0052,test loss:0.0338\n",
            "Epoch 170/200, Train loss:0.0052,test loss:0.0338\n",
            "Epoch 175/200, Train loss:0.0052,test loss:0.0337\n",
            "Epoch 180/200, Train loss:0.0052,test loss:0.0336\n",
            "Epoch 185/200, Train loss:0.0052,test loss:0.0336\n",
            "Epoch 190/200, Train loss:0.0052,test loss:0.0335\n",
            "Epoch 195/200, Train loss:0.0052,test loss:0.0334\n",
            "Epoch 200/200, Train loss:0.0052,test loss:0.0334\n"
          ]
        }
      ]
    },
    {
      "cell_type": "code",
      "source": [
        "#plot the train loss and test loss per iteration\n",
        "plt.plot(train_losses, label='train loss')\n",
        "plt.plot(test_losses,label='test loss')\n",
        "plt.legend()\n",
        "plt.show()"
      ],
      "metadata": {
        "colab": {
          "base_uri": "https://localhost:8080/",
          "height": 265
        },
        "id": "gAoWy9eGYg4W",
        "outputId": "66c574d0-177a-493e-b61e-379c04af8d35"
      },
      "execution_count": null,
      "outputs": [
        {
          "output_type": "display_data",
          "data": {
            "text/plain": [
              "<Figure size 432x288 with 1 Axes>"
            ],
            "image/png": "[encoded data removed]"
          },
          "metadata": {
            "needs_background": "light"
          }
        }
      ]
    },
    {
      "cell_type": "code",
      "source": [
        "#obtain one step forecast using true targets\n",
        "validation_target=Y\n",
        "validation_predictions=[]\n",
        "\n",
        "#index of first validation input\n",
        "i=0\n",
        "\n",
        "X_on_device=torch.from_numpy(X.astype(np.float32)).to(device)\n",
        "\n",
        "while len(validation_predictions) < len(validation_target):\n",
        "  input_=X_on_device[i].reshape(1,T,1)\n",
        "  p=model(input_)[0,0].item() #1x1 array ->scalar\n",
        "  i +=1\n",
        "\n",
        "  #update the predictioons list\n",
        "  validation_predictions.append(p)"
      ],
      "metadata": {
        "id": "NozmZe6Wb52D"
      },
      "execution_count": null,
      "outputs": []
    },
    {
      "cell_type": "code",
      "source": [
        "plt.plot(validation_target,label='forecast target')\n",
        "plt.plot(validation_predictions,label='forecast prediction')\n",
        "plt.legend()"
      ],
      "metadata": {
        "colab": {
          "base_uri": "https://localhost:8080/",
          "height": 283
        },
        "id": "xuUcJzOAdduS",
        "outputId": "6d37ee83-7bba-46e9-e4dd-387ffd27b862"
      },
      "execution_count": null,
      "outputs": [
        {
          "output_type": "execute_result",
          "data": {
            "text/plain": [
              "<matplotlib.legend.Legend at 0x7f634ea69e20>"
            ]
          },
          "metadata": {},
          "execution_count": 19
        },
        {
          "output_type": "display_data",
          "data": {
            "text/plain": [
              "<Figure size 432x288 with 1 Axes>"
            ],
            "image/png": "[encoded data removed]"
          },
          "metadata": {
            "needs_background": "light"
          }
        }
      ]
    },
    {
      "cell_type": "code",
      "source": [
        "#multi step-forecast\n",
        "validation_target=Y[-N//2:]\n",
        "validation_predictions=[]"
      ],
      "metadata": {
        "id": "L9PVM3Pydq1V"
      },
      "execution_count": null,
      "outputs": []
    },
    {
      "cell_type": "code",
      "source": [
        "N/2 , N//2"
      ],
      "metadata": {
        "colab": {
          "base_uri": "https://localhost:8080/"
        },
        "id": "AKQGiq8Cd48q",
        "outputId": "01b6d39c-9170-433b-947a-6521ff69da08"
      },
      "execution_count": null,
      "outputs": [
        {
          "output_type": "execute_result",
          "data": {
            "text/plain": [
              "(619.5, 619)"
            ]
          },
          "metadata": {},
          "execution_count": 21
        }
      ]
    },
    {
      "cell_type": "code",
      "source": [
        "last_x=X_test[0].view(T)\n",
        "\n",
        "while len(validation_predictions) < len(validation_target):\n",
        "  input_=last_x.reshape(1,T,1)\n",
        "  p=model(input_)\n",
        "\n",
        "  #[0,0] #1x1 array->scalar\n",
        "\n",
        "  #update prediction list\n",
        "  validation_predictions.append(p[0,0].item())\n",
        "\n",
        "  #make new input\n",
        "  last_x=torch.cat((last_x[1:],p[0]))"
      ],
      "metadata": {
        "id": "ydavokKmd6Ft"
      },
      "execution_count": null,
      "outputs": []
    },
    {
      "cell_type": "code",
      "source": [
        "plt.plot(validation_target,label='forecast target')\n",
        "plt.plot(validation_predictions,label='forecast prediction')\n",
        "plt.legend()"
      ],
      "metadata": {
        "colab": {
          "base_uri": "https://localhost:8080/",
          "height": 283
        },
        "id": "CBxnIKUOhsB0",
        "outputId": "220b0538-dcad-4df4-b7ce-f04f207c875d"
      },
      "execution_count": null,
      "outputs": [
        {
          "output_type": "execute_result",
          "data": {
            "text/plain": [
              "<matplotlib.legend.Legend at 0x7f634eac84c0>"
            ]
          },
          "metadata": {},
          "execution_count": 23
        },
        {
          "output_type": "display_data",
          "data": {
            "text/plain": [
              "<Figure size 432x288 with 1 Axes>"
            ],
            "image/png": "[encoded data removed]"
          },
          "metadata": {
            "needs_background": "light"
          }
        }
      ]
    },
    {
      "cell_type": "code",
      "source": [],
      "metadata": {
        "id": "iQQ1I74Ch8_9"
      },
      "execution_count": null,
      "outputs": []
    },
    {
      "cell_type": "markdown",
      "source": [
        "# PART 2 \n",
        "## Stock Return Should be predicted R=Vf-Vi/Vi prices "
      ],
      "metadata": {
        "id": "RGNRwwsyiHjP"
      }
    },
    {
      "cell_type": "code",
      "source": [
        "# shift yesterday closing price alingned with todays closing price \n",
        "# then substract them in a one step to find R returns"
      ],
      "metadata": {
        "id": "1VaqjZt1ipt0"
      },
      "execution_count": null,
      "outputs": []
    },
    {
      "cell_type": "code",
      "source": [
        "#calculate returns by first shifting the data\n",
        "df['PrevClose'] = df['close'].shift(1) #move everything by 1\n",
        "\n",
        "# so now it is like\n",
        "# close /prev close\n",
        "# x[2] x[1]\n",
        "# x[3] x[2]\n",
        "# x[4] x[3]"
      ],
      "metadata": {
        "id": "bUSQx8KFdBVA"
      },
      "execution_count": null,
      "outputs": []
    },
    {
      "cell_type": "code",
      "source": [
        "df.head()"
      ],
      "metadata": {
        "colab": {
          "base_uri": "https://localhost:8080/",
          "height": 206
        },
        "id": "ZeKnWudNdWXQ",
        "outputId": "0f322571-500c-4e6b-fbb1-75feb26487f1"
      },
      "execution_count": null,
      "outputs": [
        {
          "output_type": "execute_result",
          "data": {
            "text/plain": [
              "         date    open    high     low   close   volume  Name  PrevClose\n",
              "0  2013-02-08  27.920  28.325  27.920  28.185  7146296  SBUX        NaN\n",
              "1  2013-02-11  28.260  28.260  27.930  28.070  5457354  SBUX     28.185\n",
              "2  2013-02-12  28.000  28.275  27.975  28.130  8665592  SBUX     28.070\n",
              "3  2013-02-13  28.230  28.230  27.750  27.915  7022056  SBUX     28.130\n",
              "4  2013-02-14  27.765  27.905  27.675  27.775  8899188  SBUX     27.915"
            ],
            "text/html": [
              "\n",
              "  <div id=\"df-f6de1e03-5107-4a3c-89e7-d911e63e4fe6\">\n",
              "    <div class=\"colab-df-container\">\n",
              "      <div>\n",
              "<style scoped>\n",
              "    .dataframe tbody tr th:only-of-type {\n",
              "        vertical-align: middle;\n",
              "    }\n",
              "\n",
              "    .dataframe tbody tr th {\n",
              "        vertical-align: top;\n",
              "    }\n",
              "\n",
              "    .dataframe thead th {\n",
              "        text-align: right;\n",
              "    }\n",
              "</style>\n",
              "<table border=\"1\" class=\"dataframe\">\n",
              "  <thead>\n",
              "    <tr style=\"text-align: right;\">\n",
              "      <th></th>\n",
              "      <th>date</th>\n",
              "      <th>open</th>\n",
              "      <th>high</th>\n",
              "      <th>low</th>\n",
              "      <th>close</th>\n",
              "      <th>volume</th>\n",
              "      <th>Name</th>\n",
              "      <th>PrevClose</th>\n",
              "    </tr>\n",
              "  </thead>\n",
              "  <tbody>\n",
              "    <tr>\n",
              "      <th>0</th>\n",
              "      <td>2013-02-08</td>\n",
              "      <td>27.920</td>\n",
              "      <td>28.325</td>\n",
              "      <td>27.920</td>\n",
              "      <td>28.185</td>\n",
              "      <td>7146296</td>\n",
              "      <td>SBUX</td>\n",
              "      <td>NaN</td>\n",
              "    </tr>\n",
              "    <tr>\n",
              "      <th>1</th>\n",
              "      <td>2013-02-11</td>\n",
              "      <td>28.260</td>\n",
              "      <td>28.260</td>\n",
              "      <td>27.930</td>\n",
              "      <td>28.070</td>\n",
              "      <td>5457354</td>\n",
              "      <td>SBUX</td>\n",
              "      <td>28.185</td>\n",
              "    </tr>\n",
              "    <tr>\n",
              "      <th>2</th>\n",
              "      <td>2013-02-12</td>\n",
              "      <td>28.000</td>\n",
              "      <td>28.275</td>\n",
              "      <td>27.975</td>\n",
              "      <td>28.130</td>\n",
              "      <td>8665592</td>\n",
              "      <td>SBUX</td>\n",
              "      <td>28.070</td>\n",
              "    </tr>\n",
              "    <tr>\n",
              "      <th>3</th>\n",
              "      <td>2013-02-13</td>\n",
              "      <td>28.230</td>\n",
              "      <td>28.230</td>\n",
              "      <td>27.750</td>\n",
              "      <td>27.915</td>\n",
              "      <td>7022056</td>\n",
              "      <td>SBUX</td>\n",
              "      <td>28.130</td>\n",
              "    </tr>\n",
              "    <tr>\n",
              "      <th>4</th>\n",
              "      <td>2013-02-14</td>\n",
              "      <td>27.765</td>\n",
              "      <td>27.905</td>\n",
              "      <td>27.675</td>\n",
              "      <td>27.775</td>\n",
              "      <td>8899188</td>\n",
              "      <td>SBUX</td>\n",
              "      <td>27.915</td>\n",
              "    </tr>\n",
              "  </tbody>\n",
              "</table>\n",
              "</div>\n",
              "      <button class=\"colab-df-convert\" onclick=\"convertToInteractive('df-f6de1e03-5107-4a3c-89e7-d911e63e4fe6')\"\n",
              "              title=\"Convert this dataframe to an interactive table.\"\n",
              "              style=\"display:none;\">\n",
              "        \n",
              "  <svg xmlns=\"http://www.w3.org/2000/svg\" height=\"24px\"viewBox=\"0 0 24 24\"\n",
              "       width=\"24px\">\n",
              "    <path d=\"M0 0h24v24H0V0z\" fill=\"none\"/>\n",
              "    <path d=\"M18.56 5.44l.94 2.06.94-2.06 2.06-.94-2.06-.94-.94-2.06-.94 2.06-2.06.94zm-11 1L8.5 8.5l.94-2.06 2.06-.94-2.06-.94L8.5 2.5l-.94 2.06-2.06.94zm10 10l.94 2.06.94-2.06 2.06-.94-2.06-.94-.94-2.06-.94 2.06-2.06.94z\"/><path d=\"M17.41 7.96l-1.37-1.37c-.4-.4-.92-.59-1.43-.59-.52 0-1.04.2-1.43.59L10.3 9.45l-7.72 7.72c-.78.78-.78 2.05 0 2.83L4 21.41c.39.39.9.59 1.41.59.51 0 1.02-.2 1.41-.59l7.78-7.78 2.81-2.81c.8-.78.8-2.07 0-2.86zM5.41 20L4 18.59l7.72-7.72 1.47 1.35L5.41 20z\"/>\n",
              "  </svg>\n",
              "      </button>\n",
              "      \n",
              "  <style>\n",
              "    .colab-df-container {\n",
              "      display:flex;\n",
              "      flex-wrap:wrap;\n",
              "      gap: 12px;\n",
              "    }\n",
              "\n",
              "    .colab-df-convert {\n",
              "      background-color: #E8F0FE;\n",
              "      border: none;\n",
              "      border-radius: 50%;\n",
              "      cursor: pointer;\n",
              "      display: none;\n",
              "      fill: #1967D2;\n",
              "      height: 32px;\n",
              "      padding: 0 0 0 0;\n",
              "      width: 32px;\n",
              "    }\n",
              "\n",
              "    .colab-df-convert:hover {\n",
              "      background-color: #E2EBFA;\n",
              "      box-shadow: 0px 1px 2px rgba(60, 64, 67, 0.3), 0px 1px 3px 1px rgba(60, 64, 67, 0.15);\n",
              "      fill: #174EA6;\n",
              "    }\n",
              "\n",
              "    [theme=dark] .colab-df-convert {\n",
              "      background-color: #3B4455;\n",
              "      fill: #D2E3FC;\n",
              "    }\n",
              "\n",
              "    [theme=dark] .colab-df-convert:hover {\n",
              "      background-color: #434B5C;\n",
              "      box-shadow: 0px 1px 3px 1px rgba(0, 0, 0, 0.15);\n",
              "      filter: drop-shadow(0px 1px 2px rgba(0, 0, 0, 0.3));\n",
              "      fill: #FFFFFF;\n",
              "    }\n",
              "  </style>\n",
              "\n",
              "      <script>\n",
              "        const buttonEl =\n",
              "          document.querySelector('#df-f6de1e03-5107-4a3c-89e7-d911e63e4fe6 button.colab-df-convert');\n",
              "        buttonEl.style.display =\n",
              "          google.colab.kernel.accessAllowed ? 'block' : 'none';\n",
              "\n",
              "        async function convertToInteractive(key) {\n",
              "          const element = document.querySelector('#df-f6de1e03-5107-4a3c-89e7-d911e63e4fe6');\n",
              "          const dataTable =\n",
              "            await google.colab.kernel.invokeFunction('convertToInteractive',\n",
              "                                                     [key], {});\n",
              "          if (!dataTable) return;\n",
              "\n",
              "          const docLinkHtml = 'Like what you see? Visit the ' +\n",
              "            '<a target=\"_blank\" href=https://colab.research.google.com/notebooks/data_table.ipynb>data table notebook</a>'\n",
              "            + ' to learn more about interactive tables.';\n",
              "          element.innerHTML = '';\n",
              "          dataTable['output_type'] = 'display_data';\n",
              "          await google.colab.output.renderOutput(dataTable, element);\n",
              "          const docLink = document.createElement('div');\n",
              "          docLink.innerHTML = docLinkHtml;\n",
              "          element.appendChild(docLink);\n",
              "        }\n",
              "      </script>\n",
              "    </div>\n",
              "  </div>\n",
              "  "
            ]
          },
          "metadata": {},
          "execution_count": 26
        }
      ]
    },
    {
      "cell_type": "code",
      "source": [
        "df.shape"
      ],
      "metadata": {
        "colab": {
          "base_uri": "https://localhost:8080/"
        },
        "id": "KhlTVZWHdZmf",
        "outputId": "a865137d-b50a-4f23-831b-285123c889b7"
      },
      "execution_count": null,
      "outputs": [
        {
          "output_type": "execute_result",
          "data": {
            "text/plain": [
              "(1259, 8)"
            ]
          },
          "metadata": {},
          "execution_count": 27
        }
      ]
    },
    {
      "cell_type": "code",
      "source": [
        "#the return is \n",
        "#(x[t]-x[t-1])/x[t-1]\n",
        "df['Return']=(df['close']-df['PrevClose'])/df['PrevClose']"
      ],
      "metadata": {
        "id": "YtNChzRjdbLe"
      },
      "execution_count": null,
      "outputs": []
    },
    {
      "cell_type": "code",
      "source": [
        "df.head()"
      ],
      "metadata": {
        "colab": {
          "base_uri": "https://localhost:8080/",
          "height": 206
        },
        "id": "m81fSofUeqSn",
        "outputId": "c6c6dc1b-8dd7-478e-bca0-58cd1584f594"
      },
      "execution_count": null,
      "outputs": [
        {
          "output_type": "execute_result",
          "data": {
            "text/plain": [
              "         date    open    high     low   close   volume  Name  PrevClose  \\\n",
              "0  2013-02-08  27.920  28.325  27.920  28.185  7146296  SBUX        NaN   \n",
              "1  2013-02-11  28.260  28.260  27.930  28.070  5457354  SBUX     28.185   \n",
              "2  2013-02-12  28.000  28.275  27.975  28.130  8665592  SBUX     28.070   \n",
              "3  2013-02-13  28.230  28.230  27.750  27.915  7022056  SBUX     28.130   \n",
              "4  2013-02-14  27.765  27.905  27.675  27.775  8899188  SBUX     27.915   \n",
              "\n",
              "     Return  \n",
              "0       NaN  \n",
              "1 -0.004080  \n",
              "2  0.002138  \n",
              "3 -0.007643  \n",
              "4 -0.005015  "
            ],
            "text/html": [
              "\n",
              "  <div id=\"df-090475bd-3172-4ac8-8ada-30e692afc8fa\">\n",
              "    <div class=\"colab-df-container\">\n",
              "      <div>\n",
              "<style scoped>\n",
              "    .dataframe tbody tr th:only-of-type {\n",
              "        vertical-align: middle;\n",
              "    }\n",
              "\n",
              "    .dataframe tbody tr th {\n",
              "        vertical-align: top;\n",
              "    }\n",
              "\n",
              "    .dataframe thead th {\n",
              "        text-align: right;\n",
              "    }\n",
              "</style>\n",
              "<table border=\"1\" class=\"dataframe\">\n",
              "  <thead>\n",
              "    <tr style=\"text-align: right;\">\n",
              "      <th></th>\n",
              "      <th>date</th>\n",
              "      <th>open</th>\n",
              "      <th>high</th>\n",
              "      <th>low</th>\n",
              "      <th>close</th>\n",
              "      <th>volume</th>\n",
              "      <th>Name</th>\n",
              "      <th>PrevClose</th>\n",
              "      <th>Return</th>\n",
              "    </tr>\n",
              "  </thead>\n",
              "  <tbody>\n",
              "    <tr>\n",
              "      <th>0</th>\n",
              "      <td>2013-02-08</td>\n",
              "      <td>27.920</td>\n",
              "      <td>28.325</td>\n",
              "      <td>27.920</td>\n",
              "      <td>28.185</td>\n",
              "      <td>7146296</td>\n",
              "      <td>SBUX</td>\n",
              "      <td>NaN</td>\n",
              "      <td>NaN</td>\n",
              "    </tr>\n",
              "    <tr>\n",
              "      <th>1</th>\n",
              "      <td>2013-02-11</td>\n",
              "      <td>28.260</td>\n",
              "      <td>28.260</td>\n",
              "      <td>27.930</td>\n",
              "      <td>28.070</td>\n",
              "      <td>5457354</td>\n",
              "      <td>SBUX</td>\n",
              "      <td>28.185</td>\n",
              "      <td>-0.004080</td>\n",
              "    </tr>\n",
              "    <tr>\n",
              "      <th>2</th>\n",
              "      <td>2013-02-12</td>\n",
              "      <td>28.000</td>\n",
              "      <td>28.275</td>\n",
              "      <td>27.975</td>\n",
              "      <td>28.130</td>\n",
              "      <td>8665592</td>\n",
              "      <td>SBUX</td>\n",
              "      <td>28.070</td>\n",
              "      <td>0.002138</td>\n",
              "    </tr>\n",
              "    <tr>\n",
              "      <th>3</th>\n",
              "      <td>2013-02-13</td>\n",
              "      <td>28.230</td>\n",
              "      <td>28.230</td>\n",
              "      <td>27.750</td>\n",
              "      <td>27.915</td>\n",
              "      <td>7022056</td>\n",
              "      <td>SBUX</td>\n",
              "      <td>28.130</td>\n",
              "      <td>-0.007643</td>\n",
              "    </tr>\n",
              "    <tr>\n",
              "      <th>4</th>\n",
              "      <td>2013-02-14</td>\n",
              "      <td>27.765</td>\n",
              "      <td>27.905</td>\n",
              "      <td>27.675</td>\n",
              "      <td>27.775</td>\n",
              "      <td>8899188</td>\n",
              "      <td>SBUX</td>\n",
              "      <td>27.915</td>\n",
              "      <td>-0.005015</td>\n",
              "    </tr>\n",
              "  </tbody>\n",
              "</table>\n",
              "</div>\n",
              "      <button class=\"colab-df-convert\" onclick=\"convertToInteractive('df-090475bd-3172-4ac8-8ada-30e692afc8fa')\"\n",
              "              title=\"Convert this dataframe to an interactive table.\"\n",
              "              style=\"display:none;\">\n",
              "        \n",
              "  <svg xmlns=\"http://www.w3.org/2000/svg\" height=\"24px\"viewBox=\"0 0 24 24\"\n",
              "       width=\"24px\">\n",
              "    <path d=\"M0 0h24v24H0V0z\" fill=\"none\"/>\n",
              "    <path d=\"M18.56 5.44l.94 2.06.94-2.06 2.06-.94-2.06-.94-.94-2.06-.94 2.06-2.06.94zm-11 1L8.5 8.5l.94-2.06 2.06-.94-2.06-.94L8.5 2.5l-.94 2.06-2.06.94zm10 10l.94 2.06.94-2.06 2.06-.94-2.06-.94-.94-2.06-.94 2.06-2.06.94z\"/><path d=\"M17.41 7.96l-1.37-1.37c-.4-.4-.92-.59-1.43-.59-.52 0-1.04.2-1.43.59L10.3 9.45l-7.72 7.72c-.78.78-.78 2.05 0 2.83L4 21.41c.39.39.9.59 1.41.59.51 0 1.02-.2 1.41-.59l7.78-7.78 2.81-2.81c.8-.78.8-2.07 0-2.86zM5.41 20L4 18.59l7.72-7.72 1.47 1.35L5.41 20z\"/>\n",
              "  </svg>\n",
              "      </button>\n",
              "      \n",
              "  <style>\n",
              "    .colab-df-container {\n",
              "      display:flex;\n",
              "      flex-wrap:wrap;\n",
              "      gap: 12px;\n",
              "    }\n",
              "\n",
              "    .colab-df-convert {\n",
              "      background-color: #E8F0FE;\n",
              "      border: none;\n",
              "      border-radius: 50%;\n",
              "      cursor: pointer;\n",
              "      display: none;\n",
              "      fill: #1967D2;\n",
              "      height: 32px;\n",
              "      padding: 0 0 0 0;\n",
              "      width: 32px;\n",
              "    }\n",
              "\n",
              "    .colab-df-convert:hover {\n",
              "      background-color: #E2EBFA;\n",
              "      box-shadow: 0px 1px 2px rgba(60, 64, 67, 0.3), 0px 1px 3px 1px rgba(60, 64, 67, 0.15);\n",
              "      fill: #174EA6;\n",
              "    }\n",
              "\n",
              "    [theme=dark] .colab-df-convert {\n",
              "      background-color: #3B4455;\n",
              "      fill: #D2E3FC;\n",
              "    }\n",
              "\n",
              "    [theme=dark] .colab-df-convert:hover {\n",
              "      background-color: #434B5C;\n",
              "      box-shadow: 0px 1px 3px 1px rgba(0, 0, 0, 0.15);\n",
              "      filter: drop-shadow(0px 1px 2px rgba(0, 0, 0, 0.3));\n",
              "      fill: #FFFFFF;\n",
              "    }\n",
              "  </style>\n",
              "\n",
              "      <script>\n",
              "        const buttonEl =\n",
              "          document.querySelector('#df-090475bd-3172-4ac8-8ada-30e692afc8fa button.colab-df-convert');\n",
              "        buttonEl.style.display =\n",
              "          google.colab.kernel.accessAllowed ? 'block' : 'none';\n",
              "\n",
              "        async function convertToInteractive(key) {\n",
              "          const element = document.querySelector('#df-090475bd-3172-4ac8-8ada-30e692afc8fa');\n",
              "          const dataTable =\n",
              "            await google.colab.kernel.invokeFunction('convertToInteractive',\n",
              "                                                     [key], {});\n",
              "          if (!dataTable) return;\n",
              "\n",
              "          const docLinkHtml = 'Like what you see? Visit the ' +\n",
              "            '<a target=\"_blank\" href=https://colab.research.google.com/notebooks/data_table.ipynb>data table notebook</a>'\n",
              "            + ' to learn more about interactive tables.';\n",
              "          element.innerHTML = '';\n",
              "          dataTable['output_type'] = 'display_data';\n",
              "          await google.colab.output.renderOutput(dataTable, element);\n",
              "          const docLink = document.createElement('div');\n",
              "          docLink.innerHTML = docLinkHtml;\n",
              "          element.appendChild(docLink);\n",
              "        }\n",
              "      </script>\n",
              "    </div>\n",
              "  </div>\n",
              "  "
            ]
          },
          "metadata": {},
          "execution_count": 29
        }
      ]
    },
    {
      "cell_type": "code",
      "source": [
        "plt.plot(df['Return'])"
      ],
      "metadata": {
        "colab": {
          "base_uri": "https://localhost:8080/",
          "height": 283
        },
        "id": "1YoTdj74erwn",
        "outputId": "4342cb5a-50f8-4f2f-8f59-e19ec5427066"
      },
      "execution_count": null,
      "outputs": [
        {
          "output_type": "execute_result",
          "data": {
            "text/plain": [
              "[<matplotlib.lines.Line2D at 0x7f634ea2d070>]"
            ]
          },
          "metadata": {},
          "execution_count": 30
        },
        {
          "output_type": "display_data",
          "data": {
            "text/plain": [
              "<Figure size 432x288 with 1 Axes>"
            ],
            "image/png": "[encoded data removed]"
          },
          "metadata": {
            "needs_background": "light"
          }
        }
      ]
    },
    {
      "cell_type": "code",
      "source": [
        "df['Return'].hist()"
      ],
      "metadata": {
        "colab": {
          "base_uri": "https://localhost:8080/",
          "height": 283
        },
        "id": "JbhZLeD5exi_",
        "outputId": "abd8587e-8838-4403-8612-2be5961c1e10"
      },
      "execution_count": null,
      "outputs": [
        {
          "output_type": "execute_result",
          "data": {
            "text/plain": [
              "<matplotlib.axes._subplots.AxesSubplot at 0x7f634e974520>"
            ]
          },
          "metadata": {},
          "execution_count": 31
        },
        {
          "output_type": "display_data",
          "data": {
            "text/plain": [
              "<Figure size 432x288 with 1 Axes>"
            ],
            "image/png": "[encoded data removed]"
          },
          "metadata": {
            "needs_background": "light"
          }
        }
      ]
    },
    {
      "cell_type": "code",
      "source": [
        "series=df['Return'].values[1:].reshape(-1,1)\n",
        "\n",
        "#normalize the data\n",
        "#Note: I didnt think about where the true boundary is,\n",
        "# this is just approximation\n",
        "scaler=StandardScaler()\n",
        "scaler.fit(series[:len(series)//2])\n",
        "series=scaler.transform(series).flatten()"
      ],
      "metadata": {
        "id": "Pskj_rwIe-GX"
      },
      "execution_count": null,
      "outputs": []
    },
    {
      "cell_type": "code",
      "source": [
        "###build the dataset\n",
        "#lets see if we can use T past values to predict the next value\n",
        "T=20\n",
        "D=1\n",
        "X=[]\n",
        "Y=[]\n",
        "for t in range(len(series)-T):\n",
        "  x=series[t:t+T]\n",
        "  X.append(x)\n",
        "  y=series[t+T]\n",
        "  Y.append(y)\n",
        "\n",
        "X=np.array(X).reshape(-1,T,1)\n",
        "Y=np.array(Y).reshape(-1,1)\n",
        "N=len(X)\n",
        "\n",
        "print(\"X.shape\", X.shape,\"Y.shape\",Y.shape)"
      ],
      "metadata": {
        "colab": {
          "base_uri": "https://localhost:8080/"
        },
        "id": "DuUjuocnfato",
        "outputId": "f463e568-3d29-4948-9f92-cf4d17cc298d"
      },
      "execution_count": null,
      "outputs": [
        {
          "output_type": "stream",
          "name": "stdout",
          "text": [
            "X.shape (1238, 20, 1) Y.shape (1238, 1)\n"
          ]
        }
      ]
    },
    {
      "cell_type": "code",
      "source": [
        "### try autoregressive RNN model\n",
        "model=RNN(1,5,1,1)\n",
        "model.to(device)"
      ],
      "metadata": {
        "colab": {
          "base_uri": "https://localhost:8080/"
        },
        "id": "IFyP_58hgwS4",
        "outputId": "b57d220f-e92b-4c8f-921e-8887e05b48ee"
      },
      "execution_count": null,
      "outputs": [
        {
          "output_type": "execute_result",
          "data": {
            "text/plain": [
              "RNN(\n",
              "  (rnn): LSTM(1, 5, batch_first=True)\n",
              "  (fc): Linear(in_features=5, out_features=1, bias=True)\n",
              ")"
            ]
          },
          "metadata": {},
          "execution_count": 34
        }
      ]
    },
    {
      "cell_type": "code",
      "source": [
        "#Loss and optimizer\n",
        "criterion=nn.MSELoss()\n",
        "optimizer=torch.optim.Adam(model.parameters(),lr=0.01)"
      ],
      "metadata": {
        "id": "PC7Nt7ymhBFn"
      },
      "execution_count": null,
      "outputs": []
    },
    {
      "cell_type": "code",
      "source": [
        "#Make inputs and targets\n",
        "X_train=torch.from_numpy(X[:-N//2].astype(np.float32))\n",
        "y_train=torch.from_numpy(Y[:-N//2].astype(np.float32))\n",
        "X_test=torch.from_numpy(X[-N//2:].astype(np.float32))\n",
        "y_test=torch.from_numpy(Y[-N//2:].astype(np.float32))"
      ],
      "metadata": {
        "id": "_2atGgGKhNn3"
      },
      "execution_count": null,
      "outputs": []
    },
    {
      "cell_type": "code",
      "source": [
        "#move data to GPU\n",
        "X_train, y_train=X_train.to(device), y_train.to(device)\n",
        "X_test, y_test= X_test.to(device), y_test.to(device)"
      ],
      "metadata": {
        "id": "x54h-cqMhxNR"
      },
      "execution_count": null,
      "outputs": []
    },
    {
      "cell_type": "code",
      "source": [
        "train_losses, test_losses= full_gd(\n",
        "    model,\n",
        "    criterion,\n",
        "    optimizer,\n",
        "    X_train,\n",
        "    y_train,\n",
        "    X_test,\n",
        "    y_test\n",
        ")"
      ],
      "metadata": {
        "colab": {
          "base_uri": "https://localhost:8080/"
        },
        "id": "rmoFsXSviBQ5",
        "outputId": "28bd5a84-c2d5-4aaa-bb03-0d3a24330f0f"
      },
      "execution_count": null,
      "outputs": [
        {
          "output_type": "stream",
          "name": "stdout",
          "text": [
            "Epoch 5/200, Train loss:1.0735,test loss:1.0802\n",
            "Epoch 10/200, Train loss:1.0589,test loss:1.0856\n",
            "Epoch 15/200, Train loss:1.0584,test loss:1.0846\n",
            "Epoch 20/200, Train loss:1.0540,test loss:1.0755\n",
            "Epoch 25/200, Train loss:1.0525,test loss:1.0703\n",
            "Epoch 30/200, Train loss:1.0525,test loss:1.0686\n",
            "Epoch 35/200, Train loss:1.0519,test loss:1.0688\n",
            "Epoch 40/200, Train loss:1.0509,test loss:1.0700\n",
            "Epoch 45/200, Train loss:1.0501,test loss:1.0714\n",
            "Epoch 50/200, Train loss:1.0492,test loss:1.0719\n",
            "Epoch 55/200, Train loss:1.0482,test loss:1.0714\n",
            "Epoch 60/200, Train loss:1.0472,test loss:1.0709\n",
            "Epoch 65/200, Train loss:1.0461,test loss:1.0713\n",
            "Epoch 70/200, Train loss:1.0448,test loss:1.0723\n",
            "Epoch 75/200, Train loss:1.0433,test loss:1.0736\n",
            "Epoch 80/200, Train loss:1.0417,test loss:1.0747\n",
            "Epoch 85/200, Train loss:1.0399,test loss:1.0761\n",
            "Epoch 90/200, Train loss:1.0382,test loss:1.0782\n",
            "Epoch 95/200, Train loss:1.0367,test loss:1.0811\n",
            "Epoch 100/200, Train loss:1.0352,test loss:1.0833\n",
            "Epoch 105/200, Train loss:1.0334,test loss:1.0846\n",
            "Epoch 110/200, Train loss:1.0313,test loss:1.0860\n",
            "Epoch 115/200, Train loss:1.0288,test loss:1.0882\n",
            "Epoch 120/200, Train loss:1.0259,test loss:1.0904\n",
            "Epoch 125/200, Train loss:1.0227,test loss:1.0929\n",
            "Epoch 130/200, Train loss:1.0190,test loss:1.0961\n",
            "Epoch 135/200, Train loss:1.0152,test loss:1.0997\n",
            "Epoch 140/200, Train loss:1.0112,test loss:1.1041\n",
            "Epoch 145/200, Train loss:1.0071,test loss:1.1098\n",
            "Epoch 150/200, Train loss:1.0029,test loss:1.1175\n",
            "Epoch 155/200, Train loss:0.9979,test loss:1.1281\n",
            "Epoch 160/200, Train loss:0.9903,test loss:1.1449\n",
            "Epoch 165/200, Train loss:0.9810,test loss:1.1548\n",
            "Epoch 170/200, Train loss:0.9720,test loss:1.1766\n",
            "Epoch 175/200, Train loss:0.9635,test loss:1.2037\n",
            "Epoch 180/200, Train loss:0.9549,test loss:1.2139\n",
            "Epoch 185/200, Train loss:0.9467,test loss:1.2264\n",
            "Epoch 190/200, Train loss:0.9385,test loss:1.2382\n",
            "Epoch 195/200, Train loss:0.9298,test loss:1.2641\n",
            "Epoch 200/200, Train loss:0.9201,test loss:1.2753\n"
          ]
        }
      ]
    },
    {
      "cell_type": "code",
      "source": [
        "#plot the train loss and test loss per interation\n",
        "plt.plot(train_losses,label='train loss')\n",
        "plt.plot(test_losses,label='test loss')\n",
        "plt.legend()\n",
        "plt.show()"
      ],
      "metadata": {
        "colab": {
          "base_uri": "https://localhost:8080/",
          "height": 265
        },
        "id": "6DQlHnIMiPqH",
        "outputId": "0c7c92d3-5afc-49e2-97f4-805d3f17938b"
      },
      "execution_count": null,
      "outputs": [
        {
          "output_type": "display_data",
          "data": {
            "text/plain": [
              "<Figure size 432x288 with 1 Axes>"
            ],
            "image/png": "[encoded data removed]"
          },
          "metadata": {
            "needs_background": "light"
          }
        }
      ]
    },
    {
      "cell_type": "code",
      "source": [
        "# one-step forecast using true targets\n",
        "validation_target=Y\n",
        "validation_predictions=[]\n",
        "\n",
        "#index of first validation input\n",
        "i=0\n",
        "\n",
        "X_on_device=torch.from_numpy(X.astype(np.float32)).to(device)\n",
        "\n",
        "while len(validation_predictions) < len(validation_target):\n",
        "  input_ = X_on_device[i].reshape(1,T,1)\n",
        "\n",
        "  p=model(input_)[0,0].item() #1x1 array ->scalar\n",
        "  i += 1\n",
        "  #update the prediction list\n",
        "  validation_predictions.append(p)\n",
        "\n",
        "  "
      ],
      "metadata": {
        "id": "rSMy29kuqQh7"
      },
      "execution_count": null,
      "outputs": []
    },
    {
      "cell_type": "code",
      "source": [
        "plt.plot(validation_target,label='forecast target')\n",
        "plt.plot(validation_predictions, label='forecast predictions')\n",
        "plt.legend()"
      ],
      "metadata": {
        "colab": {
          "base_uri": "https://localhost:8080/",
          "height": 283
        },
        "id": "dEc-qJNY6rBW",
        "outputId": "dbf11822-4c30-4c56-dcc9-a1bbc27e3391"
      },
      "execution_count": null,
      "outputs": [
        {
          "output_type": "execute_result",
          "data": {
            "text/plain": [
              "<matplotlib.legend.Legend at 0x7f634e81dfd0>"
            ]
          },
          "metadata": {},
          "execution_count": 41
        },
        {
          "output_type": "display_data",
          "data": {
            "text/plain": [
              "<Figure size 432x288 with 1 Axes>"
            ],
            "image/png": "[encoded data removed]"
          },
          "metadata": {
            "needs_background": "light"
          }
        }
      ]
    },
    {
      "cell_type": "code",
      "source": [
        "#multi step forecast\n",
        "validation_target=Y[-N//2:]\n",
        "validation_predictions=[]\n",
        "\n",
        "#last train input\n",
        "last_x= X_test[0].view(T)\n",
        "\n",
        "while len(validation_predictions) < len(validation_target):\n",
        "  input_=last_x.reshape(1,T,1)\n",
        "  p=model(input_)\n",
        "\n",
        "  #[0,0] #1x1 array -> scalar\n",
        "\n",
        "  #update the predictions list\n",
        "\n",
        "  validation_predictions.append(p[0,0].item())\n",
        "\n",
        "  last_x = torch.cat((last_x[1:],p[0]))"
      ],
      "metadata": {
        "id": "eA30jJ3462rx"
      },
      "execution_count": null,
      "outputs": []
    },
    {
      "cell_type": "code",
      "source": [
        "plt.plot(validation_target,label='forecast target')\n",
        "plt.plot(validation_predictions,label='forecast predictions')\n",
        "plt.legend()"
      ],
      "metadata": {
        "colab": {
          "base_uri": "https://localhost:8080/",
          "height": 283
        },
        "id": "hCmK9jUn7pl2",
        "outputId": "c6222948-b5c3-496c-ab68-5ab18b8e0ac3"
      },
      "execution_count": null,
      "outputs": [
        {
          "output_type": "execute_result",
          "data": {
            "text/plain": [
              "<matplotlib.legend.Legend at 0x7f634e791e50>"
            ]
          },
          "metadata": {},
          "execution_count": 43
        },
        {
          "output_type": "display_data",
          "data": {
            "text/plain": [
              "<Figure size 432x288 with 1 Axes>"
            ],
            "image/png": "[encoded data removed]"
          },
          "metadata": {
            "needs_background": "light"
          }
        }
      ]
    },
    {
      "cell_type": "markdown",
      "source": [
        "# Part 3 Binary Classification"
      ],
      "metadata": {
        "id": "4cBZmrSj9_PZ"
      }
    },
    {
      "cell_type": "code",
      "source": [
        "input_data=df[['open', \"high\", \"low\",\"close\",\"volume\"]].values\n",
        "targets=df[\"Return\"].values"
      ],
      "metadata": {
        "id": "LfQamRBW7091"
      },
      "execution_count": null,
      "outputs": []
    },
    {
      "cell_type": "code",
      "source": [
        "T=10 #number of steps to loos at to make\n",
        "D=input_data.shape[1]\n",
        "N=len(input_data)-T"
      ],
      "metadata": {
        "id": "z4B_RxnaKdZQ"
      },
      "execution_count": null,
      "outputs": []
    },
    {
      "cell_type": "code",
      "source": [
        "#normalize the input\n",
        "Ntrain=len(input_data) *2//3\n",
        "scaler=StandardScaler()\n",
        "scaler.fit(input_data[:Ntrain+T-1])\n",
        "input_data=scaler.transform(input_data)"
      ],
      "metadata": {
        "id": "DxQx-LKJKwcI"
      },
      "execution_count": null,
      "outputs": []
    },
    {
      "cell_type": "code",
      "source": [
        "#setup X train and Y train\n",
        "X_train=np.zeros((Ntrain,T,D))\n",
        "Y_train=np.zeros((Ntrain,1))\n",
        "\n",
        "for t in range(Ntrain):\n",
        "  X_train[t,:,:] = input_data[t:t+T]\n",
        "  Y_train[t]=(targets[t+T]>0)"
      ],
      "metadata": {
        "id": "xUg833WHLGVg"
      },
      "execution_count": null,
      "outputs": []
    },
    {
      "cell_type": "code",
      "source": [
        "#setup Xtest and Ytest\n",
        "X_test=np.zeros((N-Ntrain,T,D))\n",
        "Y_test=np.zeros((N-Ntrain,1))\n",
        "\n",
        "for u in range(N-Ntrain):\n",
        "  #u counts from 0 to (N-Ntrain)\n",
        "  # t counts from Ntrain to N\n",
        "  t=u+Ntrain\n",
        "  X_test[u,:,:]= input_data[t:t+T]\n",
        "  Y_test[u]=(targets[t+T]>0)"
      ],
      "metadata": {
        "id": "ZTQ8jlduMSww"
      },
      "execution_count": null,
      "outputs": []
    },
    {
      "cell_type": "code",
      "source": [
        "#make the RNN\n",
        "model=RNN(5,50,2,1)\n",
        "model.to(device)"
      ],
      "metadata": {
        "colab": {
          "base_uri": "https://localhost:8080/"
        },
        "id": "CVBk1GgdNGVI",
        "outputId": "1dd9e08c-1776-4999-cf57-3e3b18bdcf7b"
      },
      "execution_count": null,
      "outputs": [
        {
          "output_type": "execute_result",
          "data": {
            "text/plain": [
              "RNN(\n",
              "  (rnn): LSTM(5, 50, num_layers=2, batch_first=True)\n",
              "  (fc): Linear(in_features=50, out_features=1, bias=True)\n",
              ")"
            ]
          },
          "metadata": {},
          "execution_count": 67
        }
      ]
    },
    {
      "cell_type": "code",
      "source": [
        "#loss and optimizer\n",
        "criterion=nn.BCEWithLogitsLoss()\n",
        "optimizer=torch.optim.Adam(model.parameters(),lr=0.01)"
      ],
      "metadata": {
        "id": "ru4miS-YNkNY"
      },
      "execution_count": null,
      "outputs": []
    },
    {
      "cell_type": "code",
      "source": [
        "#make inputs and targets\n",
        "X_train=torch.from_numpy(X_train.astype(np.float32))\n",
        "y_train=torch.from_numpy(Y_train.astype(np.float32))\n",
        "X_test=torch.from_numpy(X_test.astype(np.float32))\n",
        "y_test=torch.from_numpy(Y_test.astype(np.float32))"
      ],
      "metadata": {
        "id": "key41mt0NzXJ"
      },
      "execution_count": null,
      "outputs": []
    },
    {
      "cell_type": "code",
      "source": [
        "#move data to GPU\n",
        "X_train, y_train= X_train.to(device) ,y_train.to(device)\n",
        "X_test, y_test=X_test.to(device), y_test.to(device)"
      ],
      "metadata": {
        "id": "NJi6gha0ORlC"
      },
      "execution_count": null,
      "outputs": []
    },
    {
      "cell_type": "code",
      "source": [
        "train_losses, test_losses=full_gd(\n",
        "    model,\n",
        "    criterion,\n",
        "    optimizer,\n",
        "    X_train,\n",
        "    y_train,\n",
        "    X_test,\n",
        "    y_test,\n",
        "    epochs=300\n",
        ")"
      ],
      "metadata": {
        "colab": {
          "base_uri": "https://localhost:8080/"
        },
        "id": "wYiHV3WMOg_Z",
        "outputId": "826057cb-d967-4388-fda6-15267cfe71e9"
      },
      "execution_count": null,
      "outputs": [
        {
          "output_type": "stream",
          "name": "stdout",
          "text": [
            "Epoch 5/100, Train loss:0.6912,test loss:0.6924\n",
            "Epoch 10/100, Train loss:0.6894,test loss:0.7442\n",
            "Epoch 15/100, Train loss:0.6887,test loss:0.6895\n",
            "Epoch 20/100, Train loss:0.6864,test loss:0.6993\n",
            "Epoch 25/100, Train loss:0.6819,test loss:0.6908\n",
            "Epoch 30/100, Train loss:0.6792,test loss:0.7012\n",
            "Epoch 35/100, Train loss:0.6755,test loss:0.7003\n",
            "Epoch 40/100, Train loss:0.6675,test loss:0.7026\n",
            "Epoch 45/100, Train loss:0.6546,test loss:0.7133\n",
            "Epoch 50/100, Train loss:0.6399,test loss:0.7275\n",
            "Epoch 55/100, Train loss:0.6256,test loss:0.7418\n",
            "Epoch 60/100, Train loss:0.6005,test loss:0.7617\n",
            "Epoch 65/100, Train loss:0.5846,test loss:0.7724\n",
            "Epoch 70/100, Train loss:0.5528,test loss:0.8031\n",
            "Epoch 75/100, Train loss:0.5247,test loss:0.8466\n",
            "Epoch 80/100, Train loss:0.4767,test loss:0.8662\n",
            "Epoch 85/100, Train loss:0.4536,test loss:0.8875\n",
            "Epoch 90/100, Train loss:0.4440,test loss:0.9526\n",
            "Epoch 95/100, Train loss:0.3936,test loss:1.0485\n",
            "Epoch 100/100, Train loss:0.3666,test loss:1.0987\n"
          ]
        }
      ]
    },
    {
      "cell_type": "code",
      "source": [
        "plt.plot(train_losses, label=\"train loss\")\n",
        "plt.plot(test_losses, label=\"test loss\")\n",
        "plt.legend()\n",
        "plt.show()"
      ],
      "metadata": {
        "colab": {
          "base_uri": "https://localhost:8080/",
          "height": 265
        },
        "id": "2Lxqb7KSOxLo",
        "outputId": "cc4a8040-b58e-421f-f918-a201760106de"
      },
      "execution_count": null,
      "outputs": [
        {
          "output_type": "display_data",
          "data": {
            "text/plain": [
              "<Figure size 432x288 with 1 Axes>"
            ],
            "image/png": "[encoded data removed]"
          },
          "metadata": {
            "needs_background": "light"
          }
        }
      ]
    },
    {
      "cell_type": "code",
      "source": [
        "#get accuracy\n",
        "with torch.no_grad():\n",
        "  p_train=model(X_train)\n",
        "  p_train=(p_train.cpu().numpy()>0)\n",
        "  train_acc=np.mean(y_train.cpu().numpy()==p_train)\n",
        "\n",
        "  p_test=model(X_test)\n",
        "  p_test=(p_test.cpu().numpy()>0)\n",
        "  test_acc=np.mean(y_test.cpu().numpy()==p_test)\n",
        "\n",
        "print(f\"train acc {train_acc:.4f}, test acc: {test_acc:.4f}\")"
      ],
      "metadata": {
        "colab": {
          "base_uri": "https://localhost:8080/"
        },
        "id": "x5k43EY8PEhJ",
        "outputId": "90274250-0940-435b-c4dd-c8e59be0805e"
      },
      "execution_count": null,
      "outputs": [
        {
          "output_type": "stream",
          "name": "stdout",
          "text": [
            "train acc 0.8331, test acc: 0.4951\n"
          ]
        }
      ]
    },
    {
      "cell_type": "code",
      "source": [],
      "metadata": {
        "id": "6KbUyPzfQIlK"
      },
      "execution_count": null,
      "outputs": []
    }
  ]
}